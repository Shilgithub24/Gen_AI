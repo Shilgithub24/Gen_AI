{
 "cells": [
  {
   "cell_type": "code",
   "execution_count": 6,
   "id": "a4a9b781",
   "metadata": {},
   "outputs": [],
   "source": [
    "# Introduction\n",
    "# Designing our first LLM application - ShopAssist AI.\n",
    "\n",
    "#Project Background\n",
    "#Online shopping has become the go-to option for many consumers. \n",
    "#However, the overwhelming number of choices and the lack of personalized assistance can \n",
    "#make the shopping experience daunting. \n",
    "#To address this, we have developed ShopAssist AI, a chatbot that combines the power of \n",
    "#large language models and rule-based functions to ensure accurate and reliable information delivery.\n",
    "\n",
    "#Problem Statement\n",
    "#Given a dataset containing information about laptops \n",
    "#(product names, specifications, descriptions, etc.), build a chatbot \n",
    "#that parses the dataset and provides accurate laptop recommendations based on user requirements."
   ]
  },
  {
   "cell_type": "code",
   "execution_count": 7,
   "id": "c9f08be6",
   "metadata": {},
   "outputs": [
    {
     "name": "stdout",
     "output_type": "stream",
     "text": [
      "Requirement already satisfied: openai in ./anaconda3/lib/python3.11/site-packages (0.28.0)\n",
      "Requirement already satisfied: requests>=2.20 in ./anaconda3/lib/python3.11/site-packages (from openai) (2.31.0)\n",
      "Requirement already satisfied: tqdm in ./anaconda3/lib/python3.11/site-packages (from openai) (4.65.0)\n",
      "Requirement already satisfied: aiohttp in ./anaconda3/lib/python3.11/site-packages (from openai) (3.8.5)\n",
      "Requirement already satisfied: charset-normalizer<4,>=2 in ./anaconda3/lib/python3.11/site-packages (from requests>=2.20->openai) (2.0.4)\n",
      "Requirement already satisfied: idna<4,>=2.5 in ./anaconda3/lib/python3.11/site-packages (from requests>=2.20->openai) (3.4)\n",
      "Requirement already satisfied: urllib3<3,>=1.21.1 in ./anaconda3/lib/python3.11/site-packages (from requests>=2.20->openai) (1.26.16)\n",
      "Requirement already satisfied: certifi>=2017.4.17 in ./anaconda3/lib/python3.11/site-packages (from requests>=2.20->openai) (2023.7.22)\n",
      "Requirement already satisfied: attrs>=17.3.0 in ./anaconda3/lib/python3.11/site-packages (from aiohttp->openai) (22.1.0)\n",
      "Requirement already satisfied: multidict<7.0,>=4.5 in ./anaconda3/lib/python3.11/site-packages (from aiohttp->openai) (6.0.2)\n",
      "Requirement already satisfied: async-timeout<5.0,>=4.0.0a3 in ./anaconda3/lib/python3.11/site-packages (from aiohttp->openai) (4.0.2)\n",
      "Requirement already satisfied: yarl<2.0,>=1.0 in ./anaconda3/lib/python3.11/site-packages (from aiohttp->openai) (1.8.1)\n",
      "Requirement already satisfied: frozenlist>=1.1.1 in ./anaconda3/lib/python3.11/site-packages (from aiohttp->openai) (1.3.3)\n",
      "Requirement already satisfied: aiosignal>=1.1.2 in ./anaconda3/lib/python3.11/site-packages (from aiohttp->openai) (1.2.0)\n"
     ]
    }
   ],
   "source": [
    "#!pip install openai\n",
    "!pip install openai"
   ]
  },
  {
   "cell_type": "code",
   "execution_count": 8,
   "id": "f6873492",
   "metadata": {},
   "outputs": [],
   "source": [
    "import os, json, ast\n",
    "import openai\n",
    "import pandas as pd"
   ]
  },
  {
   "cell_type": "code",
   "execution_count": 9,
   "id": "33f08a9b",
   "metadata": {},
   "outputs": [],
   "source": [
    "import os\n",
    "\n",
    "# Replace '/full/path/to/Shil_testkey.txt' with the actual full path\n",
    "file_path = '/Users/shiladityaghosh/Downloads/api_key.txt'\n",
    "openai.api_key = open(file_path, \"r\").read().strip()\n"
   ]
  },
  {
   "cell_type": "code",
   "execution_count": 10,
   "id": "f4f22663",
   "metadata": {},
   "outputs": [
    {
     "data": {
      "text/html": [
       "<div>\n",
       "<style scoped>\n",
       "    .dataframe tbody tr th:only-of-type {\n",
       "        vertical-align: middle;\n",
       "    }\n",
       "\n",
       "    .dataframe tbody tr th {\n",
       "        vertical-align: top;\n",
       "    }\n",
       "\n",
       "    .dataframe thead th {\n",
       "        text-align: right;\n",
       "    }\n",
       "</style>\n",
       "<table border=\"1\" class=\"dataframe\">\n",
       "  <thead>\n",
       "    <tr style=\"text-align: right;\">\n",
       "      <th></th>\n",
       "      <th>Brand</th>\n",
       "      <th>Model Name</th>\n",
       "      <th>Core</th>\n",
       "      <th>CPU Manufacturer</th>\n",
       "      <th>Clock Speed</th>\n",
       "      <th>RAM Size</th>\n",
       "      <th>Storage Type</th>\n",
       "      <th>Display Type</th>\n",
       "      <th>Display Size</th>\n",
       "      <th>Graphics Processor</th>\n",
       "      <th>Screen Resolution</th>\n",
       "      <th>OS</th>\n",
       "      <th>Laptop Weight</th>\n",
       "      <th>Special Features</th>\n",
       "      <th>Warranty</th>\n",
       "      <th>Average Battery Life</th>\n",
       "      <th>Price</th>\n",
       "      <th>Description</th>\n",
       "    </tr>\n",
       "  </thead>\n",
       "  <tbody>\n",
       "    <tr>\n",
       "      <th>0</th>\n",
       "      <td>Dell</td>\n",
       "      <td>Inspiron</td>\n",
       "      <td>i5</td>\n",
       "      <td>Intel</td>\n",
       "      <td>2.4 GHz</td>\n",
       "      <td>8GB</td>\n",
       "      <td>SSD</td>\n",
       "      <td>LCD</td>\n",
       "      <td>15.6\"</td>\n",
       "      <td>Intel UHD</td>\n",
       "      <td>1920x1080</td>\n",
       "      <td>Windows 10</td>\n",
       "      <td>2.5 kg</td>\n",
       "      <td>Backlit Keyboard</td>\n",
       "      <td>1 year</td>\n",
       "      <td>6 hours</td>\n",
       "      <td>35,000</td>\n",
       "      <td>The Dell Inspiron is a versatile laptop that c...</td>\n",
       "    </tr>\n",
       "    <tr>\n",
       "      <th>1</th>\n",
       "      <td>MSI</td>\n",
       "      <td>GL65</td>\n",
       "      <td>i7</td>\n",
       "      <td>Intel</td>\n",
       "      <td>2.6 GHz</td>\n",
       "      <td>16GB</td>\n",
       "      <td>HDD+SSD</td>\n",
       "      <td>IPS</td>\n",
       "      <td>15.6\"</td>\n",
       "      <td>NVIDIA GTX</td>\n",
       "      <td>1920x1080</td>\n",
       "      <td>Windows 10</td>\n",
       "      <td>2.3 kg</td>\n",
       "      <td>RGB Keyboard</td>\n",
       "      <td>2 years</td>\n",
       "      <td>4 hours</td>\n",
       "      <td>55,000</td>\n",
       "      <td>The MSI GL65 is a high-performance laptop desi...</td>\n",
       "    </tr>\n",
       "    <tr>\n",
       "      <th>2</th>\n",
       "      <td>HP</td>\n",
       "      <td>EliteBook</td>\n",
       "      <td>i7</td>\n",
       "      <td>Intel</td>\n",
       "      <td>2.8 GHz</td>\n",
       "      <td>16GB</td>\n",
       "      <td>SSD</td>\n",
       "      <td>LED</td>\n",
       "      <td>14\"</td>\n",
       "      <td>Intel UHD</td>\n",
       "      <td>1920x1080</td>\n",
       "      <td>Windows 11</td>\n",
       "      <td>1.5 kg</td>\n",
       "      <td>Fingerprint Sensor</td>\n",
       "      <td>3 years</td>\n",
       "      <td>8 hours</td>\n",
       "      <td>90,000</td>\n",
       "      <td>The HP EliteBook is a premium laptop designed ...</td>\n",
       "    </tr>\n",
       "    <tr>\n",
       "      <th>3</th>\n",
       "      <td>Lenovo</td>\n",
       "      <td>IdeaPad</td>\n",
       "      <td>i3</td>\n",
       "      <td>Intel</td>\n",
       "      <td>2.1 GHz</td>\n",
       "      <td>8GB</td>\n",
       "      <td>HDD</td>\n",
       "      <td>TN</td>\n",
       "      <td>15.6\"</td>\n",
       "      <td>Intel UHD</td>\n",
       "      <td>1366x768</td>\n",
       "      <td>Windows 10</td>\n",
       "      <td>2.2 kg</td>\n",
       "      <td>Dolby Audio</td>\n",
       "      <td>1 year</td>\n",
       "      <td>5 hours</td>\n",
       "      <td>25,000</td>\n",
       "      <td>The Lenovo IdeaPad is a versatile laptop that ...</td>\n",
       "    </tr>\n",
       "    <tr>\n",
       "      <th>4</th>\n",
       "      <td>ASUS</td>\n",
       "      <td>ZenBook Pro</td>\n",
       "      <td>i9</td>\n",
       "      <td>Intel</td>\n",
       "      <td>3.1 GHz</td>\n",
       "      <td>64GB</td>\n",
       "      <td>SSD</td>\n",
       "      <td>OLED</td>\n",
       "      <td>15.6\"</td>\n",
       "      <td>NVIDIA RTX</td>\n",
       "      <td>3840x2160</td>\n",
       "      <td>Windows 10</td>\n",
       "      <td>1.8 kg</td>\n",
       "      <td>NanoEdge Display</td>\n",
       "      <td>2 years</td>\n",
       "      <td>7 hours</td>\n",
       "      <td>200,000</td>\n",
       "      <td>The ASUS ZenBook Pro is a high-end laptop that...</td>\n",
       "    </tr>\n",
       "  </tbody>\n",
       "</table>\n",
       "</div>"
      ],
      "text/plain": [
       "    Brand   Model Name Core CPU Manufacturer Clock Speed RAM Size  \\\n",
       "0    Dell     Inspiron   i5            Intel     2.4 GHz      8GB   \n",
       "1     MSI         GL65   i7            Intel     2.6 GHz     16GB   \n",
       "2      HP    EliteBook   i7            Intel     2.8 GHz     16GB   \n",
       "3  Lenovo      IdeaPad   i3            Intel     2.1 GHz      8GB   \n",
       "4    ASUS  ZenBook Pro   i9            Intel     3.1 GHz     64GB   \n",
       "\n",
       "  Storage Type Display Type Display Size Graphics Processor Screen Resolution  \\\n",
       "0          SSD          LCD        15.6\"          Intel UHD         1920x1080   \n",
       "1      HDD+SSD          IPS        15.6\"         NVIDIA GTX         1920x1080   \n",
       "2          SSD          LED          14\"          Intel UHD         1920x1080   \n",
       "3          HDD           TN        15.6\"          Intel UHD          1366x768   \n",
       "4          SSD         OLED        15.6\"         NVIDIA RTX         3840x2160   \n",
       "\n",
       "           OS Laptop Weight    Special Features Warranty Average Battery Life  \\\n",
       "0  Windows 10        2.5 kg    Backlit Keyboard   1 year              6 hours   \n",
       "1  Windows 10        2.3 kg        RGB Keyboard  2 years              4 hours   \n",
       "2  Windows 11        1.5 kg  Fingerprint Sensor  3 years              8 hours   \n",
       "3  Windows 10        2.2 kg         Dolby Audio   1 year              5 hours   \n",
       "4  Windows 10        1.8 kg    NanoEdge Display  2 years              7 hours   \n",
       "\n",
       "     Price                                        Description  \n",
       "0   35,000  The Dell Inspiron is a versatile laptop that c...  \n",
       "1   55,000  The MSI GL65 is a high-performance laptop desi...  \n",
       "2   90,000  The HP EliteBook is a premium laptop designed ...  \n",
       "3   25,000  The Lenovo IdeaPad is a versatile laptop that ...  \n",
       "4  200,000  The ASUS ZenBook Pro is a high-end laptop that...  "
      ]
     },
     "execution_count": 10,
     "metadata": {},
     "output_type": "execute_result"
    }
   ],
   "source": [
    "import pandas as pd\n",
    "df = pd.read_csv('/Users/shiladityaghosh/Downloads/shil_laptop_data2.csv')\n",
    "df.head()"
   ]
  },
  {
   "cell_type": "code",
   "execution_count": 11,
   "id": "d798b43b",
   "metadata": {},
   "outputs": [],
   "source": [
    "#Approach:\n",
    "\n",
    "#Conversation and Information Gathering: \n",
    "#The chatbot will utilize language models to understand and generate natural responses. \n",
    "#Through a conversational flow, it will ask relevant questions to gather information about the user's requirements.\n",
    "\n",
    "#Information Extraction: \n",
    "#Once the essential information is collected, rule-based functions come into play, \n",
    "#extracting top 3 laptops that best matches the user's needs.\n",
    "\n",
    "#Personalized Recommendation: \n",
    "#Leveraging this extracted information, the chatbot engages in further dialogue with the user, \n",
    "#efficiently addressing their queries and aiding them in finding the perfect laptop solution.\n"
   ]
  },
  {
   "cell_type": "code",
   "execution_count": 12,
   "id": "02d5deb3",
   "metadata": {},
   "outputs": [],
   "source": [
    "#Part 2: System Design\n",
    "#Dataset\n",
    "\n",
    "#We have a dataset shil_sample_laptop.csv where each row describes \n",
    "#the features of a single laptop and also has a small description at the end. \n",
    "#The chatbot that we build will leverage LLMs to parse this Description column and provide recommendations\n",
    "\n",
    "#Workings of the Chatbot\n",
    "\n",
    "#Note1 - Don't run this when you go through this section for the first time. \n",
    "#Run this only after running through the rest of the code. \n",
    "#When going through this for the first time, please only go through the output, \n",
    "#to understand the workings of the chatbot\n",
    "\n",
    "#Note2 - The conversation shown here might be different from what you see in the video. \n",
    "#However, the overall structure of the conversation to understand the system design remains the same."
   ]
  },
  {
   "cell_type": "code",
   "execution_count": 13,
   "id": "9513deba",
   "metadata": {},
   "outputs": [
    {
     "ename": "NameError",
     "evalue": "name 'dialogue_mgmt_system' is not defined",
     "output_type": "error",
     "traceback": [
      "\u001b[0;31m---------------------------------------------------------------------------\u001b[0m",
      "\u001b[0;31mNameError\u001b[0m                                 Traceback (most recent call last)",
      "Cell \u001b[0;32mIn[13], line 1\u001b[0m\n\u001b[0;32m----> 1\u001b[0m dialogue_mgmt_system()\n",
      "\u001b[0;31mNameError\u001b[0m: name 'dialogue_mgmt_system' is not defined"
     ]
    }
   ],
   "source": [
    "dialogue_mgmt_system()"
   ]
  },
  {
   "cell_type": "code",
   "execution_count": 14,
   "id": "adb6dd93",
   "metadata": {},
   "outputs": [],
   "source": [
    "#As you could see in the output above, the chatbot should ask a series of questions to\n",
    "#Determine the user's requirments. \n",
    "#For simplicity, we have used 6 features to encapsulate the user's needs. \n",
    "#The 6 features are as follows:\n",
    "\n",
    "#GPU intensity\n",
    "#Display quality\n",
    "#Portability\n",
    "#Multitasking\n",
    "#Processing speed\n",
    "#Budget\n",
    "\n",
    "#Confirm if the user's requirements have been correctly captured at the end.\n",
    "\n",
    "#After that the chatbot lists down the top 3 products that are the most relevant, \n",
    "#and engages in further conversation to help the user find the best one."
   ]
  },
  {
   "cell_type": "code",
   "execution_count": 15,
   "id": "52783e09",
   "metadata": {},
   "outputs": [],
   "source": [
    "#As shown in the image, the chatbot contains the following layers:\n",
    "\n",
    "#Intent Clarity Layer\n",
    "#Intent Confirmation Layer\n",
    "#Product Mapping Layer\n",
    "#Product Information Extraction Layer\n",
    "#Product Recommendation Layer"
   ]
  },
  {
   "cell_type": "code",
   "execution_count": 16,
   "id": "46b4704f",
   "metadata": {},
   "outputs": [],
   "source": [
    "#Major functions behind the Chatbot\n",
    "#Let's now look at a brief overview of the major functions that form the chatbot. \n",
    "\n",
    "#initialize_conversation(): \n",
    "#This initializes the variable conversation with the system message.\n",
    "\n",
    "#get_chat_model_completions(): \n",
    "#This takes the ongoing conversation as the input and returns the response by the assistant\n",
    "\n",
    "#moderation_check(): \n",
    "#This checks if the user's or the assistant's message is inappropriate. \n",
    "#If any of these is inappropriate, it ends the conversation.\n",
    "\n",
    "#intent_confirmation_layer(): \n",
    "#This function takes the assistant's response and evaluates if the chatbot has captured the user's profile clearly. \n",
    "#Specifically, this checks if the following properties for the user has been captured or not \n",
    "#GPU intensity, Display quality, Portability, Multitasking, Processing speed, Budget\n",
    "\n",
    "#dictionary_present(): \n",
    "#This function checks if the final understanding of user's profile is returned by the chatbot \n",
    "#as a python dictionary or not. If there is a dictionary, it extracts the information as a Python dictionary.\n",
    "\n",
    "#compare_laptops_with_user(): \n",
    "#This function compares the user's profile with the different laptops and come back with the top 3 recommendations.\n",
    "\n",
    "#initialize_conv_reco(): Initializes the recommendations conversation\n"
   ]
  },
  {
   "cell_type": "code",
   "execution_count": 17,
   "id": "87e9e3b1",
   "metadata": {},
   "outputs": [],
   "source": [
    "import os,json,ast\n",
    "import openai\n",
    "import pandas as pd"
   ]
  },
  {
   "cell_type": "code",
   "execution_count": 18,
   "id": "0f7b2581",
   "metadata": {},
   "outputs": [],
   "source": [
    "# read the API key\n",
    "openai.api_key = open(\"/Users/shiladityaghosh/Downloads/api_key.txt\", \"r\").read().strip()"
   ]
  },
  {
   "cell_type": "code",
   "execution_count": 19,
   "id": "a4157350",
   "metadata": {},
   "outputs": [],
   "source": [
    "try:\n",
    "    openai.api_key = open(\"/Users/shiladityaghosh/Downloads/api_key.txt\", \"r\").read().strip()\n",
    "except FileNotFoundError:\n",
    "    print(\"Error: File not found.\")"
   ]
  },
  {
   "cell_type": "code",
   "execution_count": 20,
   "id": "d64f27fe",
   "metadata": {},
   "outputs": [],
   "source": [
    "openai.api_key = open(\"/Users/shiladityaghosh/Downloads/api_key.txt\", \"r\").read().strip()"
   ]
  },
  {
   "cell_type": "code",
   "execution_count": 21,
   "id": "03f000f2",
   "metadata": {},
   "outputs": [],
   "source": [
    "#3.2 - Implementing Intent Clarity and Intent Confirmation Layers\n",
    "#Let's start with the first part of the implementation - building the intent clarity and intent confirmation layers.\n",
    "#As mentioned earlier, this layer helps in identifying the user requirements and passing it on to the \n",
    "#product matching layer. Here are the functions that we would be using for building these layers:\n",
    "\n",
    "#initialize_conversation(): \n",
    "#This initializes the variable conversation with the system message. \n",
    "#Using prompt engineering and chain of thought reasoning, the function will enable \n",
    "#the chatbot to keep asking questions until the user requirements have been captured in a dictionary. \n",
    "#It also includes Few Shot Prompting(sample conversation between the user and assistant) to align the \n",
    "#model about user and assistant responses at each step.\n"
   ]
  },
  {
   "cell_type": "code",
   "execution_count": 22,
   "id": "9fad8c03",
   "metadata": {},
   "outputs": [],
   "source": [
    "def initialize_conversation():\n",
    "    '''\n",
    "    Returns a list [{\"role\": \"system\", \"content\": system_message}]\n",
    "    '''\n",
    "\n",
    "    delimiter = \"####\"\n",
    "    example_user_req = {'GPU intensity': 'high','Display quality': 'high','Portability': 'low','Multitasking': 'high','Processing speed': 'high','Budget': '150000'}\n",
    "\n",
    "    system_message = f\"\"\"\n",
    "\n",
    "    You are an intelligent laptop gadget expert and your goal is to find the best laptop for a user.\n",
    "    You need to ask relevant questions and understand the user profile by analysing the user's responses.\n",
    "    You final objective is to fill the values for the different keys ('GPU intensity','Display quality','Portability','Multitasking','Processing speed','Budget') in the python dictionary and be confident of the values.\n",
    "    These key value pairs define the user's profile.\n",
    "    The python dictionary looks like this {{'GPU intensity': 'values','Display quality': 'values','Portability': 'values','Multitasking': 'values','Processing speed': 'values','Budget': 'values'}}\n",
    "    The values for all keys, except 'budget', should be 'low', 'medium', or 'high' based on the importance of the corresponding keys, as stated by user.\n",
    "    The value for 'budget' should be a numerical value extracted from the user's response.\n",
    "    The values currently in the dictionary are only representative values.\n",
    "\n",
    "    {delimiter}Here are some instructions around the values for the different keys. If you do not follow this, you'll be heavily penalised.\n",
    "    - The values for all keys, except 'Budget', should strictly be either 'low', 'medium', or 'high' based on the importance of the corresponding keys, as stated by user.\n",
    "    - The value for 'budget' should be a numerical value extracted from the user's response.\n",
    "    - 'Budget' value needs to be greater than or equal to 25000 INR. If the user says less than that, please mention that there are no laptops in that range.\n",
    "    - Do not randomly assign values to any of the keys. The values need to be inferred from the user's response.\n",
    "    {delimiter}\n",
    "\n",
    "    To fill the dictionary, you need to have the following chain of thoughts:\n",
    "    {delimiter} Thought 1: Ask a question to understand the user's profile and requirements. \\n\n",
    "    If their primary use for the laptop is unclear. Ask another question to comprehend their needs.\n",
    "    You are trying to fill the values of all the keys ('GPU intensity','Display quality','Portability','Multitasking','Processing speed','Budget') in the python dictionary by understanding the user requirements.\n",
    "    Identify the keys for which you can fill the values confidently using the understanding. \\n\n",
    "    Remember the instructions around the values for the different keys.\n",
    "    Answer \"Yes\" or \"No\" to indicate if you understand the requirements and have updated the values for the relevant keys. \\n\n",
    "    If yes, proceed to the next step. Otherwise, rephrase the question to capture their profile. \\n{delimiter}\n",
    "\n",
    "    {delimiter}Thought 2: Now, you are trying to fill the values for the rest of the keys which you couldn't in the previous step.\n",
    "    Remember the instructions around the values for the different keys. Ask questions you might have for all the keys to strengthen your understanding of the user's profile.\n",
    "    Answer \"Yes\" or \"No\" to indicate if you understood all the values for the keys and are confident about the same.\n",
    "    If yes, move to the next Thought. If no, ask question on the keys whose values you are unsure of. \\n\n",
    "    It is a good practice to ask question with a sound logic as opposed to directly citing the key you want to understand value for.{delimiter}\n",
    "\n",
    "    {delimiter}Thought 3: Check if you have correctly updated the values for the different keys in the python dictionary.\n",
    "    If you are not confident about any of the values, ask clarifying questions. {delimiter}\n",
    "\n",
    "    Follow the above chain of thoughts and only output the final updated python dictionary. \\n\n",
    "\n",
    "\n",
    "    {delimiter} Here is a sample conversation between the user and assistant:\n",
    "    User: \"Hi, I am an editor.\"\n",
    "    Assistant: \"Great! As an editor, you likely require a laptop that can handle demanding tasks. Hence, the laptop should have high multitasking capability. You would also need a high end display for better visuals and editing. May I know what kind of work do you primarily focus on? Are you more involved in video editing, photo editing, or both? Understanding the specific type of editing work will help me tailor my recommendations accordingly. Let me know if my understanding is correct until now.\"\n",
    "    User: \"I primarily work with After Effects.\"\n",
    "    Assistant: \"Thank you for providing that information. Working with After Effects involves working with graphics, animations, and rendering, which will require high GPU. Do you work with high-resolution media files, such as 4K videos or RAW photos? Understanding your file sizes will help determine the storage capacity and processing power needed.\"\n",
    "    User: \"Yes, sometimes I work with 4K videos as well.\"\n",
    "    Assistant: \"Thank you for the information. Processing 4K vidoes will require a good processor and high GPU. I think we have already determined earlier that you need a high GPU. To ensure I have a complete understanding of your needs, I have one more question: Are you frequently on the go and require a laptop that is lightweight and easy to carry, or do you primarily work from a stationary location?\"\n",
    "    User: \"Yes, sometimes I travel but do not carry my laptop.\"\n",
    "    Assistant:\"Could you kindly let me know your budget for the laptop? This will help me find options that fit within your price range while meeting the specified requirements.\"\n",
    "    User: \"my max budget is 1.5lakh inr\"\n",
    "    Assistant: \"{example_user_req}\"\n",
    "    {delimiter}\n",
    "\n",
    "    Start with a short welcome message and encourage the user to share their requirements.\n",
    "    \"\"\"\n",
    "    conversation = [{\"role\": \"system\", \"content\": system_message}]\n",
    "    return conversation"
   ]
  },
  {
   "cell_type": "code",
   "execution_count": 23,
   "id": "fd48fa67",
   "metadata": {},
   "outputs": [
    {
     "name": "stdout",
     "output_type": "stream",
     "text": [
      "[{'role': 'system', 'content': '\\n\\n    You are an intelligent laptop gadget expert and your goal is to find the best laptop for a user.\\n    You need to ask relevant questions and understand the user profile by analysing the user\\'s responses.\\n    You final objective is to fill the values for the different keys (\\'GPU intensity\\',\\'Display quality\\',\\'Portability\\',\\'Multitasking\\',\\'Processing speed\\',\\'Budget\\') in the python dictionary and be confident of the values.\\n    These key value pairs define the user\\'s profile.\\n    The python dictionary looks like this {\\'GPU intensity\\': \\'values\\',\\'Display quality\\': \\'values\\',\\'Portability\\': \\'values\\',\\'Multitasking\\': \\'values\\',\\'Processing speed\\': \\'values\\',\\'Budget\\': \\'values\\'}\\n    The values for all keys, except \\'budget\\', should be \\'low\\', \\'medium\\', or \\'high\\' based on the importance of the corresponding keys, as stated by user.\\n    The value for \\'budget\\' should be a numerical value extracted from the user\\'s response.\\n    The values currently in the dictionary are only representative values.\\n\\n    ####Here are some instructions around the values for the different keys. If you do not follow this, you\\'ll be heavily penalised.\\n    - The values for all keys, except \\'Budget\\', should strictly be either \\'low\\', \\'medium\\', or \\'high\\' based on the importance of the corresponding keys, as stated by user.\\n    - The value for \\'budget\\' should be a numerical value extracted from the user\\'s response.\\n    - \\'Budget\\' value needs to be greater than or equal to 25000 INR. If the user says less than that, please mention that there are no laptops in that range.\\n    - Do not randomly assign values to any of the keys. The values need to be inferred from the user\\'s response.\\n    ####\\n\\n    To fill the dictionary, you need to have the following chain of thoughts:\\n    #### Thought 1: Ask a question to understand the user\\'s profile and requirements. \\n\\n    If their primary use for the laptop is unclear. Ask another question to comprehend their needs.\\n    You are trying to fill the values of all the keys (\\'GPU intensity\\',\\'Display quality\\',\\'Portability\\',\\'Multitasking\\',\\'Processing speed\\',\\'Budget\\') in the python dictionary by understanding the user requirements.\\n    Identify the keys for which you can fill the values confidently using the understanding. \\n\\n    Remember the instructions around the values for the different keys.\\n    Answer \"Yes\" or \"No\" to indicate if you understand the requirements and have updated the values for the relevant keys. \\n\\n    If yes, proceed to the next step. Otherwise, rephrase the question to capture their profile. \\n####\\n\\n    ####Thought 2: Now, you are trying to fill the values for the rest of the keys which you couldn\\'t in the previous step.\\n    Remember the instructions around the values for the different keys. Ask questions you might have for all the keys to strengthen your understanding of the user\\'s profile.\\n    Answer \"Yes\" or \"No\" to indicate if you understood all the values for the keys and are confident about the same.\\n    If yes, move to the next Thought. If no, ask question on the keys whose values you are unsure of. \\n\\n    It is a good practice to ask question with a sound logic as opposed to directly citing the key you want to understand value for.####\\n\\n    ####Thought 3: Check if you have correctly updated the values for the different keys in the python dictionary.\\n    If you are not confident about any of the values, ask clarifying questions. ####\\n\\n    Follow the above chain of thoughts and only output the final updated python dictionary. \\n\\n\\n\\n    #### Here is a sample conversation between the user and assistant:\\n    User: \"Hi, I am an editor.\"\\n    Assistant: \"Great! As an editor, you likely require a laptop that can handle demanding tasks. Hence, the laptop should have high multitasking capability. You would also need a high end display for better visuals and editing. May I know what kind of work do you primarily focus on? Are you more involved in video editing, photo editing, or both? Understanding the specific type of editing work will help me tailor my recommendations accordingly. Let me know if my understanding is correct until now.\"\\n    User: \"I primarily work with After Effects.\"\\n    Assistant: \"Thank you for providing that information. Working with After Effects involves working with graphics, animations, and rendering, which will require high GPU. Do you work with high-resolution media files, such as 4K videos or RAW photos? Understanding your file sizes will help determine the storage capacity and processing power needed.\"\\n    User: \"Yes, sometimes I work with 4K videos as well.\"\\n    Assistant: \"Thank you for the information. Processing 4K vidoes will require a good processor and high GPU. I think we have already determined earlier that you need a high GPU. To ensure I have a complete understanding of your needs, I have one more question: Are you frequently on the go and require a laptop that is lightweight and easy to carry, or do you primarily work from a stationary location?\"\\n    User: \"Yes, sometimes I travel but do not carry my laptop.\"\\n    Assistant:\"Could you kindly let me know your budget for the laptop? This will help me find options that fit within your price range while meeting the specified requirements.\"\\n    User: \"my max budget is 1.5lakh inr\"\\n    Assistant: \"{\\'GPU intensity\\': \\'high\\', \\'Display quality\\': \\'high\\', \\'Portability\\': \\'low\\', \\'Multitasking\\': \\'high\\', \\'Processing speed\\': \\'high\\', \\'Budget\\': \\'150000\\'}\"\\n    ####\\n\\n    Start with a short welcome message and encourage the user to share their requirements.\\n    '}]\n"
     ]
    }
   ],
   "source": [
    "debug_conversation = initialize_conversation()\n",
    "print(debug_conversation)"
   ]
  },
  {
   "cell_type": "code",
   "execution_count": 24,
   "id": "7fca3898",
   "metadata": {},
   "outputs": [],
   "source": [
    "#Let's now look at the next function.\n",
    "\n",
    "#get_chat_model_completions(): \n",
    "#This takes the ongoing conversation as the input and returns the response by the assistant"
   ]
  },
  {
   "cell_type": "code",
   "execution_count": 25,
   "id": "1cce0a88",
   "metadata": {},
   "outputs": [],
   "source": [
    "# recall that messages is a list of dicts\n",
    "# [{\"role\": \"system\", \"content\": system_message},\n",
    "# {\"role\": \"user\", \"content\": user_input},\n",
    "# {\"role\": \"assistant\", \"content\": assistant_message}]"
   ]
  },
  {
   "cell_type": "code",
   "execution_count": 26,
   "id": "72e1befb",
   "metadata": {},
   "outputs": [],
   "source": [
    "def get_chat_model_completions(messages):\n",
    "    response = openai.ChatCompletion.create(\n",
    "        model=\"gpt-3.5-turbo\",\n",
    "        messages=messages,\n",
    "        temperature=0, # this is the degree of randomness of the model's output\n",
    "        # max_tokens = 3000\n",
    "    )\n",
    "    return response.choices[0].message[\"content\"]"
   ]
  },
  {
   "cell_type": "code",
   "execution_count": 27,
   "id": "d1b5f262",
   "metadata": {},
   "outputs": [],
   "source": [
    "#Let's pass the initialized conversation debug_conversation and see what is the assistant's response."
   ]
  },
  {
   "cell_type": "code",
   "execution_count": 28,
   "id": "808dc2a6",
   "metadata": {},
   "outputs": [
    {
     "name": "stdout",
     "output_type": "stream",
     "text": [
      "Assistant: \"Hi there! I'm an intelligent laptop gadget expert and I'm here to help you find the best laptop for your needs. Please tell me a little bit about yourself and what you'll be using the laptop for.\"\n"
     ]
    }
   ],
   "source": [
    "debug_introduction = get_chat_model_completions(debug_conversation)\n",
    "print(debug_introduction)"
   ]
  },
  {
   "cell_type": "code",
   "execution_count": 29,
   "id": "ea6f5d13",
   "metadata": {},
   "outputs": [],
   "source": [
    "#Let's play around a bit and add the following user's input \n",
    "#debug_user_input to the conversation debug_conversation and see what the assistant responds with."
   ]
  },
  {
   "cell_type": "code",
   "execution_count": 30,
   "id": "a7afc001",
   "metadata": {},
   "outputs": [],
   "source": [
    "debug_user_input = \"Hi, I am Shil. I need a laptop for coding.\""
   ]
  },
  {
   "cell_type": "code",
   "execution_count": 31,
   "id": "abbf5544",
   "metadata": {},
   "outputs": [
    {
     "name": "stdout",
     "output_type": "stream",
     "text": [
      "Great! As a coder, you likely require a laptop that can handle multitasking and has a good processing speed. May I know what kind of coding work do you primarily focus on? Are you more involved in web development, data analysis, or software development? Understanding the specific type of coding work will help me tailor my recommendations accordingly. Let me know if my understanding is correct until now.\n"
     ]
    }
   ],
   "source": [
    "debug_conversation.append({\"role\": \"user\", \"content\": debug_user_input})\n",
    "debug_response_assistant = get_chat_model_completions(debug_conversation)\n",
    "print(debug_response_assistant)"
   ]
  },
  {
   "cell_type": "code",
   "execution_count": 32,
   "id": "6c75700d",
   "metadata": {},
   "outputs": [],
   "source": [
    "#Typically, whenever the chatbot is interacting with the user, \n",
    "#all the conversations should be moderated to identify any inappropriate content. \n",
    "#Let's look at the function that can help with it.\n",
    "\n",
    "#moderation_check(): \n",
    "#This checks if the user's or the assistant's message is inappropriate. \n",
    "#If any of these is inappropriate, you can add a break statement to end the conversation."
   ]
  },
  {
   "cell_type": "code",
   "execution_count": 33,
   "id": "2a1a6688",
   "metadata": {},
   "outputs": [],
   "source": [
    "def moderation_check(user_input):\n",
    "    response = openai.Moderation.create(input=user_input)\n",
    "    moderation_output = response[\"results\"][0]\n",
    "    if moderation_output[\"flagged\"] == True:\n",
    "        return \"Flagged\"\n",
    "    else:\n",
    "        return \"Not Flagged\""
   ]
  },
  {
   "cell_type": "code",
   "execution_count": 34,
   "id": "1974743f",
   "metadata": {},
   "outputs": [
    {
     "name": "stdout",
     "output_type": "stream",
     "text": [
      "Not Flagged\n"
     ]
    }
   ],
   "source": [
    "#Let's test moderation on the debug_user_input\n",
    "debug_moderation = moderation_check(debug_user_input)\n",
    "print(debug_moderation)"
   ]
  },
  {
   "cell_type": "code",
   "execution_count": 35,
   "id": "798b9ad7",
   "metadata": {},
   "outputs": [
    {
     "name": "stdout",
     "output_type": "stream",
     "text": [
      "Flagged\n",
      "Not Flagged\n"
     ]
    }
   ],
   "source": [
    "#Let's now test moderation on some other text.\n",
    "print(moderation_check(\"I want to kill Ravan.\"))\n",
    "print(moderation_check(\"I need a laptop to hack NASA.\"))"
   ]
  },
  {
   "cell_type": "code",
   "execution_count": 36,
   "id": "ce6bc408",
   "metadata": {},
   "outputs": [
    {
     "data": {
      "text/plain": [
       "'Not Flagged'"
      ]
     },
     "execution_count": 36,
     "metadata": {},
     "output_type": "execute_result"
    }
   ],
   "source": [
    "#So, this moderation api may not be perfect but if you ask this to the ChatGPT or it's API (GPT 3.5), \n",
    "#it'll not help you with such requests. Remember, moderation should also be applied on the GPT 3.5's output.\n",
    "\n",
    "#Let's now check moderation on the assistant's response debug_response_assistant.\n",
    "moderation_check(debug_response_assistant)"
   ]
  },
  {
   "cell_type": "code",
   "execution_count": 37,
   "id": "e086b9a1",
   "metadata": {},
   "outputs": [],
   "source": [
    "#As mentioned earlier, you need to understand the user's profile, \n",
    "#which essentially means that all the features: \n",
    "#GPU intensity, Display quality, Portability, Multitasking, Processing speed, Budget are captured or not. \n",
    "#Let's look at the function that helps us verify that.\n",
    "\n",
    "#intent_confirmation_layer(): \n",
    "#This function takes the assistant's response and evaluates \n",
    "#if the chatbot has captured the user's profile clearly. \n",
    "#Specifically, this checks if the following properties for the user has been captured or not\n",
    "\n",
    "#GPU intensity\n",
    "#Display quality\n",
    "#Portability\n",
    "#Multitasking\n",
    "#Processing speed\n",
    "#Budget"
   ]
  },
  {
   "cell_type": "code",
   "execution_count": 38,
   "id": "9020c16c",
   "metadata": {},
   "outputs": [],
   "source": [
    "def intent_confirmation_layer(response_assistant):\n",
    "    delimiter = \"####\"\n",
    "    prompt = f\"\"\"\n",
    "    You are a senior evaluator who has an eye for detail.\n",
    "    You are provided an input. You need to evaluate if the input has the following keys: 'GPU intensity','Display quality','Portability','Multitasking',' Processing speed','Budget'\n",
    "    Next you need to evaluate if the keys have the the values filled correctly.\n",
    "    The values for all keys, except 'budget', should be 'low', 'medium', or 'high' based on the importance as stated by user. The value for the key 'budget' needs to contain a number with currency.\n",
    "    Output a string 'Yes' if the input contains the dictionary with the values correctly filled for all keys.\n",
    "    Otherwise out the string 'No'.\n",
    "\n",
    "    Here is the input: {response_assistant}\n",
    "    Only output a one-word string - Yes/No.\n",
    "    \"\"\"\n",
    "\n",
    "\n",
    "    confirmation = openai.Completion.create(\n",
    "                                    model=\"text-davinci-003\",\n",
    "                                    prompt = prompt,\n",
    "                                    temperature=0)\n",
    "\n",
    "\n",
    "    return confirmation[\"choices\"][0][\"text\"]"
   ]
  },
  {
   "cell_type": "code",
   "execution_count": 39,
   "id": "9d62bd35",
   "metadata": {},
   "outputs": [],
   "source": [
    "# Here are some sample input output pairs for better understanding:\n",
    "#     {delimiter}\n",
    "#     input: \"{{'GPU intensity': 'low', 'Display quality': 'high', 'Portability': 'low', 'Multitasking': 'high', 'Processing speed': 'low'}}\"\n",
    "#     output: No\n",
    "\n",
    "#     input: \"{{'GPU intensity': 'low', 'Display quality': 'high', 'Portability': 'low', 'Multitasking': 'high', 'Processing speed': '', 'Budget': '90000'}}\"\n",
    "#     output: No\n",
    "\n",
    "#     input: \"Here is your user profile 'GPU intensity': 'high','Display quality': 'high','Portability': 'medium','Multitasking': 'low','Processing speed': 'high','Budget': '200000'\"\n",
    "#     output: Yes\n",
    "\n",
    "#     input: \"Here is your recommendation {{'GPU intensity': 'low', 'Display quality': 'high', 'Portability': 'low', 'Multitasking': 'high', 'Processing speed': 'low', 'Budget': '90000'}}\"\n",
    "#     output: Yes\n",
    "\n",
    "#     input: \"Here is your recommendation - 'GPU intensity': 'high' - 'Display quality': 'low' - 'Portability': 'low'  - 'Multitasking': 'high' - 'Processing speed': 'high' - 'Budget': '90000' \"\n",
    "#     output: Yes\n",
    "\n",
    "#     input: \"You can look at this - GPU intensity: high - Display quality: low - Portability: low  - Multitasking: high - Processing speed: high - Budget: 90000\"\n",
    "#     output: Yes\n",
    "\n",
    "#     input: \"{{GPU intensity: low, Display quality: high, Portability: low, Multitasking:high,Processing speed: Low, Budget: 70000}}\"\n",
    "#     output: No\n",
    "\n",
    "#     {delimiter}"
   ]
  },
  {
   "cell_type": "code",
   "execution_count": 40,
   "id": "e54e7fca",
   "metadata": {},
   "outputs": [],
   "source": [
    "#Let's apply the function to the assistant's reponse and see if it has captured the user profile."
   ]
  },
  {
   "cell_type": "code",
   "execution_count": 41,
   "id": "104c457e",
   "metadata": {},
   "outputs": [
    {
     "name": "stdout",
     "output_type": "stream",
     "text": [
      "\n",
      "No\n"
     ]
    }
   ],
   "source": [
    "debug_confirmation = intent_confirmation_layer(debug_response_assistant)\n",
    "print(debug_confirmation)"
   ]
  },
  {
   "cell_type": "code",
   "execution_count": 42,
   "id": "fe836aef",
   "metadata": {},
   "outputs": [],
   "source": [
    "#Now, you can keep adding user and assistant responses to debug_conversation \n",
    "#and get to a point where intent_confirmation_layer() gives yes as a response. \n",
    "#Let's see if the following response by the assistant passes the intent_confirmation_layer() test."
   ]
  },
  {
   "cell_type": "code",
   "execution_count": 43,
   "id": "45978f60",
   "metadata": {},
   "outputs": [],
   "source": [
    "#Let's add the above assistant response to the debug_conversation.\n",
    "debug_conversation.append({\"role\": \"assistant\", \"content\": debug_response_assistant})"
   ]
  },
  {
   "cell_type": "code",
   "execution_count": 44,
   "id": "1a14aea6",
   "metadata": {},
   "outputs": [],
   "source": [
    "#Let's say that after a series of conversations you get the following response from the assistant."
   ]
  },
  {
   "cell_type": "code",
   "execution_count": 45,
   "id": "586bcda5",
   "metadata": {},
   "outputs": [],
   "source": [
    "debug_response_assistant_n = f\"\"\"\n",
    "\n",
    "Based on the information you have provided, I have updated the values in the dictionary as follows:\n",
    "\n",
    "{{'GPU intensity': 'low', 'Display quality': 'high', 'Portability': 'low', 'Multitasking': 'high', 'Processing speed': 'low', 'Budget': '90000'}}\n",
    "\n",
    "Please note that the values for 'Display quality' and 'Portability' are set to 'low' since they are not a priority for your coding tasks.\n",
    "\n",
    "Is there anything else I can assist you with?\n",
    "\"\"\"\n",
    "#Note that you are using double curly braces"
   ]
  },
  {
   "cell_type": "code",
   "execution_count": 46,
   "id": "08426ac2",
   "metadata": {},
   "outputs": [],
   "source": [
    "#Do you think it'll pass the intent_confirmation_layer() test? Let's try it out."
   ]
  },
  {
   "cell_type": "code",
   "execution_count": 47,
   "id": "7445772a",
   "metadata": {},
   "outputs": [
    {
     "data": {
      "text/plain": [
       "'\\nYes'"
      ]
     },
     "execution_count": 47,
     "metadata": {},
     "output_type": "execute_result"
    }
   ],
   "source": [
    "intent_confirmation_layer(debug_response_assistant_n)"
   ]
  },
  {
   "cell_type": "code",
   "execution_count": 48,
   "id": "205a8afe",
   "metadata": {},
   "outputs": [],
   "source": [
    "#Let's now look at the working of dictionary_present().\n",
    "\n",
    "#dictionary_present(): \n",
    "#This function checks if the final understanding of user's profile is returned \n",
    "#by the chatbot is a Python dictionary or not. \n",
    "#This is important as it'll be used later on for finding the right laptops using dictionary matching."
   ]
  },
  {
   "cell_type": "code",
   "execution_count": 49,
   "id": "29a5762f",
   "metadata": {},
   "outputs": [],
   "source": [
    "def dictionary_present(response):\n",
    "    delimiter = \"####\"\n",
    "    user_req = {'GPU intensity': 'high','Display quality': 'high','Portability': 'medium','Multitasking': 'high','Processing speed': 'high','Budget': '200000 INR'}\n",
    "    prompt = f\"\"\"You are a python expert. You are provided an input.\n",
    "            You have to check if there is a python dictionary present in the string.\n",
    "            It will have the following format {user_req}.\n",
    "            Your task is to just extract and return only the python dictionary from the input.\n",
    "            The output should match the format as {user_req}.\n",
    "            The output should contain the exact keys and values as present in the input.\n",
    "\n",
    "            Here are some sample input output pairs for better understanding:\n",
    "            {delimiter}\n",
    "            input: - GPU intensity: low - Display quality: high - Portability: low - Multitasking: high - Processing speed: medium - Budget: 50,000 INR\n",
    "            output: {{'GPU intensity': 'low', 'Display quality': 'high', 'Portability': 'low', 'Multitasking': 'high', 'Processing speed': 'medium', 'Budget': '50000'}}\n",
    "\n",
    "            input: {{'GPU intensity':     'low', 'Display quality':     'high', 'Portability':    'low', 'Multitasking': 'high', 'Processing speed': 'medium', 'Budget': '90,000'}}\n",
    "            output: {{'GPU intensity': 'low', 'Display quality': 'high', 'Portability': 'low', 'Multitasking': 'high', 'Processing speed': 'medium', 'Budget': '90000'}}\n",
    "\n",
    "            input: Here is your user profile 'GPU intensity': 'high','Display quality': 'high','Portability': 'medium','Multitasking': 'low','Processing speed': 'high','Budget': '200000 INR'\n",
    "            output: {{'GPU intensity': 'high','Display quality': 'high','Portability': 'medium','Multitasking': 'high','Processing speed': 'low','Budget': '200000'}}\n",
    "            {delimiter}\n",
    "\n",
    "            Here is the input {response}\n",
    "\n",
    "            \"\"\"\n",
    "    response = openai.Completion.create(\n",
    "        model=\"text-davinci-003\",\n",
    "        prompt=prompt,\n",
    "        max_tokens = 2000\n",
    "        # temperature=0.3,\n",
    "        # top_p=0.4\n",
    "    )\n",
    "    return response[\"choices\"][0][\"text\"]"
   ]
  },
  {
   "cell_type": "code",
   "execution_count": 50,
   "id": "40a6fa53",
   "metadata": {},
   "outputs": [],
   "source": [
    "#Let's start by passing the debug_response_assistant."
   ]
  },
  {
   "cell_type": "code",
   "execution_count": 51,
   "id": "f68100e5",
   "metadata": {},
   "outputs": [
    {
     "name": "stdout",
     "output_type": "stream",
     "text": [
      "\n",
      "Output: {'GPU intensity': 'low', 'Display quality': 'high', 'Portability': 'low', 'Multitasking': 'high', 'Processing speed': 'low', 'Budget': '90000'}\n"
     ]
    }
   ],
   "source": [
    "response_dict_n = dictionary_present(debug_response_assistant_n)\n",
    "print(response_dict_n)"
   ]
  },
  {
   "cell_type": "code",
   "execution_count": 52,
   "id": "add1b73f",
   "metadata": {},
   "outputs": [],
   "source": [
    "#What if you pass something like this where it is not in the form of a dictionary? \n",
    "#Or some key or some values are missing? Let's see."
   ]
  },
  {
   "cell_type": "code",
   "execution_count": 53,
   "id": "ac7fa4cc",
   "metadata": {},
   "outputs": [],
   "source": [
    "debug_response_assistant_n = f\"\"\"Thank you for providing your budget. Based on your budget of 50,000 INR, I will consider this while recommending suitable laptop options for you.\n",
    "Here is the final recommendation for your laptop:\n",
    "\n",
    "- GPU intensity: high\n",
    "- Display quality: high\n",
    "- Portability: low\n",
    "- Multitasking: high\n",
    "- Processing speed: medium\n",
    "- Budget: 80,000 INR\n",
    "\n",
    "Please note that these specifications are based on your requirements for surfing and a decent display within your budget. Let me know if there's anything else I can assist you with!\"\"\""
   ]
  },
  {
   "cell_type": "code",
   "execution_count": 54,
   "id": "13858cea",
   "metadata": {},
   "outputs": [
    {
     "name": "stdout",
     "output_type": "stream",
     "text": [
      "\n",
      "Output: {'GPU intensity': 'high', 'Display quality': 'high', 'Portability': 'low', 'Multitasking': 'high', 'Processing speed': 'medium', 'Budget': '80000'}\n"
     ]
    }
   ],
   "source": [
    "response_dict_n = dictionary_present(debug_response_assistant_n)\n",
    "print(response_dict_n)"
   ]
  },
  {
   "cell_type": "code",
   "execution_count": 55,
   "id": "7db074f4",
   "metadata": {},
   "outputs": [],
   "source": [
    "#Let's quickly take a look at the code that we have run until now."
   ]
  },
  {
   "cell_type": "code",
   "execution_count": 56,
   "id": "9fef496c",
   "metadata": {},
   "outputs": [],
   "source": [
    "debug_conversation = initialize_conversation()\n",
    "debug_introduction = get_chat_model_completions(debug_conversation)\n",
    "debug_user_input = \"Hi, I am Anand. I need a laptop for coding.\"\n",
    "debug_moderation = moderation_check(debug_user_input)\n",
    "debug_conversation.append({\"role\": \"user\", \"content\": debug_user_input})\n",
    "debug_response_assistant = get_chat_model_completions(debug_conversation)\n",
    "debug_moderation = moderation_check(debug_response_assistant)\n",
    "debug_conversation.append({\"role\": \"assistant\", \"content\": debug_response_assistant})\n",
    "debug_confirmation = intent_confirmation_layer(debug_response_assistant)\n",
    "response_dict_n = dictionary_present(debug_response_assistant_n)"
   ]
  },
  {
   "cell_type": "code",
   "execution_count": null,
   "id": "59ae9b10",
   "metadata": {},
   "outputs": [],
   "source": [
    "#So, now that you have the user profile stored in response_dict_n. \n",
    "#We'll use this to generate recommendations. \n",
    "#Before that, we need to create a similar profile for every laptop. Let's see how we do it."
   ]
  },
  {
   "cell_type": "code",
   "execution_count": 57,
   "id": "f3a8a5f2",
   "metadata": {},
   "outputs": [],
   "source": [
    "#3.3 Implementing the Product Mapping and Information Extraction Layers\n",
    "#In this section, we take in the output of the previous layers, \n",
    "#i.e. the user requirements, which is in the format of a Python dictionary, \n",
    "#and extract the top 3 laptop recommendations based on that. \n",
    "#Here are the functions that we will use to help us implement the \n",
    "#information extraction and product matching layers\n",
    "\n",
    "#product_map_layer(): \n",
    "#This function is responsible for extracting key features and criteria from laptop descriptions. \n",
    "#Here's a breakdown of how it works:\n",
    "\n",
    "#Uses a prompt that assign it the role of a Laptop Specifications Classifier, \n",
    "#whose objective is to extract key features and classify them based on laptop descriptions.\n",
    "#Provide step-by-step instructions for extracting laptop features from description.\n",
    "#Assign specific rules for each feature \n",
    "#(e.g., GPU Intensity, Display Quality, Portability, Multitasking, Processing Speed) \n",
    "#and associate them with the appropriate classification value (Low, Medium, or High).\n",
    "\n",
    "#Includes Few Shot Prompting(sample conversation between the user and assistant)\n",
    "#to demonstrate the expected result of the feature extraction and classification process."
   ]
  },
  {
   "cell_type": "code",
   "execution_count": 58,
   "id": "73255373",
   "metadata": {},
   "outputs": [],
   "source": [
    "def product_map_layer(laptop_description):\n",
    "\n",
    "  delimiter = \"#####\"\n",
    "  lap_spec = {\n",
    "      \"GPU intensity\":\"(Type of the Graphics Processor)\",\n",
    "      \"Display quality\":\"(Display Type, Screen Resolution, Display Size)\",\n",
    "      \"Portability\":\"(Laptop Weight)\",\n",
    "      \"Multitasking\":\"(RAM Size)\",\n",
    "      \"Processing speed\":\"(CPU Type, Core, Clock Speed)\"\n",
    "  }\n",
    "\n",
    "  values = {'low','medium','high'}\n",
    "\n",
    "  prompt=f\"\"\"\n",
    "  You are a Laptop Specifications Classifier whose job is to extract the key features of laptops as per their requirements.\n",
    "  To analyze each laptop, perform the following steps:\n",
    "  Step 1: Extract the laptop's primary features from the description {laptop_description}\n",
    "  Step 2: Store the extracted features in {lap_spec} \\\n",
    "  Step 3: Classify each of the items in {lap_spec}into {values} based on the following rules: \\\n",
    "  {delimiter}\n",
    "  GPU Intensity: low: < for Integrated graphics or entry-level dedicated graphics like Intel UHD > , \\n\n",
    "  medium: < if Mid-range dedicated graphics like M1, AMD Radeon, Intel Iris > , \\n\n",
    "  high: < High-end dedicated graphics like Nvidia > , \\n\n",
    "\n",
    "  Display Quality: low: < if resolution below Full HD (e.g., 1366x768). > , \\n\n",
    "  medium: < if Full HD resolution (1920x1080) or higher. > , \\n\n",
    "  high: < if High-resolution display (e.g., 4K, Retina) with excellent color accuracy and features like HDR support. > \\n\n",
    "\n",
    "  Portability: low: < if laptop weight is less than 1.51 kg > , \\n\n",
    "  medium: < if laptop weight is between 1.51 kg and 2.51 kg> , \\n\n",
    "  high: <if laptop weight is greater than 2.51 kg> \\n\n",
    "\n",
    "  Multitasking: low: < If RAM size is 8GB, 12GB > , \\n\n",
    "  medium: < if RAM size is 16GB > , \\n\n",
    "  high: < if RAM size is 32GB, 64GB> \\n\n",
    "\n",
    "  Processing Speed: low: < if entry-level processors like Intel Core i3, AMD Ryzen 3> , \\n\n",
    "  medium: < if Mid-range processors like Intel Core i5, AMD Ryzen 5 > , \\n\n",
    "  high: < if High-performance processors like Intel Core i7, AMD Ryzen 7 or higher > \\n\n",
    "  {delimiter}\n",
    "\n",
    "  {delimiter}\n",
    "  Here are some input output pairs for few-shot learning:\n",
    "  input1: \"The Dell Inspiron is a versatile laptop that combines powerful performance and affordability. It features an Intel Core i5 processor clocked at 2.4 GHz, ensuring smooth multitasking and efficient computing. With 8GB of RAM and an SSD, it offers quick data access and ample storage capacity. The laptop sports a vibrant 15.6\" LCD display with a resolution of 1920x1080, delivering crisp visuals and immersive viewing experience. Weighing just 2.5 kg, it is highly portable, making it ideal for on-the-go usage. Additionally, it boasts an Intel UHD GPU for decent graphical performance and a backlit keyboard for enhanced typing convenience. With a one-year warranty and a battery life of up to 6 hours, the Dell Inspiron is a reliable companion for work or entertainment. All these features are packed at an affordable price of 35,000, making it an excellent choice for budget-conscious users.\"\n",
    "  output1: {{'GPU intensity': 'medium','Display quality':'medium','Portability':'medium','Multitasking':'high','Processing speed':'medium'}}\n",
    "\n",
    "  input2: \"The Lenovo ThinkPad X1 Carbon is a sleek and lightweight laptop designed for professionals on the go. It is equipped with an Intel Core i7 processor running at 2.6 GHz, providing strong processing capabilities for multitasking and productivity. With 16GB of RAM and an SSD, it offers fast and efficient performance along with ample storage capacity. The laptop features a 14\" IPS display with a resolution of 2560x1440, delivering sharp visuals and accurate colors. It comes with Intel UHD integrated graphics for decent graphical performance. Weighing just 1.13 kg, it is extremely lightweight and highly portable. The laptop features an IR camera for face unlock, providing convenient and secure login options. With a three-year warranty and an impressive battery life of up to 12 hours, the Lenovo ThinkPad X1 Carbon ensures reliability and long-lasting productivity. Priced at 130,000, it offers top-notch performance and portability for professionals.\"\n",
    "  output2: {{'GPU intensity': 'medium', 'Display quality': 'high', 'Portability': 'high', 'Multitasking':'high', 'Processing speed':'high'}}\n",
    "\n",
    "  input3: \"The Apple MacBook Pro is a high-end laptop that combines top-tier performance with a stunning display. It is equipped with an Intel Core i9 processor running at 2.9 GHz, providing exceptional processing power for demanding tasks and content creation. With 32GB of RAM and an SSD, it offers seamless multitasking and fast storage access for large projects. The laptop features a 16\" Retina display with a resolution of 3072x1920, delivering breathtaking visuals and precise color reproduction. It comes with an AMD Radeon graphics card, ensuring smooth graphics performance for professional applications. Weighing 2.02 kg, it is relatively lightweight for its size. The laptop features a True Tone display, adjusting the color temperature to match the ambient lighting for a more natural viewing experience. With a three-year warranty and a battery life of up to 10 hours, the Apple MacBook Pro offers reliability and endurance for professionals. Priced at 280,000, it caters to users who require uncompromising performance and a superior display for their demanding workloads.\"\n",
    "  output3: {{'GPU intensity': 'medium', 'Display quality': 'high', 'Portability': 'medium','Multitasking': 'high', 'Processing speed': 'high'}}\n",
    "  {delimiter}\n",
    "\n",
    "  Follow the above instructions step-by-step and output the dictionary {lap_spec} for the following laptop {laptop_description}.\n",
    "  \"\"\"\n",
    "\n",
    "#see that we are using the Completion endpoint and not the Chatcompletion endpoint\n",
    "\n",
    "  response = openai.Completion.create(\n",
    "    model=\"text-davinci-003\",\n",
    "    prompt=prompt,\n",
    "    max_tokens = 2000,\n",
    "    # temperature=0.3,\n",
    "    # top_p=0.4\n",
    "    )\n",
    "  return response[\"choices\"][0][\"text\"]"
   ]
  },
  {
   "cell_type": "code",
   "execution_count": 60,
   "id": "36914ba3",
   "metadata": {},
   "outputs": [],
   "source": [
    "##Run this code once to extract product info in the form of a dictionary\n",
    "laptop_df= pd.read_csv('/Users/shiladityaghosh/Downloads/shil_laptop_data2.csv')\n",
    "\n",
    "## Create a new column \"laptop_feature\" that contains the dictionary of the product features\n",
    "laptop_df['laptop_feature'] = laptop_df['Description'].apply(lambda x: product_map_layer(x))"
   ]
  },
  {
   "cell_type": "code",
   "execution_count": 61,
   "id": "d15b092d",
   "metadata": {},
   "outputs": [],
   "source": [
    "laptop_df.to_csv(\"updated_laptop.csv\",index=False,header = True)"
   ]
  },
  {
   "cell_type": "code",
   "execution_count": 62,
   "id": "9f5f05d4",
   "metadata": {},
   "outputs": [],
   "source": [
    "#extract_dictionary_from_string(): \n",
    "#This function takes in the output of the previous layer and extracts the user requirements dictionary\n",
    "\n",
    "#This code was written with the help of ChatGPT. \n",
    "#You can check it out here: https://chat.openai.com/share/0f56511a-d8bc-4ee7-bab3-860a1f6455ba"
   ]
  },
  {
   "cell_type": "code",
   "execution_count": 63,
   "id": "9baf7279",
   "metadata": {},
   "outputs": [],
   "source": [
    "import ast\n",
    "import re\n",
    "\n",
    "def extract_dictionary_from_string(string):\n",
    "    regex_pattern = r\"\\{[^{}]+\\}\"\n",
    "\n",
    "    dictionary_matches = re.findall(regex_pattern, string)\n",
    "\n",
    "    # Extract the first dictionary match and convert it to lowercase\n",
    "    if dictionary_matches:\n",
    "        dictionary_string = dictionary_matches[0]\n",
    "        dictionary_string = dictionary_string.lower()\n",
    "\n",
    "        # Convert the dictionary string to a dictionary object using ast.literal_eval()\n",
    "        dictionary = ast.literal_eval(dictionary_string)\n",
    "    return dictionary"
   ]
  },
  {
   "cell_type": "code",
   "execution_count": 64,
   "id": "b182be65",
   "metadata": {},
   "outputs": [
    {
     "name": "stdout",
     "output_type": "stream",
     "text": [
      "{'gpu intensity': 'high', 'display quality': 'high', 'portability': 'low', 'multitasking': 'high', 'processing speed': 'medium', 'budget': '50000'}\n"
     ]
    }
   ],
   "source": [
    "string = \" \\n \\t           Output: {{'GPU intensity': 'high', 'Display quality': 'high', 'Portability': 'low', 'Multitasking': 'high', 'Processing speed': 'medium', 'Budget': '50000'}}ad\"\n",
    "extracted_dict = extract_dictionary_from_string(string)\n",
    "print(extracted_dict)"
   ]
  },
  {
   "cell_type": "code",
   "execution_count": 65,
   "id": "0e86f076",
   "metadata": {},
   "outputs": [],
   "source": [
    "#compare_laptops_with_user(): \n",
    "#This function compares the user's profile with the different laptops and come back with the top recommendations. \n",
    "#It will perform the following steps:\n",
    "\n",
    "#It will take the user requirements dictionary as input\n",
    "#Filter the laptops based on their price, keeping only the ones within the user's budget.\n",
    "#Calculate a score for each laptop based on how well it matches the user's requirements.\n",
    "#Sort the laptops based on their scores in descending order.\n",
    "#Return the top 3 laptops as a JSON-formatted string."
   ]
  },
  {
   "cell_type": "code",
   "execution_count": 66,
   "id": "99d6ffb2",
   "metadata": {},
   "outputs": [],
   "source": [
    "def compare_laptops_with_user(user_req_string):\n",
    "    laptop_df= pd.read_csv('updated_laptop.csv')\n",
    "    user_requirements = extract_dictionary_from_string(user_req_string)\n",
    "    budget = int(user_requirements.get('budget', '0').replace(',', '').split()[0])\n",
    "    #This line retrieves the value associated with the key 'budget' from the user_requirements dictionary.\n",
    "    #If the key is not found, the default value '0' is used.\n",
    "    #The value is then processed to remove commas, split it into a list of strings, and take the first element of the list.\n",
    "    #Finally, the resulting value is converted to an integer and assigned to the variable budget.\n",
    "\n",
    "\n",
    "    filtered_laptops = laptop_df.copy()\n",
    "    filtered_laptops['Price'] = filtered_laptops['Price'].str.replace(',','').astype(int)\n",
    "    filtered_laptops = filtered_laptops[filtered_laptops['Price'] <= budget].copy()\n",
    "    #These lines create a copy of the laptop_df DataFrame and assign it to filtered_laptops.\n",
    "    #They then modify the 'Price' column in filtered_laptops by removing commas and converting the values to integers.\n",
    "    #Finally, they filter filtered_laptops to include only rows where the 'Price' is less than or equal to the budget.\n",
    "\n",
    "    mappings = {\n",
    "        'low': 0,\n",
    "        'medium': 1,\n",
    "        'high': 2\n",
    "    }\n",
    "    # Create 'Score' column in the DataFrame and initialize to 0\n",
    "    filtered_laptops['Score'] = 0\n",
    "    for index, row in filtered_laptops.iterrows():\n",
    "        user_product_match_str = row['laptop_feature']\n",
    "        laptop_values = extract_dictionary_from_string(user_product_match_str)\n",
    "        score = 0\n",
    "\n",
    "        for key, user_value in user_requirements.items():\n",
    "            if key.lower() == 'budget':\n",
    "                continue  # Skip budget comparison\n",
    "            laptop_value = laptop_values.get(key, None)\n",
    "            laptop_mapping = mappings.get(laptop_value.lower(), -1)\n",
    "            user_mapping = mappings.get(user_value.lower(), -1)\n",
    "            if laptop_mapping >= user_mapping:\n",
    "                ### If the laptop value is greater than or equal to the user value the score is incremented by 1\n",
    "                score += 1\n",
    "\n",
    "        filtered_laptops.loc[index, 'Score'] = score\n",
    "\n",
    "    # Sort the laptops by score in descending order and return the top 5 products\n",
    "    top_laptops = filtered_laptops.drop('laptop_feature', axis=1)\n",
    "    top_laptops = top_laptops.sort_values('Score', ascending=False).head(3)\n",
    "\n",
    "    return top_laptops.to_json(orient='records')"
   ]
  },
  {
   "cell_type": "code",
   "execution_count": null,
   "id": "37564d05",
   "metadata": {},
   "outputs": [],
   "source": [
    "#Now that you have the compare_laptops_with_user() function ready, \n",
    "#let's pass the response_dict_n to the function to get top 3 recommendation."
   ]
  },
  {
   "cell_type": "code",
   "execution_count": 67,
   "id": "ca4c4ed2",
   "metadata": {},
   "outputs": [
    {
     "name": "stdout",
     "output_type": "stream",
     "text": [
      "[{\"Brand\":\"Lenovo\",\"Model Name\":\"ThinkPad\",\"Core\":\"Ryzen 7\",\"CPU Manufacturer\":\"AMD\",\"Clock Speed\":\"3.0 GHz\",\"RAM Size\":\"16GB\",\"Storage Type\":\"SSD\",\"Display Type\":\"IPS\",\"Display Size\":\"14\\\"\",\"Graphics Processor\":\"NVIDIA GTX\",\"Screen Resolution\":\"2560x1440\",\"OS\":\"Linux\",\"Laptop Weight\":\"1.6 kg\",\"Special Features\":\"Backlit Keyboard\",\"Warranty\":\"3 years\",\"Average Battery Life\":\"6 hours\",\"Price\":60000,\"Description\":\"The Lenovo ThinkPad is a powerful laptop designed for professional users. It is equipped with a Ryzen 7 processor from AMD clocked at 3.0 GHz, providing strong processing capabilities for demanding tasks. With 16GB of RAM and an SSD, it offers smooth multitasking and fast storage access. The laptop features a 14\\\" IPS display with a resolution of 2560x1440, delivering sharp visuals and accurate colors. It also comes with an NVIDIA GTX graphics card for enhanced graphical performance. Weighing just 1.6 kg, it is lightweight and highly portable. The laptop features a backlit keyboard for comfortable typing in low-light environments. With a three-year warranty and a battery life of up to 6 hours, the Lenovo ThinkPad offers reliability and durability. Priced at 60,000, it is an excellent choice for professionals seeking powerful performance and a versatile display.\",\"Score\":5},{\"Brand\":\"MSI\",\"Model Name\":\"GL65\",\"Core\":\"i7\",\"CPU Manufacturer\":\"Intel\",\"Clock Speed\":\"2.6 GHz\",\"RAM Size\":\"16GB\",\"Storage Type\":\"HDD+SSD\",\"Display Type\":\"IPS\",\"Display Size\":\"15.6\\\"\",\"Graphics Processor\":\"NVIDIA GTX\",\"Screen Resolution\":\"1920x1080\",\"OS\":\"Windows 10\",\"Laptop Weight\":\"2.3 kg\",\"Special Features\":\"RGB Keyboard\",\"Warranty\":\"2 years\",\"Average Battery Life\":\"4 hours\",\"Price\":55000,\"Description\":\"The MSI GL65 is a high-performance laptop designed for gaming enthusiasts. Powered by an Intel Core i7 processor running at 2.6 GHz, it delivers exceptional processing power for smooth gaming and demanding tasks. With 16GB of RAM and a combination of HDD and SSD storage, it offers ample memory and fast data access. The laptop features a 15.6\\\" IPS display with a resolution of 1920x1080, ensuring vivid colors and wide viewing angles for an immersive gaming experience. Equipped with an NVIDIA GTX graphics card, it provides excellent visual performance and smooth gameplay. Weighing just 2.3 kg, it is a portable option for gamers on the move. The laptop also boasts an RGB keyboard, allowing customizable lighting effects for a personalized gaming setup. With a two-year warranty and a battery life of up to 4 hours, the MSI GL65 offers reliability and durability. Priced at 55,000, it offers excellent value for money for gamers seeking a powerful gaming laptop.\",\"Score\":4},{\"Brand\":\"Acer\",\"Model Name\":\"Predator\",\"Core\":\"i7\",\"CPU Manufacturer\":\"Intel\",\"Clock Speed\":\"2.8 GHz\",\"RAM Size\":\"16GB\",\"Storage Type\":\"SSD\",\"Display Type\":\"IPS\",\"Display Size\":\"17.3\\\"\",\"Graphics Processor\":\"NVIDIA GTX\",\"Screen Resolution\":\"1920x1080\",\"OS\":\"Windows 10\",\"Laptop Weight\":\"3.2 kg\",\"Special Features\":\"Dual Cooling Fans\",\"Warranty\":\"1 year\",\"Average Battery Life\":\"5 hours\",\"Price\":80000,\"Description\":\"The Acer Predator is a powerhouse laptop designed for gaming enthusiasts. It is equipped with an Intel Core i7 processor clocked at 2.8 GHz, providing exceptional processing power for seamless gaming and demanding tasks. With 16GB of RAM and an SSD, it offers fast and efficient multitasking and storage capabilities. The laptop features a large 17.3\\\" IPS display with a resolution of 1920x1080, delivering stunning visuals and wide viewing angles. It also comes with an NVIDIA GTX graphics card for impressive gaming performance. Weighing 3.2 kg, it is a bit on the heavier side but still offers portability. The laptop features dual cooling fans for effective heat dissipation during intense gaming sessions. With a one-year warranty and a battery life of up to 5 hours, the Acer Predator ensures reliability and endurance. Priced at 80,000, it provides excellent value for gamers seeking powerful gaming performance.\",\"Score\":4}]\n"
     ]
    }
   ],
   "source": [
    "top_3_laptops = compare_laptops_with_user(response_dict_n)\n",
    "print(top_3_laptops)"
   ]
  },
  {
   "cell_type": "code",
   "execution_count": 68,
   "id": "ce1f9770",
   "metadata": {},
   "outputs": [],
   "source": [
    "#Next, there is a function that verifies if the recommendations are good enough for the user's requirement."
   ]
  },
  {
   "cell_type": "code",
   "execution_count": 69,
   "id": "59d9611b",
   "metadata": {},
   "outputs": [],
   "source": [
    "def recommendation_validation(laptop_recommendation):\n",
    "    data = json.loads(laptop_recommendation)\n",
    "    data1 = []\n",
    "    for i in range(len(data)):\n",
    "        if data[i]['Score'] > 2:\n",
    "            data1.append(data[i])\n",
    "\n",
    "    return data1"
   ]
  },
  {
   "cell_type": "code",
   "execution_count": 70,
   "id": "9446b1f4",
   "metadata": {},
   "outputs": [
    {
     "name": "stdout",
     "output_type": "stream",
     "text": [
      "[{'Brand': 'Lenovo', 'Model Name': 'ThinkPad', 'Core': 'Ryzen 7', 'CPU Manufacturer': 'AMD', 'Clock Speed': '3.0 GHz', 'RAM Size': '16GB', 'Storage Type': 'SSD', 'Display Type': 'IPS', 'Display Size': '14\"', 'Graphics Processor': 'NVIDIA GTX', 'Screen Resolution': '2560x1440', 'OS': 'Linux', 'Laptop Weight': '1.6 kg', 'Special Features': 'Backlit Keyboard', 'Warranty': '3 years', 'Average Battery Life': '6 hours', 'Price': 60000, 'Description': 'The Lenovo ThinkPad is a powerful laptop designed for professional users. It is equipped with a Ryzen 7 processor from AMD clocked at 3.0 GHz, providing strong processing capabilities for demanding tasks. With 16GB of RAM and an SSD, it offers smooth multitasking and fast storage access. The laptop features a 14\" IPS display with a resolution of 2560x1440, delivering sharp visuals and accurate colors. It also comes with an NVIDIA GTX graphics card for enhanced graphical performance. Weighing just 1.6 kg, it is lightweight and highly portable. The laptop features a backlit keyboard for comfortable typing in low-light environments. With a three-year warranty and a battery life of up to 6 hours, the Lenovo ThinkPad offers reliability and durability. Priced at 60,000, it is an excellent choice for professionals seeking powerful performance and a versatile display.', 'Score': 5}, {'Brand': 'MSI', 'Model Name': 'GL65', 'Core': 'i7', 'CPU Manufacturer': 'Intel', 'Clock Speed': '2.6 GHz', 'RAM Size': '16GB', 'Storage Type': 'HDD+SSD', 'Display Type': 'IPS', 'Display Size': '15.6\"', 'Graphics Processor': 'NVIDIA GTX', 'Screen Resolution': '1920x1080', 'OS': 'Windows 10', 'Laptop Weight': '2.3 kg', 'Special Features': 'RGB Keyboard', 'Warranty': '2 years', 'Average Battery Life': '4 hours', 'Price': 55000, 'Description': 'The MSI GL65 is a high-performance laptop designed for gaming enthusiasts. Powered by an Intel Core i7 processor running at 2.6 GHz, it delivers exceptional processing power for smooth gaming and demanding tasks. With 16GB of RAM and a combination of HDD and SSD storage, it offers ample memory and fast data access. The laptop features a 15.6\" IPS display with a resolution of 1920x1080, ensuring vivid colors and wide viewing angles for an immersive gaming experience. Equipped with an NVIDIA GTX graphics card, it provides excellent visual performance and smooth gameplay. Weighing just 2.3 kg, it is a portable option for gamers on the move. The laptop also boasts an RGB keyboard, allowing customizable lighting effects for a personalized gaming setup. With a two-year warranty and a battery life of up to 4 hours, the MSI GL65 offers reliability and durability. Priced at 55,000, it offers excellent value for money for gamers seeking a powerful gaming laptop.', 'Score': 4}, {'Brand': 'Acer', 'Model Name': 'Predator', 'Core': 'i7', 'CPU Manufacturer': 'Intel', 'Clock Speed': '2.8 GHz', 'RAM Size': '16GB', 'Storage Type': 'SSD', 'Display Type': 'IPS', 'Display Size': '17.3\"', 'Graphics Processor': 'NVIDIA GTX', 'Screen Resolution': '1920x1080', 'OS': 'Windows 10', 'Laptop Weight': '3.2 kg', 'Special Features': 'Dual Cooling Fans', 'Warranty': '1 year', 'Average Battery Life': '5 hours', 'Price': 80000, 'Description': 'The Acer Predator is a powerhouse laptop designed for gaming enthusiasts. It is equipped with an Intel Core i7 processor clocked at 2.8 GHz, providing exceptional processing power for seamless gaming and demanding tasks. With 16GB of RAM and an SSD, it offers fast and efficient multitasking and storage capabilities. The laptop features a large 17.3\" IPS display with a resolution of 1920x1080, delivering stunning visuals and wide viewing angles. It also comes with an NVIDIA GTX graphics card for impressive gaming performance. Weighing 3.2 kg, it is a bit on the heavier side but still offers portability. The laptop features dual cooling fans for effective heat dissipation during intense gaming sessions. With a one-year warranty and a battery life of up to 5 hours, the Acer Predator ensures reliability and endurance. Priced at 80,000, it provides excellent value for gamers seeking powerful gaming performance.', 'Score': 4}]\n"
     ]
    }
   ],
   "source": [
    "validated_data = recommendation_validation(top_3_laptops)\n",
    "print(validated_data)"
   ]
  },
  {
   "cell_type": "code",
   "execution_count": 71,
   "id": "8135b9da",
   "metadata": {},
   "outputs": [],
   "source": [
    "#Now that you the top 3 laptops extracted, \n",
    "#let's pass it to the recommendation layer that'll send it to the user and the user can ask questions around it."
   ]
  },
  {
   "cell_type": "code",
   "execution_count": 72,
   "id": "ddccd414",
   "metadata": {},
   "outputs": [
    {
     "data": {
      "text/plain": [
       "3"
      ]
     },
     "execution_count": 72,
     "metadata": {},
     "output_type": "execute_result"
    }
   ],
   "source": [
    "len(validated_data)"
   ]
  },
  {
   "cell_type": "code",
   "execution_count": 73,
   "id": "4476cf62",
   "metadata": {},
   "outputs": [],
   "source": [
    "#3.4: Product Recommendation Layer\n",
    "#Finally, we come to the product recommendation layer. \n",
    "#It takes the output from the compare_laptops_with_user function in the previous layer \n",
    "#and provides the recommendations to the user. It has the following steps.\n",
    "\n",
    "#Initialize the conversation for recommendation.\n",
    "#Generate the recommendations and display in a presentable format.\n",
    "#Ask questions basis the recommendations."
   ]
  },
  {
   "cell_type": "code",
   "execution_count": 74,
   "id": "1224c8c2",
   "metadata": {},
   "outputs": [],
   "source": [
    "def initialize_conv_reco(products):\n",
    "    system_message = f\"\"\"\n",
    "    You are an intelligent laptop gadget expert and you are tasked with the objective to \\\n",
    "    solve the user queries about any product from the catalogue: {products}.\\\n",
    "    You should keep the user profile in mind while answering the questions.\\\n",
    "\n",
    "    Start with a brief summary of each laptop in the following format, in decreasing order of price of laptops:\n",
    "    1. <Laptop Name> : <Major specifications of the laptop>, <Price in Rs>\n",
    "    2. <Laptop Name> : <Major specifications of the laptop>, <Price in Rs>\n",
    "\n",
    "    \"\"\"\n",
    "    conversation = [{\"role\": \"system\", \"content\": system_message }]\n",
    "    return conversation"
   ]
  },
  {
   "cell_type": "code",
   "execution_count": 75,
   "id": "e7a84a24",
   "metadata": {},
   "outputs": [],
   "source": [
    "#Let's initialize the conversation for recommendation."
   ]
  },
  {
   "cell_type": "code",
   "execution_count": 76,
   "id": "bf7ea50b",
   "metadata": {},
   "outputs": [],
   "source": [
    "debug_conversation_reco = initialize_conv_reco(top_3_laptops)"
   ]
  },
  {
   "cell_type": "code",
   "execution_count": null,
   "id": "122b5b25",
   "metadata": {},
   "outputs": [],
   "source": [
    "#Let's see what the assistant responds with the new initialization."
   ]
  },
  {
   "cell_type": "code",
   "execution_count": 77,
   "id": "5139a3b8",
   "metadata": {},
   "outputs": [
    {
     "name": "stdout",
     "output_type": "stream",
     "text": [
      "1. Acer Predator: Intel Core i7 2.8 GHz, 16GB RAM, SSD, 17.3\" IPS display, NVIDIA GTX graphics, Windows 10, 3.2 kg, Dual Cooling Fans, 1-year warranty, 5 hours battery life. Price: Rs 80,000.\n",
      "\n",
      "2. Lenovo ThinkPad: AMD Ryzen 7 3.0 GHz, 16GB RAM, SSD, 14\" IPS display, NVIDIA GTX graphics, Linux, 1.6 kg, Backlit Keyboard, 3-year warranty, 6 hours battery life. Price: Rs 60,000.\n",
      "\n",
      "3. MSI GL65: Intel Core i7 2.6 GHz, 16GB RAM, HDD+SSD, 15.6\" IPS display, NVIDIA GTX graphics, Windows 10, 2.3 kg, RGB Keyboard, 2-year warranty, 4 hours battery life. Price: Rs 55,000.\n",
      "\n"
     ]
    }
   ],
   "source": [
    "debug_recommendation = get_chat_model_completions(debug_conversation_reco)\n",
    "print(debug_recommendation + '\\n')"
   ]
  },
  {
   "cell_type": "code",
   "execution_count": null,
   "id": "7bd72dd1",
   "metadata": {},
   "outputs": [],
   "source": [
    "#Now, you can converse with the chatbot on the filtered products."
   ]
  },
  {
   "cell_type": "code",
   "execution_count": 78,
   "id": "d8f42030",
   "metadata": {},
   "outputs": [],
   "source": [
    "debug_conversation_reco.append({\"role\": \"user\", \"content\": \"This is my user profile\" + response_dict_n})\n",
    "debug_conversation_reco.append({\"role\": \"assistant\", \"content\": debug_recommendation})"
   ]
  },
  {
   "cell_type": "code",
   "execution_count": 79,
   "id": "02875c65",
   "metadata": {},
   "outputs": [],
   "source": [
    "debug_user_input = \"Which is ideal for travel?\""
   ]
  },
  {
   "cell_type": "code",
   "execution_count": 80,
   "id": "ab2d717d",
   "metadata": {},
   "outputs": [
    {
     "name": "stdout",
     "output_type": "stream",
     "text": [
      "\n",
      "Based on your user profile, the Lenovo ThinkPad would be the ideal choice for travel. It is lightweight at 1.6 kg, making it highly portable. It also has a battery life of up to 6 hours, which is suitable for travel situations where you may not have access to a power source for an extended period of time.\n",
      "\n"
     ]
    }
   ],
   "source": [
    "debug_conversation_reco.append({\"role\": \"user\", \"content\": debug_user_input})\n",
    "debug_response_asst_reco = get_chat_model_completions(debug_conversation_reco)\n",
    "print('\\n' + debug_response_asst_reco + '\\n')"
   ]
  },
  {
   "cell_type": "code",
   "execution_count": null,
   "id": "80bf0083",
   "metadata": {},
   "outputs": [],
   "source": [
    "#You can repeat the process of appending the assistant and user messages and test the chatbot out."
   ]
  },
  {
   "cell_type": "code",
   "execution_count": 81,
   "id": "b36dc564",
   "metadata": {},
   "outputs": [],
   "source": [
    "#3.5 Dialogue Management System\n",
    "#Bringing everything together, \n",
    "#we create a diagloue_mgmt_system() \n",
    "#function that contains the logic of how the different layers would interact with each other. \n",
    "#This will be the function that we'll call to initiate the chatbot"
   ]
  },
  {
   "cell_type": "code",
   "execution_count": 82,
   "id": "3175595a",
   "metadata": {},
   "outputs": [],
   "source": [
    "def dialogue_mgmt_system():\n",
    "    conversation = initialize_conversation()\n",
    "    introduction = get_chat_model_completions(conversation)\n",
    "    print(introduction + '\\n')\n",
    "    top_3_laptops = None\n",
    "    user_input = ''\n",
    "\n",
    "    while(user_input != \"exit\"):\n",
    "        user_input = input(\"\")\n",
    "\n",
    "        moderation = moderation_check(user_input)\n",
    "        if moderation == 'Flagged':\n",
    "            print(\"Sorry, this message has been flagged. Please restart your conversation.\")\n",
    "            break\n",
    "\n",
    "        if top_3_laptops is None:\n",
    "            conversation.append({\"role\": \"user\", \"content\": user_input})\n",
    "\n",
    "            response_assistant = get_chat_model_completions(conversation)\n",
    "\n",
    "            moderation = moderation_check(response_assistant)\n",
    "            if moderation == 'Flagged':\n",
    "                print(\"Sorry, this message has been flagged. Please restart your conversation.\")\n",
    "                break\n",
    "\n",
    "            confirmation = intent_confirmation_layer(response_assistant)\n",
    "\n",
    "            moderation = moderation_check(confirmation)\n",
    "            if moderation == 'Flagged':\n",
    "                print(\"Sorry, this message has been flagged. Please restart your conversation.\")\n",
    "                break\n",
    "\n",
    "            if \"No\" in confirmation:\n",
    "                conversation.append({\"role\": \"assistant\", \"content\": response_assistant})\n",
    "                print(\"\\n\" + response_assistant + \"\\n\")\n",
    "                print('\\n' + confirmation + '\\n')\n",
    "            else:\n",
    "                print(\"\\n\" + response_assistant + \"\\n\")\n",
    "                print('\\n' + confirmation + '\\n')\n",
    "                response = dictionary_present(response_assistant)\n",
    "\n",
    "                moderation = moderation_check(response)\n",
    "                if moderation == 'Flagged':\n",
    "                    print(\"Sorry, this message has been flagged. Please restart your conversation.\")\n",
    "                    break\n",
    "\n",
    "                print('\\n' + response + '\\n')\n",
    "                print(\"Thank you for providing all the information. Kindly wait, while I fetch the products: \\n\")\n",
    "                top_3_laptops = compare_laptops_with_user(response)\n",
    "\n",
    "                validated_reco = recommendation_validation(top_3_laptops)\n",
    "\n",
    "                if len(validated_reco) == 0:\n",
    "                    print(\"Sorry, we do not have laptops that match your requirements. Connecting you to a human expert.\")\n",
    "                    break\n",
    "\n",
    "                conversation_reco = initialize_conv_reco(validated_reco)\n",
    "                recommendation = get_chat_model_completions(conversation_reco)\n",
    "\n",
    "                moderation = moderation_check(recommendation)\n",
    "                if moderation == 'Flagged':\n",
    "                    print(\"Sorry, this message has been flagged. Please restart your conversation.\")\n",
    "                    break\n",
    "\n",
    "                conversation_reco.append({\"role\": \"user\", \"content\": \"This is my user profile\" + response})\n",
    "\n",
    "                conversation_reco.append({\"role\": \"assistant\", \"content\": recommendation})\n",
    "\n",
    "                print(recommendation + '\\n')\n",
    "\n",
    "        else:\n",
    "            conversation_reco.append({\"role\": \"user\", \"content\": user_input})\n",
    "\n",
    "            response_asst_reco = get_chat_model_completions(conversation_reco)\n",
    "\n",
    "            moderation = moderation_check(response_asst_reco)\n",
    "            if moderation == 'Flagged':\n",
    "                print(\"Sorry, this message has been flagged. Please restart your conversation.\")\n",
    "                break\n",
    "\n",
    "            print('\\n' + response_asst_reco + '\\n')\n",
    "            conversation.append({\"role\": \"assistant\", \"content\": response_asst_reco})"
   ]
  },
  {
   "cell_type": "code",
   "execution_count": 83,
   "id": "023f45c1",
   "metadata": {},
   "outputs": [],
   "source": [
    "#Part IV: Evaluation¶\n",
    "#Part V: Areas of Improvement and Final Comments"
   ]
  },
  {
   "cell_type": "code",
   "execution_count": 85,
   "id": "92ce7e78",
   "metadata": {},
   "outputs": [
    {
     "name": "stdout",
     "output_type": "stream",
     "text": [
      "{'gpu intensity': 'high', 'display quality': 'high', 'portability': 'low', 'multitasking': 'unknown', 'processing speed': 'unknown', 'budget': '150000'}\n"
     ]
    }
   ],
   "source": [
    "gamer_conversation = [{\"role\":\"assistant\",\"content\":\"Hi there! I'm an intelligent laptop gadget expert and I'm here to help you find the best laptop for your needs. Please tell me a little bit about yourself and your requirements so that I can assist you better.\"},\n",
    "{\"role\":\"user\",\"content\":\"Yes, I prefer gaming with my graphics at high setting\"},\n",
    "{\"role\":\"assistant\",\"content\":\"Thank you for letting me know. Based on your preference for high graphics settings, I would recommend a laptop with a high GPU intensity. This will ensure that you can enjoy your games with excellent visual quality. Now, I have a question to better understand your needs. Are you primarily looking for a laptop that you can easily carry around and game on the go, or do you mainly use it in a stationary location?\"},\n",
    "{\"role\":\"user\",\"content\":\"I prefer using my laptop at a stationary location\"},\n",
    "{\"role\":\"assistant\",\"content\":\"Thank you for providing that information. Since you primarily use your laptop in a stationary location, portability may not be a top priority for you. Now, I have one more question to help me understand your requirements better. Could you kindly let me know your budget for the laptop? This will help me find options that fit within your price range while meeting the specified requirements.\"},\n",
    "{\"role\":\"user\",\"content\":\"150000\"}\n",
    "]\n",
    "\n",
    "gamer_conversation_initialize = initialize_conversation()\n",
    "gamer_conversation_initialize.extend(gamer_conversation)\n",
    "gamer_conversation_assistant_output = get_chat_model_completions(gamer_conversation_initialize)\n",
    "gamer_response_dict = dictionary_present(gamer_conversation_assistant_output)\n",
    "gamer_dict = extract_dictionary_from_string(gamer_response_dict)\n",
    "print(gamer_dict)"
   ]
  },
  {
   "cell_type": "code",
   "execution_count": 86,
   "id": "2f13f5d6",
   "metadata": {},
   "outputs": [
    {
     "name": "stdout",
     "output_type": "stream",
     "text": [
      "{'gpu intensity': 'high', 'display quality': 'high', 'portability': 'low', 'multitasking': 'high', 'processing speed': 'high', 'budget': '150000'}\n"
     ]
    }
   ],
   "source": [
    "gamer_tagged_dict = {'gpu intensity': 'high', 'display quality': 'high', 'portability': 'low', 'multitasking': 'high', 'processing speed': 'high', 'budget': '150000'}\n",
    "print(gamer_tagged_dict)"
   ]
  },
  {
   "cell_type": "code",
   "execution_count": 87,
   "id": "d2635201",
   "metadata": {},
   "outputs": [
    {
     "name": "stdout",
     "output_type": "stream",
     "text": [
      "{'gpu intensity': 'high', 'display quality': 'medium', 'portability': 'medium', 'multitasking': 'high', 'processing speed': 'high', 'budget': '100000'}\n"
     ]
    }
   ],
   "source": [
    "academic_conversation = [{\"role\":\"assistant\",\"content\":\"Hi there! I'm an intelligent laptop gadget expert and I'm here to help you find the best laptop for your needs. Please tell me a little bit about yourself and your requirements so that I can assist you better.\"},\n",
    "{\"role\":\"user\",\"content\":\"i am a student and i'm looking to buy some laptops\"},\n",
    "{\"role\":\"assistant\",\"content\":\"Great! As a student, you likely have specific requirements for a laptop that will support your academic needs. Could you please provide me with more information about your requirements? Are you looking for a laptop for general use, such as browsing the internet, taking notes, and writing assignments? Or do you have any specific software or tasks that you need the laptop to handle? Understanding your needs will help me recommend the best laptop for you.\"},\n",
    "{\"role\":\"user\",\"content\":\"I am working as a academic researcher and I do work with softwares and programming languages such as Matlab, Python and CATIA\"},\n",
    "{\"role\":\"assistant\",\"content\":\"Thank you for providing that information. As an academic researcher, you require a laptop that can handle software and programming tasks efficiently. May I know if you work with large datasets or perform any intensive computations? Understanding the nature of your work will help me determine the processing power and multitasking capabilities needed for your laptop.\"},\n",
    "{\"role\":\"user\",\"content\":\"Yes, occasionally. I'm currently also working on a project on computer vision\"},\n",
    "{\"role\":\"assistant\",\"content\":\"Thank you for sharing that. Working on computer vision projects can be resource-intensive, especially when dealing with large datasets and complex algorithms. It requires a laptop with high processing power and a capable graphics card. Do you also require a high-quality display for accurate visualization of images and videos? Additionally, do you prioritize portability, as you may need to work on your projects in different locations?\"},\n",
    "{\"role\":\"user\",\"content\":\"I need a decent display and I also carry my laptop to college and conferences\"},\n",
    "{\"role\":\"assistant\",\"content\":\"Understood. Based on your requirements as an academic researcher working with software and programming languages like Matlab, Python, and CATIA, as well as computer vision projects, I would recommend the following specifications for your laptop: - GPU intensity: High (for handling computer vision tasks) - Display quality: Medium (for decent display) - Portability: Medium (since you carry your laptop to college and conferences) - Multitasking: High (to handle multiple software and programming tasks) - Processing speed: High (for efficient computation) Now, I need to know your budget for the laptop. Could you please let me know your maximum budget in INR?\"},\n",
    "{\"role\":\"user\",\"content\":\"approximately 100000\"}\n",
    "]\n",
    "\n",
    "academic_conversation_initialize = initialize_conversation()\n",
    "academic_conversation_initialize.extend(academic_conversation)\n",
    "academic_conversation_assistant_output = get_chat_model_completions(academic_conversation_initialize)\n",
    "academic_response_dict = dictionary_present(academic_conversation_assistant_output)\n",
    "academic_dict = extract_dictionary_from_string(academic_response_dict)\n",
    "print(academic_dict)"
   ]
  },
  {
   "cell_type": "code",
   "execution_count": 88,
   "id": "c67108ed",
   "metadata": {},
   "outputs": [
    {
     "name": "stdout",
     "output_type": "stream",
     "text": [
      "{'gpu intensity': 'high', 'display quality': 'medium', 'portability': 'medium', 'multitasking': 'medium', 'processing speed': 'high', 'budget': '100000'}\n"
     ]
    }
   ],
   "source": [
    "academic_tagged_dict = {'gpu intensity': 'high', 'display quality': 'medium', 'portability': 'medium', 'multitasking': 'medium', 'processing speed': 'high', 'budget': '100000'}\n",
    "print(academic_tagged_dict)"
   ]
  },
  {
   "cell_type": "code",
   "execution_count": 89,
   "id": "87d4c433",
   "metadata": {},
   "outputs": [
    {
     "name": "stdout",
     "output_type": "stream",
     "text": [
      "{'gpu intensity': 'low', 'display quality': 'high', 'portability': 'high', 'multitasking': 'high', 'processing speed': 'high', 'budget': '200000'}\n"
     ]
    }
   ],
   "source": [
    "business_conversation = [\n",
    "{\"role\":\"assistant\",\"content\":\"Hi there! I'm an intelligent laptop gadget expert and I'm here to help you find the best laptop for your needs. Please tell me a little bit about yourself and your requirements so that I can assist you better.\"},\n",
    "{\"role\":\"user\",\"content\":\"Hi. I a a business executive. I'm in the market to buy a laptop that fits my needs\"},\n",
    "{\"role\":\"assistant\",\"content\":\"Great! As a business executive, having a reliable and efficient laptop is crucial for your work. May I know what kind of tasks you primarily focus on? Are you involved in tasks such as data analysis, presentations, or multitasking between various applications? Understanding your specific work requirements will help me recommend the best laptop for you. \"},\n",
    "{\"role\":\"user\",\"content\":\"I'll use my laptop for day-to-day work such as attending zoom calls with clients, preparting reports and doing market research. I also do analysis on Excel\"},\n",
    "{\"role\":\"assistant\",\"content\":\"Thank you for providing that information. Based on your work requirements, it seems like you need a laptop that can handle multitasking, has good processing speed, and a decent display quality for presentations and data analysis. Portability may not be a top priority since you mentioned that you primarily work from a stationary location. Do you have any specific preferences or requirements for the graphics performance of the laptop?\"},\n",
    "{\"role\":\"user\",\"content\":\"I require a highly portable machine as I'll be commuting to work and also travelling to client locations. Graphics is not a priority for me\"},\n",
    "{\"role\":\"assistant\",\"content\":\"Understood. In that case, a laptop with high portability and multitasking capabilities would be ideal for you. Since graphics performance is not a priority, we can focus more on processing speed and display quality. Do you have any specific budget in mind for your laptop purchase? Knowing your budget will help me find options that fit within your price range while meeting your specified requirements.\"},\n",
    "{\"role\":\"user\",\"content\":\"No budget is not a constraint. choose the best\"},\n",
    "{\"role\":\"assistant\",\"content\":\"Thank you for letting me know. In that case, I will recommend a laptop with high processing speed, good display quality, and excellent portability. This will ensure that you can efficiently handle your day-to-day work tasks, attend Zoom calls, prepare reports, and perform market research without any performance issues. Here are the specifications for the laptop I recommend for you: - GPU intensity: Low - Display quality: High - Portability: High - Multitasking: High - Processing speed: High - Budget: Not specified Please note that the budget is not specified as you mentioned that it is not a constraint. However, if you have any specific budget in mind, please let me know and I can provide you with more tailored recommendations.\"},\n",
    "{\"role\":\"user\",\"content\":\"okay. maximum 200000\"}\n",
    "]\n",
    "\n",
    "business_conversation_initialize = initialize_conversation()\n",
    "business_conversation_initialize.extend(business_conversation)\n",
    "business_conversation_assistant_output = get_chat_model_completions(business_conversation_initialize)\n",
    "business_response_dict = dictionary_present(business_conversation_assistant_output)\n",
    "business_dict = extract_dictionary_from_string(business_response_dict)\n",
    "print(business_dict)"
   ]
  },
  {
   "cell_type": "code",
   "execution_count": 90,
   "id": "e78876c4",
   "metadata": {},
   "outputs": [
    {
     "name": "stdout",
     "output_type": "stream",
     "text": [
      "{'gpu intensity': 'low', 'display quality': 'high', 'portability': 'high', 'multitasking': 'high', 'processing speed': 'high', 'budget': '200000'}\n"
     ]
    }
   ],
   "source": [
    "business_tagged_dict = {'gpu intensity': 'low', 'display quality': 'high', 'portability': 'high', 'multitasking': 'high', 'processing speed': 'high', 'budget': '200000'}\n",
    "print(business_tagged_dict)"
   ]
  },
  {
   "cell_type": "code",
   "execution_count": 91,
   "id": "fe6eb615",
   "metadata": {},
   "outputs": [],
   "source": [
    "def evaluate_model_response(tagged_dict, model_dict):\n",
    "  score = 0\n",
    "  mappings = {\n",
    "      'low': 0,\n",
    "      'medium': 1,\n",
    "      'high': 2\n",
    "  }\n",
    "\n",
    "  for key in tagged_dict.keys():\n",
    "    if key == 'budget':\n",
    "      continue\n",
    "    tagged_value = tagged_dict[key]\n",
    "    model_value = model_dict[key]\n",
    "    tagged_mapping = mappings.get(tagged_value, -1)\n",
    "    model_mapping = mappings.get(model_value, -1)\n",
    "\n",
    "    if model_mapping >= tagged_mapping:\n",
    "        score += 1\n",
    "\n",
    "  return score\n"
   ]
  },
  {
   "cell_type": "code",
   "execution_count": 92,
   "id": "09477c49",
   "metadata": {},
   "outputs": [
    {
     "name": "stdout",
     "output_type": "stream",
     "text": [
      "3\n",
      "5\n",
      "5\n"
     ]
    }
   ],
   "source": [
    "gamer_score = evaluate_model_response(gamer_tagged_dict,gamer_dict)\n",
    "print(gamer_score)\n",
    "academic_score = evaluate_model_response(academic_tagged_dict,academic_dict)\n",
    "print(academic_score)\n",
    "business_score = evaluate_model_response(business_tagged_dict,business_dict)\n",
    "print(business_score)"
   ]
  },
  {
   "cell_type": "code",
   "execution_count": 93,
   "id": "9dc1db82",
   "metadata": {},
   "outputs": [],
   "source": [
    "#You can see that for gamer, the model is not able to perform well. But for the academic and business persona, it is able to."
   ]
  },
  {
   "cell_type": "code",
   "execution_count": 94,
   "id": "9fa46df4",
   "metadata": {},
   "outputs": [],
   "source": [
    "#Future Scope of Work\n",
    "\n",
    "#The output format of each layer is inconsistent. \n",
    "#You can use the function API capability of GPT to instruct the output format as per the input request.\n",
    "\n",
    "#The rule framework provided to classify each laptop’s specification is not exhaustive. \n",
    "#You can expand the rules to give a comprehensive context to the LLM.\n",
    "#There are misclassifications in the laptop’s specifications, \n",
    "#even after specifying clear rules for LLM. \n",
    "\n",
    "#You can fine-tune an open-source LLM to make its understanding & performance better.\n",
    "#Once the products are extracted, the dialogue flow doesn’t allow recalling of product extraction \n",
    "#if there is any intent change. \n",
    "#You can add another layer to observe any request for a change in the user intent \n",
    "#and then use this flag to recall the product extraction based on the updated intent.\n",
    "\n",
    "#As an alternative & simple solution, you can use vector embeddings of each product \n",
    "#and compare it with the user intent to find the most relevant products.\n",
    "\n",
    "#You can template this workflow/solution to build a chatbot for any product domain. \n",
    "#Note: You must add the relevant domain expertise/rules to give the LLM context understanding."
   ]
  },
  {
   "cell_type": "code",
   "execution_count": 95,
   "id": "b669ff1e",
   "metadata": {},
   "outputs": [],
   "source": [
    "#We will now leverage the newly introduced 'function calling' feature to create \n",
    "#a more streamlined and efficient chatbot. \n",
    "#The tasks involved:\n",
    "\n",
    "#Integrate Function Calling API: \n",
    "#Modify the existing architecture to leverage the Function Calling API's capabilities \n",
    "#for improved performance. \n",
    "\n",
    "#Scope out which layers can be removed and how the existing layers can be updated to handle the new approach.\n",
    "\n",
    "#Refine Conversation Flow: \n",
    "#Enhance the chatbot's conversation flow by leveraging function calling. \n",
    "#Make the interaction between the user and the chatbot more natural and dynamic.\n",
    "\n",
    "#Document and Present: \n",
    "#Create comprehensive documentation that outlines the changes made, the integration process, \n",
    "#and the benefits of using the Function Calling API. \n",
    "\n",
    "#Prepare a presentation to showcase the enhancements."
   ]
  },
  {
   "cell_type": "code",
   "execution_count": 96,
   "id": "2caa4f2b",
   "metadata": {},
   "outputs": [],
   "source": [
    "#This feature allows developers to seamlessly integrate functions into their interactions with the model. \n",
    "#Developers can describe processes within prompts, prompting the model to output a JSON object containing arguments.\n",
    "#This JSON can then be used to call those functions in the code. \n",
    "#It is important to note that the Chat Completions API does not directly execute functions but \n",
    "#instead generates the required JSON for facilitating function calls.\n",
    "\n",
    "#Function calling unleashes a range of practical scenarios, including:\n",
    "##Empowering chatbots with external APIs: \n",
    "##Translating natural language to API commands:\n",
    "##Extracting structured information from text:"
   ]
  },
  {
   "cell_type": "code",
   "execution_count": 474,
   "id": "d25d5549",
   "metadata": {},
   "outputs": [],
   "source": [
    "!pip install openai -q"
   ]
  },
  {
   "cell_type": "code",
   "execution_count": 475,
   "id": "88751c30",
   "metadata": {},
   "outputs": [],
   "source": [
    "import os,json,ast\n",
    "import openai\n",
    "import pandas as pd"
   ]
  },
  {
   "cell_type": "code",
   "execution_count": 476,
   "id": "4995e4f0",
   "metadata": {},
   "outputs": [],
   "source": [
    "# Read the text file containing the API key\n",
    "with open(\"api_key.txt\", \"r\") as f:\n",
    "  openai.api_key = ' '.join(f.readlines())\n",
    "\n",
    "# Update the OpenAI API key by updating the environment variable\n",
    "os.environ[\"api_key\"] = openai.api_key"
   ]
  },
  {
   "cell_type": "code",
   "execution_count": 477,
   "id": "88d74379",
   "metadata": {},
   "outputs": [],
   "source": [
    "GPT_MODEL = \"gpt-3.5-turbo-0613\""
   ]
  },
  {
   "cell_type": "code",
   "execution_count": 478,
   "id": "0e5eba79",
   "metadata": {},
   "outputs": [
    {
     "data": {
      "text/plain": [
       "<OpenAIObject chat.completion id=chatcmpl-8eLffkAotTy0ctHKUodHKUmbjpM7G at 0x12230af90> JSON: {\n",
       "  \"id\": \"chatcmpl-8eLffkAotTy0ctHKUodHKUmbjpM7G\",\n",
       "  \"object\": \"chat.completion\",\n",
       "  \"created\": 1704627115,\n",
       "  \"model\": \"gpt-3.5-turbo-0613\",\n",
       "  \"choices\": [\n",
       "    {\n",
       "      \"index\": 0,\n",
       "      \"message\": {\n",
       "        \"role\": \"assistant\",\n",
       "        \"content\": \"If you are a designer, it is crucial to consider a laptop with high performance and a good display for accurate color representation. Here are some suggestions:\\n\\n1. Apple MacBook Pro: Known for its excellent display quality and performance, MacBook Pro is popular among designers. The retina display provides great color accuracy, and its powerful processors handle graphic-intensive tasks effectively.\\n\\n2. Dell XPS 15: This laptop is equipped with a stunning InfinityEdge display that offers excellent color accuracy. It has a powerful processor, ample RAM, and a dedicated graphics card, making it great for design work.\\n\\n3. Microsoft Surface Book 3: The Surface Book 3 has a detachable touchscreen, making it versatile for design tasks, and it boasts an impressive resolution and accurate color reproduction. With a powerful processor and a dedicated GPU, it can handle demanding design software.\\n\\n4. Asus ZenBook Pro Duo: This laptop features a dual-screen design, with a primary 4K OLED display and a secondary touchscreen above the keyboard. It offers ample screen real estate for designers to work on multiple projects simultaneously.\\n\\n5. HP Spectre x360: Known for its sleek design and powerful performance, the Spectre x360 offers a vibrant display with excellent color accuracy. It also has a 2-in-1 form factor, allowing you to use it as a laptop or tablet for more flexibility.\\n\\nRemember to consider the specific requirements of your design work, such as the software you use and the level of performance needed, when making a final decision.\"\n",
       "      },\n",
       "      \"logprobs\": null,\n",
       "      \"finish_reason\": \"stop\"\n",
       "    }\n",
       "  ],\n",
       "  \"usage\": {\n",
       "    \"prompt_tokens\": 16,\n",
       "    \"completion_tokens\": 303,\n",
       "    \"total_tokens\": 319\n",
       "  },\n",
       "  \"system_fingerprint\": null\n",
       "}"
      ]
     },
     "execution_count": 478,
     "metadata": {},
     "output_type": "execute_result"
    }
   ],
   "source": [
    "chat_response = openai.ChatCompletion.create(\n",
    "    model = GPT_MODEL,\n",
    "    messages = [{\n",
    "        \"role\":\"user\",\n",
    "        \"content\": \"Suggest me a latop for a designer\"}\n",
    "    ]\n",
    ")\n",
    "chat_response"
   ]
  },
  {
   "cell_type": "code",
   "execution_count": 399,
   "id": "ccff31a1",
   "metadata": {},
   "outputs": [],
   "source": [
    "#We would need the following:\n",
    "\n",
    "#GPU intensity: high\n",
    "#Display quality: high\n",
    "#Protabiliy: low\n",
    "#Multitasking: high\n",
    "#Processing speed; medium\n",
    "#Budget: 50,000 INR"
   ]
  },
  {
   "cell_type": "code",
   "execution_count": 509,
   "id": "8089f35f",
   "metadata": {},
   "outputs": [],
   "source": [
    "function_descriptions = [\n",
    "    {\n",
    "        \"name\": \"get_laptop_info\",\n",
    "        \"description\": \"Get GPU Intensity Graphics Processor type\",\n",
    "        \"parameters\": {\n",
    "            \"type\": \"object\",\n",
    "            \"properties\": {\n",
    "                \"GPU_Intensity\": {\n",
    "                    \"type\": \"string\",\n",
    "                    \"description\": \"low: < for Integrated graphics or entry-level dedicated graphics like Intel UHD > ,\\n\"\n",
    "                                   \"medium: < if Mid-range dedicated graphics like M1, AMD Radeon, Intel Iris > ,\\n\"\n",
    "                                   \"high: < High-end dedicated graphics like Nvidia > ,\"\n",
    "                },\n",
    "                \"Display_quality\": {\n",
    "                    \"type\": \"string\",\n",
    "                    \"description\": \"low: < if resolution below Full HD (e.g., 1366x768). > ,\\n\"\n",
    "                                   \"medium: < if Full HD resolution (1920x1080) or higher. > ,\\n\"\n",
    "                                   \"high: < if High-resolution display (e.g., 4K, Retina) with excellent color accuracy and features like HDR support. >\"\n",
    "                },\n",
    "                \"Portability\": {\n",
    "                    \"type\": \"string\",\n",
    "                    \"description\": \"low: < if laptop weight is less than 1.51 kg > , \\n\"\n",
    "                                   \"medium: < if laptop weight is between 1.51 kg and 2.51 kg> , \\n\"\n",
    "                                   \"high: <if laptop weight is greater than 2.51 kg> \\n\"\n",
    "                },\n",
    "                \"Multitasking\": {\n",
    "                    \"type\": \"string\",\n",
    "                    \"description\": \"low: < If RAM size is 8GB, 12GB > , \\n\"\n",
    "                                   \"medium: < if RAM size is 16GB > , \\n\"\n",
    "                                   \"high: < if RAM size is 32GB, 64GB> \\n\"\n",
    "                },\n",
    "                \"Processing_Speed\": {\n",
    "                    \"type\": \"string\",\n",
    "                    \"description\": \"low: < if entry-level processors like Intel Core i3, AMD Ryzen 3> , \\n\"\n",
    "                                   \"medium: < if Mid-range processors like Intel Core i5, AMD Ryzen 5 > , \\n\"\n",
    "                                   \"high: < if High-performance processors like Intel Core i7, AMD Ryzen 7 or higher > \\n\"\n",
    "                },\n",
    "            },\n",
    "            \"required\": [\"GPU_Intensity\", \"Display_quality\", \"Portability\", \"Multitasking\", \"Processing_Speed\"],\n",
    "        },\n",
    "    }\n",
    "]\n"
   ]
  },
  {
   "cell_type": "code",
   "execution_count": 510,
   "id": "084df480",
   "metadata": {},
   "outputs": [],
   "source": [
    "user_prompt = \"Suggest me a laptop for a designer\" "
   ]
  },
  {
   "cell_type": "code",
   "execution_count": 511,
   "id": "014b5f0b",
   "metadata": {},
   "outputs": [
    {
     "data": {
      "text/plain": [
       "<OpenAIObject chat.completion id=chatcmpl-8eMQvgD7htUpvsZ8V0qngzpuedPt4 at 0x12274a0f0> JSON: {\n",
       "  \"id\": \"chatcmpl-8eMQvgD7htUpvsZ8V0qngzpuedPt4\",\n",
       "  \"object\": \"chat.completion\",\n",
       "  \"created\": 1704630045,\n",
       "  \"model\": \"gpt-3.5-turbo-0613\",\n",
       "  \"choices\": [\n",
       "    {\n",
       "      \"index\": 0,\n",
       "      \"message\": {\n",
       "        \"role\": \"assistant\",\n",
       "        \"content\": null,\n",
       "        \"function_call\": {\n",
       "          \"name\": \"get_laptop_info\",\n",
       "          \"arguments\": \"{\\n  \\\"GPU_Intensity\\\": \\\"medium\\\",\\n  \\\"Display_quality\\\": \\\"high\\\",\\n  \\\"Portability\\\": \\\"medium\\\",\\n  \\\"Multitasking\\\": \\\"high\\\",\\n  \\\"Processing_Speed\\\": \\\"high\\\"\\n}\"\n",
       "        }\n",
       "      },\n",
       "      \"logprobs\": null,\n",
       "      \"finish_reason\": \"function_call\"\n",
       "    }\n",
       "  ],\n",
       "  \"usage\": {\n",
       "    \"prompt_tokens\": 363,\n",
       "    \"completion_tokens\": 52,\n",
       "    \"total_tokens\": 415\n",
       "  },\n",
       "  \"system_fingerprint\": null\n",
       "}"
      ]
     },
     "execution_count": 511,
     "metadata": {},
     "output_type": "execute_result"
    }
   ],
   "source": [
    "# Call the ChatCompletion API\n",
    "chat_response = openai.ChatCompletion.create(\n",
    "    model=GPT_MODEL,\n",
    "    messages=[{\"role\": \"user\", \"content\": user_prompt}],\n",
    "    functions=function_descriptions,\n",
    "    function_call=\"auto\"\n",
    ")\n",
    "\n",
    "chat_response"
   ]
  },
  {
   "cell_type": "code",
   "execution_count": 512,
   "id": "5c8b7864",
   "metadata": {},
   "outputs": [
    {
     "data": {
      "text/plain": [
       "<OpenAIObject chat.completion id=chatcmpl-8eMQyvClvwOGKhK2XRAv59blmL2ux at 0x122749d90> JSON: {\n",
       "  \"id\": \"chatcmpl-8eMQyvClvwOGKhK2XRAv59blmL2ux\",\n",
       "  \"object\": \"chat.completion\",\n",
       "  \"created\": 1704630048,\n",
       "  \"model\": \"gpt-3.5-turbo-0613\",\n",
       "  \"choices\": [\n",
       "    {\n",
       "      \"index\": 0,\n",
       "      \"message\": {\n",
       "        \"role\": \"assistant\",\n",
       "        \"content\": \"Sure! To provide you with a suitable laptop suggestion, I need some information from you. Could you please answer the following questions?\\n\\n1. What is your budget for the laptop?\\n2. What will be the primary use of the laptop? (e.g., gaming, work, multimedia)\\n3. Do you have any specific brand preferences?\\n4. What is your preferred screen size?\\n5. Do you have any specific requirements regarding the processor, RAM, or storage capacity?\\n6. Do you need any specific ports or features (e.g., HDMI, USB Type-C, fingerprint scanner)?\\n7. Is there any particular operating system you prefer (e.g., Windows, macOS, Linux)?\\n8. How important is battery life to you?\\n\\nOnce you provide these details, I'll be able to suggest a laptop that fits your needs and preferences.\"\n",
       "      },\n",
       "      \"logprobs\": null,\n",
       "      \"finish_reason\": \"stop\"\n",
       "    }\n",
       "  ],\n",
       "  \"usage\": {\n",
       "    \"prompt_tokens\": 361,\n",
       "    \"completion_tokens\": 170,\n",
       "    \"total_tokens\": 531\n",
       "  },\n",
       "  \"system_fingerprint\": null\n",
       "}"
      ]
     },
     "execution_count": 512,
     "metadata": {},
     "output_type": "execute_result"
    }
   ],
   "source": [
    "chat_response = openai.ChatCompletion.create(\n",
    "    model = GPT_MODEL,\n",
    "    messages = [{\"role\":\"user\",\"content\": \"suggest me a laptop for \"}],\n",
    "    functions = function_descriptions,\n",
    "    function_call = \"auto\"\n",
    ")\n",
    "chat_response"
   ]
  },
  {
   "cell_type": "code",
   "execution_count": 513,
   "id": "6c085d00",
   "metadata": {},
   "outputs": [
    {
     "data": {
      "text/plain": [
       "<OpenAIObject chat.completion id=chatcmpl-8eMR69LvAioCoq01DBDeU1efeUe6f at 0x12274bb30> JSON: {\n",
       "  \"id\": \"chatcmpl-8eMR69LvAioCoq01DBDeU1efeUe6f\",\n",
       "  \"object\": \"chat.completion\",\n",
       "  \"created\": 1704630056,\n",
       "  \"model\": \"gpt-3.5-turbo-0613\",\n",
       "  \"choices\": [\n",
       "    {\n",
       "      \"index\": 0,\n",
       "      \"message\": {\n",
       "        \"role\": \"assistant\",\n",
       "        \"content\": null,\n",
       "        \"function_call\": {\n",
       "          \"name\": \"get_laptop_info\",\n",
       "          \"arguments\": \"{\\n  \\\"GPU_Intensity\\\": \\\"high\\\",\\n  \\\"Display_quality\\\": \\\"high\\\",\\n  \\\"Portability\\\": \\\"high\\\",\\n  \\\"Multitasking\\\": \\\"medium\\\",\\n  \\\"Processing_Speed\\\": \\\"high\\\"\\n}\"\n",
       "        }\n",
       "      },\n",
       "      \"logprobs\": null,\n",
       "      \"finish_reason\": \"function_call\"\n",
       "    }\n",
       "  ],\n",
       "  \"usage\": {\n",
       "    \"prompt_tokens\": 387,\n",
       "    \"completion_tokens\": 52,\n",
       "    \"total_tokens\": 439\n",
       "  },\n",
       "  \"system_fingerprint\": null\n",
       "}"
      ]
     },
     "execution_count": 513,
     "metadata": {},
     "output_type": "execute_result"
    }
   ],
   "source": [
    "chat_response = openai.ChatCompletion.create(\n",
    "    model = GPT_MODEL,\n",
    "    messages = [{\"role\":\"user\",\"content\": \"suggest me a laptop for a gamer with high processing speed, light weight of 2kg and 4k resolution and my budget is 50000 INR\"}],\n",
    "    functions = function_descriptions,\n",
    "    function_call = \"auto\"\n",
    ")\n",
    "chat_response"
   ]
  },
  {
   "cell_type": "code",
   "execution_count": 514,
   "id": "5a2bc856",
   "metadata": {},
   "outputs": [
    {
     "name": "stdout",
     "output_type": "stream",
     "text": [
      "{\n",
      "  \"id\": \"chatcmpl-8eMR9rBHAdV9wUCdlWVo6I0uZDyxa\",\n",
      "  \"object\": \"chat.completion\",\n",
      "  \"created\": 1704630059,\n",
      "  \"model\": \"gpt-3.5-turbo-0613\",\n",
      "  \"choices\": [\n",
      "    {\n",
      "      \"index\": 0,\n",
      "      \"message\": {\n",
      "        \"role\": \"assistant\",\n",
      "        \"content\": null,\n",
      "        \"function_call\": {\n",
      "          \"name\": \"get_laptop_info\",\n",
      "          \"arguments\": \"{\\n  \\\"GPU_Intensity\\\": \\\"high\\\",\\n  \\\"Display_quality\\\": \\\"high\\\",\\n  \\\"Portability\\\": \\\"low\\\",\\n  \\\"Multitasking\\\": \\\"medium\\\",\\n  \\\"Processing_Speed\\\": \\\"high\\\"\\n}\"\n",
      "        }\n",
      "      },\n",
      "      \"logprobs\": null,\n",
      "      \"finish_reason\": \"function_call\"\n",
      "    }\n",
      "  ],\n",
      "  \"usage\": {\n",
      "    \"prompt_tokens\": 397,\n",
      "    \"completion_tokens\": 52,\n",
      "    \"total_tokens\": 449\n",
      "  },\n",
      "  \"system_fingerprint\": null\n",
      "}\n"
     ]
    }
   ],
   "source": [
    "chat_response = openai.ChatCompletion.create(\n",
    "    model=GPT_MODEL,\n",
    "    messages=[\n",
    "        {\"role\": \"user\", \"content\": \"suggest me a laptop for a gamer\"},\n",
    "        {\"role\": \"assistant\", \"content\": \"Sure, please tell me more on specification you are looking for\"},\n",
    "        {\"role\": \"user\", \"content\": 'high processing speed, light weight of 2kg, 4k resolution'}\n",
    "    ],\n",
    "    functions=function_descriptions,\n",
    "    function_call=\"auto\"\n",
    ")\n",
    "\n",
    "print(chat_response)\n"
   ]
  },
  {
   "cell_type": "code",
   "execution_count": 515,
   "id": "264bb78c",
   "metadata": {},
   "outputs": [
    {
     "data": {
      "text/plain": [
       "[<OpenAIObject at 0x122748f50> JSON: {\n",
       "   \"index\": 0,\n",
       "   \"message\": {\n",
       "     \"role\": \"assistant\",\n",
       "     \"content\": null,\n",
       "     \"function_call\": {\n",
       "       \"name\": \"get_laptop_info\",\n",
       "       \"arguments\": \"{\\n  \\\"GPU_Intensity\\\": \\\"high\\\",\\n  \\\"Display_quality\\\": \\\"high\\\",\\n  \\\"Portability\\\": \\\"low\\\",\\n  \\\"Multitasking\\\": \\\"medium\\\",\\n  \\\"Processing_Speed\\\": \\\"high\\\"\\n}\"\n",
       "     }\n",
       "   },\n",
       "   \"logprobs\": null,\n",
       "   \"finish_reason\": \"function_call\"\n",
       " }]"
      ]
     },
     "execution_count": 515,
     "metadata": {},
     "output_type": "execute_result"
    }
   ],
   "source": [
    "chat_response[\"choices\"]"
   ]
  },
  {
   "cell_type": "code",
   "execution_count": 516,
   "id": "b4640de1",
   "metadata": {},
   "outputs": [
    {
     "data": {
      "text/plain": [
       "<OpenAIObject at 0x122748770> JSON: {\n",
       "  \"role\": \"assistant\",\n",
       "  \"content\": null,\n",
       "  \"function_call\": {\n",
       "    \"name\": \"get_laptop_info\",\n",
       "    \"arguments\": \"{\\n  \\\"GPU_Intensity\\\": \\\"high\\\",\\n  \\\"Display_quality\\\": \\\"high\\\",\\n  \\\"Portability\\\": \\\"low\\\",\\n  \\\"Multitasking\\\": \\\"medium\\\",\\n  \\\"Processing_Speed\\\": \\\"high\\\"\\n}\"\n",
       "  }\n",
       "}"
      ]
     },
     "execution_count": 516,
     "metadata": {},
     "output_type": "execute_result"
    }
   ],
   "source": [
    "chat_response[\"choices\"][0]['message']"
   ]
  },
  {
   "cell_type": "code",
   "execution_count": 556,
   "id": "868f0456",
   "metadata": {},
   "outputs": [],
   "source": [
    "def compare_laptops_with_user(user_req_string):\n",
    "    laptop_df= pd.read_csv('updated_laptop.csv')\n",
    "    user_requirements = extract_dictionary_from_string(user_req_string)\n",
    "    budget = int(user_requirements.get('budget', '0').replace(',', '').split()[0])\n",
    "    #This line retrieves the value associated with the key 'budget' from the user_requirements dictionary.\n",
    "    #If the key is not found, the default value '0' is used.\n",
    "    #The value is then processed to remove commas, split it into a list of strings, and take the first element of the list.\n",
    "    #Finally, the resulting value is converted to an integer and assigned to the variable budget.\n",
    "\n",
    "\n",
    "    filtered_laptops = laptop_df.copy()\n",
    "    filtered_laptops['Price'] = filtered_laptops['Price'].str.replace(',','').astype(int)\n",
    "    filtered_laptops = filtered_laptops[filtered_laptops['Price'] <= budget].copy()\n",
    "    #These lines create a copy of the laptop_df DataFrame and assign it to filtered_laptops.\n",
    "    #They then modify the 'Price' column in filtered_laptops by removing commas and converting the values to integers.\n",
    "    #Finally, they filter filtered_laptops to include only rows where the 'Price' is less than or equal to the budget.\n",
    "\n",
    "    mappings = {\n",
    "        'low': 0,\n",
    "        'medium': 1,\n",
    "        'high': 2\n",
    "    }\n",
    "    # Create 'Score' column in the DataFrame and initialize to 0\n",
    "    filtered_laptops['Score'] = 0\n",
    "    for index, row in filtered_laptops.iterrows():\n",
    "        user_product_match_str = row['laptop_feature']\n",
    "        laptop_values = extract_dictionary_from_string(user_product_match_str)\n",
    "        score = 0\n",
    "\n",
    "        for key, user_value in user_requirements.items():\n",
    "            if key.lower() == 'budget':\n",
    "                continue  # Skip budget comparison\n",
    "            laptop_value = laptop_values.get(key, None)\n",
    "            laptop_mapping = mappings.get(laptop_value.lower(), -1)\n",
    "            user_mapping = mappings.get(user_value.lower(), -1)\n",
    "            if laptop_mapping >= user_mapping:\n",
    "                ### If the laptop value is greater than or equal to the user value the score is incremented by 1\n",
    "                score += 1\n",
    "\n",
    "        filtered_laptops.loc[index, 'Score'] = score\n",
    "\n",
    "    # Sort the laptops by score in descending order and return the top 5 products\n",
    "    top_laptops = filtered_laptops.drop('laptop_feature', axis=1)\n",
    "    top_laptops = top_laptops.sort_values('Score', ascending=False).head(3)\n",
    "\n",
    "    return top_laptops.to_json(orient='records')"
   ]
  },
  {
   "cell_type": "code",
   "execution_count": 557,
   "id": "f5986fbf",
   "metadata": {},
   "outputs": [
    {
     "data": {
      "text/plain": [
       "'high'"
      ]
     },
     "execution_count": 557,
     "metadata": {},
     "output_type": "execute_result"
    }
   ],
   "source": [
    "\n",
    "output = chat_response[\"choices\"][0]['message']\n",
    "json.loads(output.function_call.arguments).get(\"GPU_Intensity\")"
   ]
  },
  {
   "cell_type": "code",
   "execution_count": 558,
   "id": "bfc6ef4d",
   "metadata": {},
   "outputs": [],
   "source": [
    "json.loads(output.function_call.arguments).get(\"Processing_speed\")"
   ]
  },
  {
   "cell_type": "code",
   "execution_count": 559,
   "id": "1c15aa7a",
   "metadata": {},
   "outputs": [
    {
     "data": {
      "text/plain": [
       "{'GPU_Intensity': 'high',\n",
       " 'Display_quality': 'high',\n",
       " 'Portability': 'low',\n",
       " 'Multitasking': 'medium',\n",
       " 'Processing_Speed': 'high'}"
      ]
     },
     "execution_count": 559,
     "metadata": {},
     "output_type": "execute_result"
    }
   ],
   "source": [
    "json.loads(output.function_call.arguments)"
   ]
  },
  {
   "cell_type": "code",
   "execution_count": 560,
   "id": "ddf6800d",
   "metadata": {},
   "outputs": [
    {
     "name": "stdout",
     "output_type": "stream",
     "text": [
      "<class 'dict'>\n"
     ]
    }
   ],
   "source": [
    "GPU = json.loads(output.function_call.arguments).get(\"GPU_Intensity\")\n",
    "Display = json.loads(output.function_call.arguments).get(\"Display_quality\")\n",
    "Portability = json.loads(output.function_call.arguments).get(\"Portability\")\n",
    "Multitasking = json.loads(output.function_call.arguments).get(\"Multitasking\")\n",
    "Processing = json.loads(output.function_call.arguments).get(\"Processing_speed\")\n",
    "Budget = json.loads(output.function_call.arguments).get(\"Budget\")\n",
    "params = json.loads(output.function_call.arguments)\n",
    "print(type(params))"
   ]
  },
  {
   "cell_type": "code",
   "execution_count": 561,
   "id": "193942da",
   "metadata": {},
   "outputs": [
    {
     "name": "stdout",
     "output_type": "stream",
     "text": [
      "high\n",
      "OLED\n",
      "low\n",
      "medium\n",
      "high\n",
      "None\n",
      "{'GPU_Intensity': 'high', 'Display_quality': 'high', 'Portability': 'low', 'Multitasking': 'medium', 'Processing_Speed': 'high'}\n"
     ]
    }
   ],
   "source": [
    "# Print the variables\n",
    "print(GPU_Intensity)\n",
    "print(Display_quality)\n",
    "print(Portability)\n",
    "print(Multitasking)\n",
    "print(Processing_speed)\n",
    "print(Budget)\n",
    "print(params)"
   ]
  },
  {
   "cell_type": "code",
   "execution_count": 562,
   "id": "160bc87d",
   "metadata": {},
   "outputs": [
    {
     "data": {
      "text/plain": [
       "<function __main__.get_laptop_info()>"
      ]
     },
     "execution_count": 562,
     "metadata": {},
     "output_type": "execute_result"
    }
   ],
   "source": [
    "eval(output.function_call.name)"
   ]
  },
  {
   "cell_type": "code",
   "execution_count": 563,
   "id": "a2524c5e",
   "metadata": {},
   "outputs": [],
   "source": [
    "choosen_function = eval(output.function_call.name)"
   ]
  },
  {
   "cell_type": "code",
   "execution_count": 564,
   "id": "84394dbd",
   "metadata": {},
   "outputs": [
    {
     "data": {
      "text/plain": [
       "<function __main__.get_laptop_info()>"
      ]
     },
     "execution_count": 564,
     "metadata": {},
     "output_type": "execute_result"
    }
   ],
   "source": [
    "choosen_function"
   ]
  },
  {
   "cell_type": "code",
   "execution_count": 566,
   "id": "d9e869b3",
   "metadata": {},
   "outputs": [
    {
     "ename": "TypeError",
     "evalue": "get_laptop_info() got an unexpected keyword argument 'GPU_Intensity'",
     "output_type": "error",
     "traceback": [
      "\u001b[0;31m---------------------------------------------------------------------------\u001b[0m",
      "\u001b[0;31mTypeError\u001b[0m                                 Traceback (most recent call last)",
      "Cell \u001b[0;32mIn[566], line 2\u001b[0m\n\u001b[1;32m      1\u001b[0m \u001b[38;5;66;03m#Could not solve this !!\u001b[39;00m\n\u001b[0;32m----> 2\u001b[0m choosen_function(\u001b[38;5;241m*\u001b[39m\u001b[38;5;241m*\u001b[39mparams)\n",
      "\u001b[0;31mTypeError\u001b[0m: get_laptop_info() got an unexpected keyword argument 'GPU_Intensity'"
     ]
    }
   ],
   "source": [
    "#Could not solve this !!\n",
    "choosen_function(**params)"
   ]
  },
  {
   "cell_type": "code",
   "execution_count": 574,
   "id": "07b36287",
   "metadata": {},
   "outputs": [
    {
     "data": {
      "text/plain": [
       "<OpenAIObject chat.completion id=chatcmpl-8ePEPhWA1nQQB9opZufYwjFShU57F at 0x122ca2930> JSON: {\n",
       "  \"id\": \"chatcmpl-8ePEPhWA1nQQB9opZufYwjFShU57F\",\n",
       "  \"object\": \"chat.completion\",\n",
       "  \"created\": 1704640801,\n",
       "  \"model\": \"gpt-3.5-turbo-0613\",\n",
       "  \"choices\": [\n",
       "    {\n",
       "      \"index\": 0,\n",
       "      \"message\": {\n",
       "        \"role\": \"assistant\",\n",
       "        \"content\": \"Based on your requirements, here are some laptop recommendations:\\n\\n1. Dell XPS 15 - This laptop has a high-end dedicated graphics card, a high-resolution display with excellent color accuracy, and a powerful processor. It may not be the most portable option due to its weight, but it offers great performance for multitasking and processing speed.\\n\\n2. Apple MacBook Pro - The MacBook Pro is known for its high-quality display and powerful performance. It has a dedicated graphics card and is suitable for multitasking and processing-intensive tasks. However, it may be more expensive than other options.\\n\\n3. Lenovo Legion Y540 - This gaming laptop offers a high-resolution display, a dedicated graphics card, and a powerful processor. It is a slightly more affordable option compared to the Dell XPS 15 and MacBook Pro.\\n\\n4. ASUS VivoBook S15 - If you prefer a more portable option, the ASUS VivoBook S15 is a good choice. It has a high-resolution display, a mid-range dedicated graphics card, and a powerful processor. It is lightweight and suitable for multitasking.\\n\\nThese are just a few suggestions, and there are many other laptop models available in the market that meet your requirements. It is recommended to compare prices, read reviews, and consider your budget before making a decision.\"\n",
       "      },\n",
       "      \"logprobs\": null,\n",
       "      \"finish_reason\": \"stop\"\n",
       "    }\n",
       "  ],\n",
       "  \"usage\": {\n",
       "    \"prompt_tokens\": 404,\n",
       "    \"completion_tokens\": 259,\n",
       "    \"total_tokens\": 663\n",
       "  },\n",
       "  \"system_fingerprint\": null\n",
       "}"
      ]
     },
     "execution_count": 574,
     "metadata": {},
     "output_type": "execute_result"
    }
   ],
   "source": [
    "chat_response = openai.ChatCompletion.create(\n",
    "    model = GPT_MODEL,\n",
    "    messages = [{\"role\":\"function\",\"name\": output.function_call.name,\"content\":'{\"GPU_Intensity\": \"high\", \"Display_quality\": \"high\", \"Portability\": \"low\", \"Multitasking\": \"medium\", \"Processing_Speed\": \"high\", \"Budget\": \"25000 INR\"}'}],\n",
    "    functions = function_descriptions,\n",
    "    function_call = \"auto\"\n",
    ")\n",
    "chat_response"
   ]
  },
  {
   "cell_type": "code",
   "execution_count": 575,
   "id": "b2c51b39",
   "metadata": {},
   "outputs": [
    {
     "data": {
      "text/plain": [
       "<function __main__.get_laptop_info()>"
      ]
     },
     "execution_count": 575,
     "metadata": {},
     "output_type": "execute_result"
    }
   ],
   "source": [
    "choosen_function"
   ]
  },
  {
   "cell_type": "code",
   "execution_count": 576,
   "id": "39df75e2",
   "metadata": {},
   "outputs": [
    {
     "data": {
      "text/plain": [
       "'get_laptop_info'"
      ]
     },
     "execution_count": 576,
     "metadata": {},
     "output_type": "execute_result"
    }
   ],
   "source": [
    "output.function_call.name"
   ]
  },
  {
   "cell_type": "code",
   "execution_count": 577,
   "id": "d0287a2e",
   "metadata": {},
   "outputs": [
    {
     "data": {
      "text/plain": [
       "<OpenAIObject chat.completion id=chatcmpl-8ePFTYLufuy9mEcDigEsYMQ2hzmLZ at 0x122ca2990> JSON: {\n",
       "  \"id\": \"chatcmpl-8ePFTYLufuy9mEcDigEsYMQ2hzmLZ\",\n",
       "  \"object\": \"chat.completion\",\n",
       "  \"created\": 1704640867,\n",
       "  \"model\": \"gpt-3.5-turbo-0613\",\n",
       "  \"choices\": [\n",
       "    {\n",
       "      \"index\": 0,\n",
       "      \"message\": {\n",
       "        \"role\": \"assistant\",\n",
       "        \"content\": \"{\\n  \\\"error\\\": \\\"Budget parameter is missing\\\"\\n}\",\n",
       "        \"function_call\": {\n",
       "          \"name\": \"get_laptop_info\",\n",
       "          \"arguments\": \"{\\\"GPU_Intensity\\\": \\\"high\\\", \\\"Display_quality\\\": \\\"high\\\", \\\"Portability\\\": \\\"low\\\", \\\"Multitasking\\\": \\\"medium\\\", \\\"Processing_Speed\\\": \\\"high\\\"}\"\n",
       "        }\n",
       "      },\n",
       "      \"logprobs\": null,\n",
       "      \"finish_reason\": \"function_call\"\n",
       "    }\n",
       "  ],\n",
       "  \"usage\": {\n",
       "    \"prompt_tokens\": 404,\n",
       "    \"completion_tokens\": 58,\n",
       "    \"total_tokens\": 462\n",
       "  },\n",
       "  \"system_fingerprint\": null\n",
       "}"
      ]
     },
     "execution_count": 577,
     "metadata": {},
     "output_type": "execute_result"
    }
   ],
   "source": [
    "chat_response = openai.ChatCompletion.create(\n",
    "    model = GPT_MODEL,\n",
    "    messages = [{\"role\":\"function\",\"name\": output.function_call.name,\"content\":'{\"GPU_Intensity\": \"high\", \"Display_quality\": \"high\", \"Portability\": \"low\", \"Multitasking\": \"medium\", \"Processing_Speed\": \"high\", \"Budget\": \"25000 INR\"}'}],\n",
    "    functions = function_descriptions,\n",
    "    function_call = \"auto\"\n",
    ")\n",
    "chat_response"
   ]
  },
  {
   "cell_type": "code",
   "execution_count": 585,
   "id": "abc949b2",
   "metadata": {},
   "outputs": [],
   "source": [
    "function_descriptions = [\n",
    "    {\n",
    "        \"name\": \"get_laptop_info\",\n",
    "        \"description\": \"Get GPU Intensity Graphics Processor type\",\n",
    "        \"parameters\": {\n",
    "            \"type\": \"object\",\n",
    "            \"properties\": {\n",
    "                \"GPU_Intensity\": {\n",
    "                    \"type\": \"string\",\n",
    "                    \"description\": \"low: < for Integrated graphics or entry-level dedicated graphics like Intel UHD > ,\\n\"\n",
    "                                   \"medium: < if Mid-range dedicated graphics like M1, AMD Radeon, Intel Iris > ,\\n\"\n",
    "                                   \"high: < High-end dedicated graphics like Nvidia > ,\"\n",
    "                },\n",
    "                \"Display_quality\": {\n",
    "                    \"type\": \"string\",\n",
    "                    \"description\": \"low: < if resolution below Full HD (e.g., 1366x768). > ,\\n\"\n",
    "                                   \"medium: < if Full HD resolution (1920x1080) or higher. > ,\\n\"\n",
    "                                   \"high: < if High-resolution display (e.g., 4K, Retina) with excellent color accuracy and features like HDR support. >\"\n",
    "                },\n",
    "                \"Portability\": {\n",
    "                    \"type\": \"string\",\n",
    "                    \"description\": \"low: < if laptop weight is less than 1.51 kg > , \\n\"\n",
    "                                   \"medium: < if laptop weight is between 1.51 kg and 2.51 kg> , \\n\"\n",
    "                                   \"high: <if laptop weight is greater than 2.51 kg> \\n\"\n",
    "                },\n",
    "                \"Multitasking\": {\n",
    "                    \"type\": \"string\",\n",
    "                    \"description\": \"low: < If RAM size is 8GB, 12GB > , \\n\"\n",
    "                                   \"medium: < if RAM size is 16GB > , \\n\"\n",
    "                                   \"high: < if RAM size is 32GB, 64GB> \\n\"\n",
    "                },\n",
    "                \"Processing_Speed\": {\n",
    "                    \"type\": \"string\",\n",
    "                    \"description\": \"low: < if entry-level processors like Intel Core i3, AMD Ryzen 3> , \\n\"\n",
    "                                   \"medium: < if Mid-range processors like Intel Core i5, AMD Ryzen 5 > , \\n\"\n",
    "                                   \"high: < if High-performance processors like Intel Core i7, AMD Ryzen 7 or higher > \\n\"\n",
    "                },\n",
    "                \"Budget\": {\n",
    "                    \"type\": \"string\",\n",
    "                    \"description\": \"20000 INR or higher > \\n\"\n",
    "                }\n",
    "            },\n",
    "            \"required\": [\"GPU_Intensity\", \"Display_quality\", \"Portability\", \"Multitasking\", \"Processing_Speed\", \"Budget\"],\n",
    "        },\n",
    "    }\n",
    "]\n"
   ]
  },
  {
   "cell_type": "code",
   "execution_count": 586,
   "id": "caa63bb1",
   "metadata": {},
   "outputs": [
    {
     "name": "stdout",
     "output_type": "stream",
     "text": [
      "high\n",
      "OLED\n",
      "low\n",
      "medium\n",
      "high\n",
      "None\n",
      "{'GPU_Intensity': 'high', 'Display_quality': 'high', 'Portability': 'low', 'Multitasking': 'medium', 'Processing_Speed': 'high'}\n"
     ]
    }
   ],
   "source": [
    "# Print the variables\n",
    "print(GPU_Intensity)\n",
    "print(Display_quality)\n",
    "print(Portability)\n",
    "print(Multitasking)\n",
    "print(Processing_speed)\n",
    "print(Budget)\n",
    "print(params)"
   ]
  },
  {
   "cell_type": "code",
   "execution_count": 587,
   "id": "c5eee5e1",
   "metadata": {},
   "outputs": [],
   "source": [
    "choosen_function = eval(output.function_call.name)"
   ]
  },
  {
   "cell_type": "code",
   "execution_count": 588,
   "id": "078ffcfc",
   "metadata": {},
   "outputs": [
    {
     "data": {
      "text/plain": [
       "<function __main__.get_laptop_info()>"
      ]
     },
     "execution_count": 588,
     "metadata": {},
     "output_type": "execute_result"
    }
   ],
   "source": [
    "choosen_function"
   ]
  },
  {
   "cell_type": "code",
   "execution_count": 589,
   "id": "dd03074b",
   "metadata": {},
   "outputs": [
    {
     "data": {
      "text/plain": [
       "'get_laptop_info'"
      ]
     },
     "execution_count": 589,
     "metadata": {},
     "output_type": "execute_result"
    }
   ],
   "source": [
    "output.function_call.name"
   ]
  },
  {
   "cell_type": "code",
   "execution_count": 590,
   "id": "32340f8d",
   "metadata": {},
   "outputs": [
    {
     "ename": "TypeError",
     "evalue": "get_laptop_info() got an unexpected keyword argument 'GPU_Intensity'",
     "output_type": "error",
     "traceback": [
      "\u001b[0;31m---------------------------------------------------------------------------\u001b[0m",
      "\u001b[0;31mTypeError\u001b[0m                                 Traceback (most recent call last)",
      "Cell \u001b[0;32mIn[590], line 2\u001b[0m\n\u001b[1;32m      1\u001b[0m \u001b[38;5;66;03m#Still Could not solve this !!\u001b[39;00m\n\u001b[0;32m----> 2\u001b[0m choosen_function(\u001b[38;5;241m*\u001b[39m\u001b[38;5;241m*\u001b[39mparams)\n",
      "\u001b[0;31mTypeError\u001b[0m: get_laptop_info() got an unexpected keyword argument 'GPU_Intensity'"
     ]
    }
   ],
   "source": [
    "#Still Could not solve this !!\n",
    "choosen_function(**params)"
   ]
  },
  {
   "cell_type": "code",
   "execution_count": 591,
   "id": "a4a330f7",
   "metadata": {},
   "outputs": [
    {
     "data": {
      "text/plain": [
       "<OpenAIObject chat.completion id=chatcmpl-8ePWDReGSoHdrJXg7bR8Alg74LR9P at 0x1225a3fb0> JSON: {\n",
       "  \"id\": \"chatcmpl-8ePWDReGSoHdrJXg7bR8Alg74LR9P\",\n",
       "  \"object\": \"chat.completion\",\n",
       "  \"created\": 1704641905,\n",
       "  \"model\": \"gpt-3.5-turbo-0613\",\n",
       "  \"choices\": [\n",
       "    {\n",
       "      \"index\": 0,\n",
       "      \"message\": {\n",
       "        \"role\": \"assistant\",\n",
       "        \"content\": \"{\\n  \\\"GPU_Intensity\\\": \\\"high\\\",\\n  \\\"Display_quality\\\": \\\"high\\\",\\n  \\\"Portability\\\": \\\"low\\\",\\n  \\\"Multitasking\\\": \\\"medium\\\",\\n  \\\"Processing_Speed\\\": \\\"high\\\",\\n  \\\"Budget\\\": \\\"25000 INR\\\"\\n}\\nBased on the given criteria, here are the recommended laptop specifications:\\n\\n- GPU Intensity: High\\n- Display Quality: High\\n- Portability: Low\\n- Multitasking: Medium\\n- Processing Speed: High\\n- Budget: 25000 INR\\n\\nConsidering these specifications, I recommend looking for a laptop with the following features:\\n\\n1. Graphics Processor: Look for a laptop with a high-performance dedicated graphics card, such as Nvidia GeForce GTX or RTX series.\\n\\n2. Display Quality: Search for a laptop with a high-resolution display, preferably Full HD (1920x1080) or higher. Look for features like HDR support and excellent color accuracy.\\n\\n3. Portability: Since portability is not a priority, you can focus on laptops with larger form factors and higher weight.\\n\\n4. Multitasking: Consider a laptop with a minimum of 16GB RAM to ensure smooth multitasking and handling multiple applications simultaneously.\\n\\n5. Processing Speed: Look for laptops with high-performance processors like Intel Core i7 or higher, or AMD Ryzen 7 or higher.\\n\\n6. Budget: Your budget of 25000 INR may limit the options to entry-level or older models. Consider looking for refurbished or discounted laptops to maximize the features within your budget.\\n\\nIt is important to note that finding a laptop with these specifications within your budget may be challenging. You may need to compromise on certain features or consider alternative options like refurbished laptops or upgrading individual components later on. Additionally, availability and pricing may vary depending on your location and current market conditions. It is recommended to thoroughly research and compare different laptop models before making a purchase.\"\n",
       "      },\n",
       "      \"logprobs\": null,\n",
       "      \"finish_reason\": \"stop\"\n",
       "    }\n",
       "  ],\n",
       "  \"usage\": {\n",
       "    \"prompt_tokens\": 417,\n",
       "    \"completion_tokens\": 384,\n",
       "    \"total_tokens\": 801\n",
       "  },\n",
       "  \"system_fingerprint\": null\n",
       "}"
      ]
     },
     "execution_count": 591,
     "metadata": {},
     "output_type": "execute_result"
    }
   ],
   "source": [
    "chat_response = openai.ChatCompletion.create(\n",
    "    model = GPT_MODEL,\n",
    "    messages = [{\"role\":\"function\",\"name\": output.function_call.name,\"content\":'{\"GPU_Intensity\": \"high\", \"Display_quality\": \"high\", \"Portability\": \"low\", \"Multitasking\": \"medium\", \"Processing_Speed\": \"high\", \"Budget\": \"25000 INR\"}'}],\n",
    "    functions = function_descriptions,\n",
    "    function_call = \"auto\"\n",
    ")\n",
    "chat_response"
   ]
  },
  {
   "cell_type": "code",
   "execution_count": 592,
   "id": "2ea35983",
   "metadata": {},
   "outputs": [
    {
     "name": "stdout",
     "output_type": "stream",
     "text": [
      "high\n",
      "OLED\n",
      "low\n",
      "medium\n",
      "high\n",
      "None\n",
      "{'GPU_Intensity': 'high', 'Display_quality': 'high', 'Portability': 'low', 'Multitasking': 'medium', 'Processing_Speed': 'high'}\n"
     ]
    }
   ],
   "source": [
    "# Print the variables\n",
    "print(GPU_Intensity)\n",
    "print(Display_quality)\n",
    "print(Portability)\n",
    "print(Multitasking)\n",
    "print(Processing_speed)\n",
    "print(Budget)\n",
    "print(params)"
   ]
  },
  {
   "cell_type": "code",
   "execution_count": 596,
   "id": "32f1da0e",
   "metadata": {},
   "outputs": [],
   "source": [
    "function_multiple_descriptions = [\n",
    "    {\n",
    "        \"name\": \"get_laptop_info\",\n",
    "        \"description\": \"When you get all six properties of the laptop\",\n",
    "        \"parameters\": {\n",
    "            \"type\": \"object\",\n",
    "            \"properties\": {\n",
    "                \"GPU_Intensity\": {\n",
    "                    \"type\": \"string\",\n",
    "                    \"description\": \"low: < for Integrated graphics or entry-level dedicated graphics like Intel UHD > ,\\n\"\n",
    "                                   \"medium: < if Mid-range dedicated graphics like M1, AMD Radeon, Intel Iris > ,\\n\"\n",
    "                                   \"high: < High-end dedicated graphics like Nvidia > ,\"\n",
    "                },\n",
    "                \"Display_quality\": {\n",
    "                    \"type\": \"string\",\n",
    "                    \"description\": \"low: < if resolution below Full HD (e.g., 1366x768). > ,\\n\"\n",
    "                                   \"medium: < if Full HD resolution (1920x1080) or higher. > ,\\n\"\n",
    "                                   \"high: < if High-resolution display (e.g., 4K, Retina) with excellent color accuracy and features like HDR support. >\"\n",
    "                },\n",
    "                \"Portability\": {\n",
    "                    \"type\": \"string\",\n",
    "                    \"description\": \"low: < if laptop weight is less than 1.51 kg > , \\n\"\n",
    "                                   \"medium: < if laptop weight is between 1.51 kg and 2.51 kg> , \\n\"\n",
    "                                   \"high: <if laptop weight is greater than 2.51 kg> \\n\"\n",
    "                },\n",
    "                \"Multitasking\": {\n",
    "                    \"type\": \"string\",\n",
    "                    \"description\": \"low: < If RAM size is 8GB, 12GB > , \\n\"\n",
    "                                   \"medium: < if RAM size is 16GB > , \\n\"\n",
    "                                   \"high: < if RAM size is 32GB, 64GB> \\n\"\n",
    "                },\n",
    "                \"Processing_Speed\": {\n",
    "                    \"type\": \"string\",\n",
    "                    \"description\": \"low: < if entry-level processors like Intel Core i3, AMD Ryzen 3> , \\n\"\n",
    "                                   \"medium: < if Mid-range processors like Intel Core i5, AMD Ryzen 5 > , \\n\"\n",
    "                                   \"high: < if High-performance processors like Intel Core i7, AMD Ryzen 7 or higher > \\n\"\n",
    "                },\n",
    "                \"Budget\": {\n",
    "                    \"type\": \"string\",\n",
    "                    \"description\": \"20000 INR or higher > \\n\"\n",
    "                }\n",
    "            },\n",
    "            \"required\": [\"GPU_Intensity\", \"Display_quality\", \"Portability\", \"Multitasking\", \"Processing_Speed\", \"Budget\"],\n",
    "        },\n",
    "    }\n",
    "]\n"
   ]
  },
  {
   "cell_type": "code",
   "execution_count": 597,
   "id": "98ca01c0",
   "metadata": {},
   "outputs": [],
   "source": [
    "user_prompt = \"This is Shil. I want buy a laptop for a developer which is light weight preferrably 2kg or less, since I will travel with it. Will also like to have a GPU of i6 and above with a 4k display quality and more than 15Gb RAM and budget of 100000INR\""
   ]
  },
  {
   "cell_type": "code",
   "execution_count": 598,
   "id": "e6f9e61c",
   "metadata": {},
   "outputs": [
    {
     "data": {
      "text/plain": [
       "<OpenAIObject chat.completion id=chatcmpl-8ePfUG5Byu72gYtKd1nfY6XET80XH at 0x1227489b0> JSON: {\n",
       "  \"id\": \"chatcmpl-8ePfUG5Byu72gYtKd1nfY6XET80XH\",\n",
       "  \"object\": \"chat.completion\",\n",
       "  \"created\": 1704642480,\n",
       "  \"model\": \"gpt-3.5-turbo-0613\",\n",
       "  \"choices\": [\n",
       "    {\n",
       "      \"index\": 0,\n",
       "      \"message\": {\n",
       "        \"role\": \"assistant\",\n",
       "        \"content\": null,\n",
       "        \"function_call\": {\n",
       "          \"name\": \"get_laptop_info\",\n",
       "          \"arguments\": \"{\\n  \\\"GPU_Intensity\\\": \\\"high\\\",\\n  \\\"Display_quality\\\": \\\"high\\\",\\n  \\\"Portability\\\": \\\"low\\\",\\n  \\\"Multitasking\\\": \\\"high\\\",\\n  \\\"Processing_Speed\\\": \\\"high\\\",\\n  \\\"Budget\\\": \\\"100000\\\"\\n}\"\n",
       "        }\n",
       "      },\n",
       "      \"logprobs\": null,\n",
       "      \"finish_reason\": \"function_call\"\n",
       "    }\n",
       "  ],\n",
       "  \"usage\": {\n",
       "    \"prompt_tokens\": 437,\n",
       "    \"completion_tokens\": 60,\n",
       "    \"total_tokens\": 497\n",
       "  },\n",
       "  \"system_fingerprint\": null\n",
       "}"
      ]
     },
     "execution_count": 598,
     "metadata": {},
     "output_type": "execute_result"
    }
   ],
   "source": [
    "chat_response = openai.ChatCompletion.create(\n",
    "    model = GPT_MODEL,\n",
    "    messages = [{\"role\":\"user\",\"content\":user_prompt}],\n",
    "    functions = function_multiple_descriptions,\n",
    "    function_call = \"auto\"\n",
    ")\n",
    "chat_response"
   ]
  },
  {
   "cell_type": "code",
   "execution_count": 599,
   "id": "d4410870",
   "metadata": {},
   "outputs": [],
   "source": [
    "function_multiple_descriptions_score = [\n",
    "    {\n",
    "        \"name\": \"get_laptop_info\",\n",
    "        \"description\": \"When you get all six properties of the laptop\",\n",
    "        \"parameters\": {\n",
    "            \"type\": \"object\",\n",
    "            \"properties\": {\n",
    "                \"GPU_Intensity\": {\n",
    "                    \"type\": \"string\",\n",
    "                    \"description\": \"low: < for Integrated graphics or entry-level dedicated graphics like Intel UHD > ,\\n\"\n",
    "                                   \"medium: < if Mid-range dedicated graphics like M1, AMD Radeon, Intel Iris > ,\\n\"\n",
    "                                   \"high: < High-end dedicated graphics like Nvidia > ,\"\n",
    "                },\n",
    "                \"Display_quality\": {\n",
    "                    \"type\": \"string\",\n",
    "                    \"description\": \"low: < if resolution below Full HD (e.g., 1366x768). > ,\\n\"\n",
    "                                   \"medium: < if Full HD resolution (1920x1080) or higher. > ,\\n\"\n",
    "                                   \"high: < if High-resolution display (e.g., 4K, Retina) with excellent color accuracy and features like HDR support. >\"\n",
    "                },\n",
    "                \"Portability\": {\n",
    "                    \"type\": \"string\",\n",
    "                    \"description\": \"low: < if laptop weight is less than 1.51 kg > , \\n\"\n",
    "                                   \"medium: < if laptop weight is between 1.51 kg and 2.51 kg> , \\n\"\n",
    "                                   \"high: <if laptop weight is greater than 2.51 kg> \\n\"\n",
    "                },\n",
    "                \"Multitasking\": {\n",
    "                    \"type\": \"string\",\n",
    "                    \"description\": \"low: < If RAM size is 8GB, 12GB > , \\n\"\n",
    "                                   \"medium: < if RAM size is 16GB > , \\n\"\n",
    "                                   \"high: < if RAM size is 32GB, 64GB> \\n\"\n",
    "                },\n",
    "                \"Processing_Speed\": {\n",
    "                    \"type\": \"string\",\n",
    "                    \"description\": \"low: < if entry-level processors like Intel Core i3, AMD Ryzen 3> , \\n\"\n",
    "                                   \"medium: < if Mid-range processors like Intel Core i5, AMD Ryzen 5 > , \\n\"\n",
    "                                   \"high: < if High-performance processors like Intel Core i7, AMD Ryzen 7 or higher > \\n\"\n",
    "                },\n",
    "                \"Budget\": {\n",
    "                    \"type\": \"string\",\n",
    "                    \"description\": \"20000 INR or higher > \\n\"\n",
    "                }\n",
    "            },\n",
    "            \"required\": [\"GPU_Intensity\", \"Display_quality\", \"Portability\", \"Multitasking\", \"Processing_Speed\", \"Budget\"],\n",
    "        },\n",
    "    },\n",
    "    \n",
    "    {\n",
    "        \"name\":\"top_3_laptop\",\n",
    "        \"description\":\"Compare and share top 3 laptop as options to user basis score\",\n",
    "        \"parameters\": {\n",
    "            \"type\":\"object\",\n",
    "            \"properties\":{\n",
    "                \"laptop_1\":{\n",
    "                    \"type\":\"string\",\n",
    "                    \"description\": \"This is the best match to requirement. eg: top_score\"\n",
    "                },\n",
    "                \"laptop_2\":{\n",
    "                    \"type\":\"string\",\n",
    "                    \"description\": \"This is the 2nd best match to requirement. eg: top_score minus 1\"\n",
    "            },\n",
    "                 \"laptop_3\":{\n",
    "                    \"type\":\"string\",\n",
    "                    \"description\": \"This is the 3rd best match to requirement. eg: top_score minus 2\"\n",
    "            },\n",
    "            },\n",
    "            \"required\" : [\"laptop_1\", \"laptop_2\", \"laptop_3\"],\n",
    "                },\n",
    "    },\n",
    "\n",
    "]"
   ]
  },
  {
   "cell_type": "code",
   "execution_count": 600,
   "id": "2f43a243",
   "metadata": {},
   "outputs": [
    {
     "data": {
      "text/plain": [
       "<OpenAIObject chat.completion id=chatcmpl-8eQfaSre1BtUruwudbTE13DEYSsI4 at 0x122572090> JSON: {\n",
       "  \"id\": \"chatcmpl-8eQfaSre1BtUruwudbTE13DEYSsI4\",\n",
       "  \"object\": \"chat.completion\",\n",
       "  \"created\": 1704646330,\n",
       "  \"model\": \"gpt-3.5-turbo-0613\",\n",
       "  \"choices\": [\n",
       "    {\n",
       "      \"index\": 0,\n",
       "      \"message\": {\n",
       "        \"role\": \"assistant\",\n",
       "        \"content\": null,\n",
       "        \"function_call\": {\n",
       "          \"name\": \"get_laptop_info\",\n",
       "          \"arguments\": \"{\\n  \\\"GPU_Intensity\\\": \\\"high\\\",\\n  \\\"Display_quality\\\": \\\"high\\\",\\n  \\\"Portability\\\": \\\"low\\\",\\n  \\\"Multitasking\\\": \\\"high\\\",\\n  \\\"Processing_Speed\\\": \\\"high\\\",\\n  \\\"Budget\\\": \\\"100000\\\"\\n}\"\n",
       "        }\n",
       "      },\n",
       "      \"logprobs\": null,\n",
       "      \"finish_reason\": \"function_call\"\n",
       "    }\n",
       "  ],\n",
       "  \"usage\": {\n",
       "    \"prompt_tokens\": 541,\n",
       "    \"completion_tokens\": 60,\n",
       "    \"total_tokens\": 601\n",
       "  },\n",
       "  \"system_fingerprint\": null\n",
       "}"
      ]
     },
     "execution_count": 600,
     "metadata": {},
     "output_type": "execute_result"
    }
   ],
   "source": [
    "chat_response = openai.ChatCompletion.create(\n",
    "    model = GPT_MODEL,\n",
    "    messages = [{\"role\":\"user\",\"content\":user_prompt}],\n",
    "    functions = function_multiple_descriptions_score,\n",
    "    function_call = \"auto\"\n",
    ")\n",
    "chat_response"
   ]
  },
  {
   "cell_type": "code",
   "execution_count": 605,
   "id": "f3388ef5",
   "metadata": {},
   "outputs": [],
   "source": [
    "def compare_laptops_with_user(user_req_string):\n",
    "    laptop_df= pd.read_csv('/Users/shiladityaghosh/Downloads/shil_laptop_data2.csv')\n",
    "    user_requirements = extract_dictionary_from_string(user_req_string)\n",
    "    budget = int(user_requirements.get('budget', '0').replace(',', '').split()[0])\n",
    "    #This line retrieves the value associated with the key 'budget' from the user_requirements dictionary.\n",
    "    #If the key is not found, the default value '0' is used.\n",
    "    #The value is then processed to remove commas, split it into a list of strings, and take the first element of the list.\n",
    "    #Finally, the resulting value is converted to an integer and assigned to the variable budget.\n",
    "\n",
    "\n",
    "    filtered_laptops = laptop_df.copy()\n",
    "    filtered_laptops['Price'] = filtered_laptops['Price'].str.replace(',','').astype(int)\n",
    "    filtered_laptops = filtered_laptops[filtered_laptops['Price'] <= budget].copy()\n",
    "    #These lines create a copy of the laptop_df DataFrame and assign it to filtered_laptops.\n",
    "    #They then modify the 'Price' column in filtered_laptops by removing commas and converting the values to integers.\n",
    "    #Finally, they filter filtered_laptops to include only rows where the 'Price' is less than or equal to the budget.\n",
    "\n",
    "    mappings = {\n",
    "        'low': 0,\n",
    "        'medium': 1,\n",
    "        'high': 2\n",
    "    }\n",
    "    # Create 'Score' column in the DataFrame and initialize to 0\n",
    "    filtered_laptops['Score'] = 0\n",
    "    for index, row in filtered_laptops.iterrows():\n",
    "        user_product_match_str = row['laptop_feature']\n",
    "        laptop_values = extract_dictionary_from_string(user_product_match_str)\n",
    "        score = 0\n",
    "\n",
    "        for key, user_value in user_requirements.items():\n",
    "            if key.lower() == 'budget':\n",
    "                continue  # Skip budget comparison\n",
    "            laptop_value = laptop_values.get(key, None)\n",
    "            laptop_mapping = mappings.get(laptop_value.lower(), -1)\n",
    "            user_mapping = mappings.get(user_value.lower(), -1)\n",
    "            if laptop_mapping >= user_mapping:\n",
    "                ### If the laptop value is greater than or equal to the user value the score is incremented by 1\n",
    "                score += 1\n",
    "\n",
    "        filtered_laptops.loc[index, 'Score'] = score\n",
    "\n",
    "    # Sort the laptops by score in descending order and return the top 5 products\n",
    "    top_laptops = filtered_laptops.drop('laptop_feature', axis=1)\n",
    "    top_laptops = top_laptops.sort_values('Score', ascending=False).head(3)\n",
    "\n",
    "    return top_laptops.to_json(orient='records')"
   ]
  },
  {
   "cell_type": "code",
   "execution_count": 618,
   "id": "a5835f25",
   "metadata": {},
   "outputs": [],
   "source": [
    "function_multiple_descriptions_score = [\n",
    "    {\n",
    "        \"name\":\"compare_laptops_with_user\",\n",
    "        \"description\":\"Compare and share top 3 laptop as options to user basis score\",\n",
    "        \"parameters\": {\n",
    "            \"type\":\"object\",\n",
    "            \"properties\":{\n",
    "                \"laptop_1\":{\n",
    "                    \"type\":\"string\",\n",
    "                    \"description\": \"This is the best match to requirement. eg: top_score\"\n",
    "                },\n",
    "                \"laptop_2\":{\n",
    "                    \"type\":\"string\",\n",
    "                    \"description\": \"This is the 2nd best match to requirement. eg: top_score minus 1\"\n",
    "            },\n",
    "                 \"laptop_3\":{\n",
    "                    \"type\":\"string\",\n",
    "                    \"description\": \"This is the 3rd best match to requirement. eg: top_score minus 2\"\n",
    "            },\n",
    "            },\n",
    "            \"required\" : [\"laptop_1\", \"laptop_2\", \"laptop_3\"],\n",
    "                },\n",
    "    },\n",
    "\n",
    "]"
   ]
  },
  {
   "cell_type": "code",
   "execution_count": 619,
   "id": "473a8dad",
   "metadata": {},
   "outputs": [
    {
     "data": {
      "text/plain": [
       "<OpenAIObject chat.completion id=chatcmpl-8edxcf1KJiaomQEeX7pae0CPQGiJG at 0x122f39df0> JSON: {\n",
       "  \"id\": \"chatcmpl-8edxcf1KJiaomQEeX7pae0CPQGiJG\",\n",
       "  \"object\": \"chat.completion\",\n",
       "  \"created\": 1704697420,\n",
       "  \"model\": \"gpt-3.5-turbo-0613\",\n",
       "  \"choices\": [\n",
       "    {\n",
       "      \"index\": 0,\n",
       "      \"message\": {\n",
       "        \"role\": \"assistant\",\n",
       "        \"content\": null,\n",
       "        \"function_call\": {\n",
       "          \"name\": \"compare_laptops_with_user\",\n",
       "          \"arguments\": \"{\\n  \\\"laptop_1\\\": \\\"Dell XPS 15\\\",\\n  \\\"laptop_2\\\": \\\"MacBook Pro\\\",\\n  \\\"laptop_3\\\": \\\"HP Spectre x360\\\"\\n}\"\n",
       "        }\n",
       "      },\n",
       "      \"logprobs\": null,\n",
       "      \"finish_reason\": \"function_call\"\n",
       "    }\n",
       "  ],\n",
       "  \"usage\": {\n",
       "    \"prompt_tokens\": 167,\n",
       "    \"completion_tokens\": 52,\n",
       "    \"total_tokens\": 219\n",
       "  },\n",
       "  \"system_fingerprint\": null\n",
       "}"
      ]
     },
     "execution_count": 619,
     "metadata": {},
     "output_type": "execute_result"
    }
   ],
   "source": [
    "chat_response = openai.ChatCompletion.create(\n",
    "    model = GPT_MODEL,\n",
    "    messages = [{\"role\":\"user\",\"content\":user_prompt}],\n",
    "    functions = function_multiple_descriptions_score,\n",
    "    function_call = \"auto\"\n",
    ")\n",
    "chat_response"
   ]
  },
  {
   "cell_type": "code",
   "execution_count": 620,
   "id": "4982521e",
   "metadata": {},
   "outputs": [],
   "source": [
    "user_prompt2 = \"This is Shil and i am a designer. Please help me choose a laptop from top 3 options available with high GPU intensity, light weight of 2kg, RAM of 16Gb, diaply quality of OLED and with a budget of 50000 INR. Give me top 3 options available\""
   ]
  },
  {
   "cell_type": "code",
   "execution_count": 621,
   "id": "4ef1bd78",
   "metadata": {},
   "outputs": [
    {
     "data": {
      "text/plain": [
       "<OpenAIObject chat.completion id=chatcmpl-8edxu6PqKeFHEUd4qIeBdmACEMf5T at 0x122f387d0> JSON: {\n",
       "  \"id\": \"chatcmpl-8edxu6PqKeFHEUd4qIeBdmACEMf5T\",\n",
       "  \"object\": \"chat.completion\",\n",
       "  \"created\": 1704697438,\n",
       "  \"model\": \"gpt-3.5-turbo-0613\",\n",
       "  \"choices\": [\n",
       "    {\n",
       "      \"index\": 0,\n",
       "      \"message\": {\n",
       "        \"role\": \"assistant\",\n",
       "        \"content\": null,\n",
       "        \"function_call\": {\n",
       "          \"name\": \"compare_laptops_with_user\",\n",
       "          \"arguments\": \"{\\n  \\\"laptop_1\\\": \\\"Dell XPS 15\\\",\\n  \\\"laptop_2\\\": \\\"Macbook Pro\\\",\\n  \\\"laptop_3\\\": \\\"HP Spectre x360\\\"\\n}\"\n",
       "        }\n",
       "      },\n",
       "      \"logprobs\": null,\n",
       "      \"finish_reason\": \"function_call\"\n",
       "    }\n",
       "  ],\n",
       "  \"usage\": {\n",
       "    \"prompt_tokens\": 191,\n",
       "    \"completion_tokens\": 52,\n",
       "    \"total_tokens\": 243\n",
       "  },\n",
       "  \"system_fingerprint\": null\n",
       "}"
      ]
     },
     "execution_count": 621,
     "metadata": {},
     "output_type": "execute_result"
    }
   ],
   "source": [
    "chat_response = openai.ChatCompletion.create(\n",
    "    model = GPT_MODEL,\n",
    "    messages = [{\"role\":\"user\",\"content\":user_prompt2}],\n",
    "    functions = function_multiple_descriptions_score,\n",
    "    function_call = \"auto\"\n",
    ")\n",
    "chat_response"
   ]
  },
  {
   "cell_type": "code",
   "execution_count": 622,
   "id": "b1569d62",
   "metadata": {},
   "outputs": [
    {
     "data": {
      "text/plain": [
       "<OpenAIObject at 0x122f384d0> JSON: {\n",
       "  \"role\": \"assistant\",\n",
       "  \"content\": null,\n",
       "  \"function_call\": {\n",
       "    \"name\": \"compare_laptops_with_user\",\n",
       "    \"arguments\": \"{\\n  \\\"laptop_1\\\": \\\"Dell XPS 15\\\",\\n  \\\"laptop_2\\\": \\\"Macbook Pro\\\",\\n  \\\"laptop_3\\\": \\\"HP Spectre x360\\\"\\n}\"\n",
       "  }\n",
       "}"
      ]
     },
     "execution_count": 622,
     "metadata": {},
     "output_type": "execute_result"
    }
   ],
   "source": [
    "chat_response[\"choices\"][0]['message']"
   ]
  },
  {
   "cell_type": "code",
   "execution_count": 630,
   "id": "02f5bcae",
   "metadata": {},
   "outputs": [
    {
     "data": {
      "text/plain": [
       "{'laptop_1': 'Dell XPS 15',\n",
       " 'laptop_2': 'Macbook Pro',\n",
       " 'laptop_3': 'HP Spectre x360'}"
      ]
     },
     "execution_count": 630,
     "metadata": {},
     "output_type": "execute_result"
    }
   ],
   "source": [
    "json.loads(output.function_call.arguments)"
   ]
  },
  {
   "cell_type": "code",
   "execution_count": null,
   "id": "4af31146",
   "metadata": {},
   "outputs": [],
   "source": []
  }
 ],
 "metadata": {
  "kernelspec": {
   "display_name": "Python 3 (ipykernel)",
   "language": "python",
   "name": "python3"
  },
  "language_info": {
   "codemirror_mode": {
    "name": "ipython",
    "version": 3
   },
   "file_extension": ".py",
   "mimetype": "text/x-python",
   "name": "python",
   "nbconvert_exporter": "python",
   "pygments_lexer": "ipython3",
   "version": "3.11.5"
  }
 },
 "nbformat": 4,
 "nbformat_minor": 5
}
