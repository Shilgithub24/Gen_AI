{
  "nbformat": 4,
  "nbformat_minor": 0,
  "metadata": {
    "colab": {
      "provenance": []
    },
    "kernelspec": {
      "name": "python3",
      "display_name": "Python 3"
    },
    "language_info": {
      "name": "python"
    }
  },
  "cells": [
    {
      "cell_type": "code",
      "execution_count": null,
      "metadata": {
        "colab": {
          "base_uri": "https://localhost:8080/"
        },
        "id": "yRg79rkgnnqZ",
        "outputId": "c2deebc9-378d-4b75-c852-8895b5e9df56"
      },
      "outputs": [
        {
          "output_type": "stream",
          "name": "stdout",
          "text": [
            "Collecting llama-index\n",
            "  Downloading llama_index-0.9.46-py3-none-any.whl (15.9 MB)\n",
            "\u001b[2K     \u001b[90m━━━━━━━━━━━━━━━━━━━━━━━━━━━━━━━━━━━━━━━━\u001b[0m \u001b[32m15.9/15.9 MB\u001b[0m \u001b[31m65.4 MB/s\u001b[0m eta \u001b[36m0:00:00\u001b[0m\n",
            "\u001b[?25hRequirement already satisfied: SQLAlchemy[asyncio]>=1.4.49 in /usr/local/lib/python3.10/dist-packages (from llama-index) (2.0.25)\n",
            "Requirement already satisfied: aiohttp<4.0.0,>=3.8.6 in /usr/local/lib/python3.10/dist-packages (from llama-index) (3.9.3)\n",
            "Collecting dataclasses-json (from llama-index)\n",
            "  Downloading dataclasses_json-0.6.4-py3-none-any.whl (28 kB)\n",
            "Collecting deprecated>=1.2.9.3 (from llama-index)\n",
            "  Downloading Deprecated-1.2.14-py2.py3-none-any.whl (9.6 kB)\n",
            "Collecting dirtyjson<2.0.0,>=1.0.8 (from llama-index)\n",
            "  Downloading dirtyjson-1.0.8-py3-none-any.whl (25 kB)\n",
            "Requirement already satisfied: fsspec>=2023.5.0 in /usr/local/lib/python3.10/dist-packages (from llama-index) (2023.6.0)\n",
            "Collecting httpx (from llama-index)\n",
            "  Downloading httpx-0.26.0-py3-none-any.whl (75 kB)\n",
            "\u001b[2K     \u001b[90m━━━━━━━━━━━━━━━━━━━━━━━━━━━━━━━━━━━━━━━━\u001b[0m \u001b[32m75.9/75.9 kB\u001b[0m \u001b[31m8.8 MB/s\u001b[0m eta \u001b[36m0:00:00\u001b[0m\n",
            "\u001b[?25hRequirement already satisfied: nest-asyncio<2.0.0,>=1.5.8 in /usr/local/lib/python3.10/dist-packages (from llama-index) (1.6.0)\n",
            "Requirement already satisfied: networkx>=3.0 in /usr/local/lib/python3.10/dist-packages (from llama-index) (3.2.1)\n",
            "Requirement already satisfied: nltk<4.0.0,>=3.8.1 in /usr/local/lib/python3.10/dist-packages (from llama-index) (3.8.1)\n",
            "Requirement already satisfied: numpy in /usr/local/lib/python3.10/dist-packages (from llama-index) (1.23.5)\n",
            "Collecting openai>=1.1.0 (from llama-index)\n",
            "  Downloading openai-1.12.0-py3-none-any.whl (226 kB)\n",
            "\u001b[2K     \u001b[90m━━━━━━━━━━━━━━━━━━━━━━━━━━━━━━━━━━━━━━━━\u001b[0m \u001b[32m226.7/226.7 kB\u001b[0m \u001b[31m20.5 MB/s\u001b[0m eta \u001b[36m0:00:00\u001b[0m\n",
            "\u001b[?25hRequirement already satisfied: pandas in /usr/local/lib/python3.10/dist-packages (from llama-index) (1.5.3)\n",
            "Requirement already satisfied: requests>=2.31.0 in /usr/local/lib/python3.10/dist-packages (from llama-index) (2.31.0)\n",
            "Requirement already satisfied: tenacity<9.0.0,>=8.2.0 in /usr/local/lib/python3.10/dist-packages (from llama-index) (8.2.3)\n",
            "Collecting tiktoken>=0.3.3 (from llama-index)\n",
            "  Downloading tiktoken-0.6.0-cp310-cp310-manylinux_2_17_x86_64.manylinux2014_x86_64.whl (1.8 MB)\n",
            "\u001b[2K     \u001b[90m━━━━━━━━━━━━━━━━━━━━━━━━━━━━━━━━━━━━━━━━\u001b[0m \u001b[32m1.8/1.8 MB\u001b[0m \u001b[31m59.1 MB/s\u001b[0m eta \u001b[36m0:00:00\u001b[0m\n",
            "\u001b[?25hRequirement already satisfied: typing-extensions>=4.5.0 in /usr/local/lib/python3.10/dist-packages (from llama-index) (4.9.0)\n",
            "Collecting typing-inspect>=0.8.0 (from llama-index)\n",
            "  Downloading typing_inspect-0.9.0-py3-none-any.whl (8.8 kB)\n",
            "Requirement already satisfied: aiosignal>=1.1.2 in /usr/local/lib/python3.10/dist-packages (from aiohttp<4.0.0,>=3.8.6->llama-index) (1.3.1)\n",
            "Requirement already satisfied: attrs>=17.3.0 in /usr/local/lib/python3.10/dist-packages (from aiohttp<4.0.0,>=3.8.6->llama-index) (23.2.0)\n",
            "Requirement already satisfied: frozenlist>=1.1.1 in /usr/local/lib/python3.10/dist-packages (from aiohttp<4.0.0,>=3.8.6->llama-index) (1.4.1)\n",
            "Requirement already satisfied: multidict<7.0,>=4.5 in /usr/local/lib/python3.10/dist-packages (from aiohttp<4.0.0,>=3.8.6->llama-index) (6.0.5)\n",
            "Requirement already satisfied: yarl<2.0,>=1.0 in /usr/local/lib/python3.10/dist-packages (from aiohttp<4.0.0,>=3.8.6->llama-index) (1.9.4)\n",
            "Requirement already satisfied: async-timeout<5.0,>=4.0 in /usr/local/lib/python3.10/dist-packages (from aiohttp<4.0.0,>=3.8.6->llama-index) (4.0.3)\n",
            "Requirement already satisfied: wrapt<2,>=1.10 in /usr/local/lib/python3.10/dist-packages (from deprecated>=1.2.9.3->llama-index) (1.14.1)\n",
            "Requirement already satisfied: click in /usr/local/lib/python3.10/dist-packages (from nltk<4.0.0,>=3.8.1->llama-index) (8.1.7)\n",
            "Requirement already satisfied: joblib in /usr/local/lib/python3.10/dist-packages (from nltk<4.0.0,>=3.8.1->llama-index) (1.3.2)\n",
            "Requirement already satisfied: regex>=2021.8.3 in /usr/local/lib/python3.10/dist-packages (from nltk<4.0.0,>=3.8.1->llama-index) (2023.12.25)\n",
            "Requirement already satisfied: tqdm in /usr/local/lib/python3.10/dist-packages (from nltk<4.0.0,>=3.8.1->llama-index) (4.66.1)\n",
            "Requirement already satisfied: anyio<5,>=3.5.0 in /usr/local/lib/python3.10/dist-packages (from openai>=1.1.0->llama-index) (3.7.1)\n",
            "Requirement already satisfied: distro<2,>=1.7.0 in /usr/lib/python3/dist-packages (from openai>=1.1.0->llama-index) (1.7.0)\n",
            "Requirement already satisfied: pydantic<3,>=1.9.0 in /usr/local/lib/python3.10/dist-packages (from openai>=1.1.0->llama-index) (2.6.1)\n",
            "Requirement already satisfied: sniffio in /usr/local/lib/python3.10/dist-packages (from openai>=1.1.0->llama-index) (1.3.0)\n",
            "Requirement already satisfied: certifi in /usr/local/lib/python3.10/dist-packages (from httpx->llama-index) (2024.2.2)\n",
            "Collecting httpcore==1.* (from httpx->llama-index)\n",
            "  Downloading httpcore-1.0.2-py3-none-any.whl (76 kB)\n",
            "\u001b[2K     \u001b[90m━━━━━━━━━━━━━━━━━━━━━━━━━━━━━━━━━━━━━━━━\u001b[0m \u001b[32m76.9/76.9 kB\u001b[0m \u001b[31m8.8 MB/s\u001b[0m eta \u001b[36m0:00:00\u001b[0m\n",
            "\u001b[?25hRequirement already satisfied: idna in /usr/local/lib/python3.10/dist-packages (from httpx->llama-index) (3.6)\n",
            "Collecting h11<0.15,>=0.13 (from httpcore==1.*->httpx->llama-index)\n",
            "  Downloading h11-0.14.0-py3-none-any.whl (58 kB)\n",
            "\u001b[2K     \u001b[90m━━━━━━━━━━━━━━━━━━━━━━━━━━━━━━━━━━━━━━━━\u001b[0m \u001b[32m58.3/58.3 kB\u001b[0m \u001b[31m6.6 MB/s\u001b[0m eta \u001b[36m0:00:00\u001b[0m\n",
            "\u001b[?25hRequirement already satisfied: charset-normalizer<4,>=2 in /usr/local/lib/python3.10/dist-packages (from requests>=2.31.0->llama-index) (3.3.2)\n",
            "Requirement already satisfied: urllib3<3,>=1.21.1 in /usr/local/lib/python3.10/dist-packages (from requests>=2.31.0->llama-index) (2.0.7)\n",
            "Requirement already satisfied: greenlet!=0.4.17 in /usr/local/lib/python3.10/dist-packages (from SQLAlchemy[asyncio]>=1.4.49->llama-index) (3.0.3)\n",
            "Collecting mypy-extensions>=0.3.0 (from typing-inspect>=0.8.0->llama-index)\n",
            "  Downloading mypy_extensions-1.0.0-py3-none-any.whl (4.7 kB)\n",
            "Collecting marshmallow<4.0.0,>=3.18.0 (from dataclasses-json->llama-index)\n",
            "  Downloading marshmallow-3.20.2-py3-none-any.whl (49 kB)\n",
            "\u001b[2K     \u001b[90m━━━━━━━━━━━━━━━━━━━━━━━━━━━━━━━━━━━━━━━━\u001b[0m \u001b[32m49.4/49.4 kB\u001b[0m \u001b[31m6.1 MB/s\u001b[0m eta \u001b[36m0:00:00\u001b[0m\n",
            "\u001b[?25hRequirement already satisfied: python-dateutil>=2.8.1 in /usr/local/lib/python3.10/dist-packages (from pandas->llama-index) (2.8.2)\n",
            "Requirement already satisfied: pytz>=2020.1 in /usr/local/lib/python3.10/dist-packages (from pandas->llama-index) (2023.4)\n",
            "Requirement already satisfied: exceptiongroup in /usr/local/lib/python3.10/dist-packages (from anyio<5,>=3.5.0->openai>=1.1.0->llama-index) (1.2.0)\n",
            "Requirement already satisfied: packaging>=17.0 in /usr/local/lib/python3.10/dist-packages (from marshmallow<4.0.0,>=3.18.0->dataclasses-json->llama-index) (23.2)\n",
            "Requirement already satisfied: annotated-types>=0.4.0 in /usr/local/lib/python3.10/dist-packages (from pydantic<3,>=1.9.0->openai>=1.1.0->llama-index) (0.6.0)\n",
            "Requirement already satisfied: pydantic-core==2.16.2 in /usr/local/lib/python3.10/dist-packages (from pydantic<3,>=1.9.0->openai>=1.1.0->llama-index) (2.16.2)\n",
            "Requirement already satisfied: six>=1.5 in /usr/local/lib/python3.10/dist-packages (from python-dateutil>=2.8.1->pandas->llama-index) (1.16.0)\n",
            "Installing collected packages: dirtyjson, mypy-extensions, marshmallow, h11, deprecated, typing-inspect, tiktoken, httpcore, httpx, dataclasses-json, openai, llama-index\n",
            "\u001b[31mERROR: pip's dependency resolver does not currently take into account all the packages that are installed. This behaviour is the source of the following dependency conflicts.\n",
            "llmx 0.0.15a0 requires cohere, which is not installed.\u001b[0m\u001b[31m\n",
            "\u001b[0mSuccessfully installed dataclasses-json-0.6.4 deprecated-1.2.14 dirtyjson-1.0.8 h11-0.14.0 httpcore-1.0.2 httpx-0.26.0 llama-index-0.9.46 marshmallow-3.20.2 mypy-extensions-1.0.0 openai-1.12.0 tiktoken-0.6.0 typing-inspect-0.9.0\n"
          ]
        }
      ],
      "source": [
        "!pip install llama-index"
      ]
    },
    {
      "cell_type": "markdown",
      "source": [
        "\n",
        "Problem Statement - A sample life insurance policy is shared with us. Our goal here is to build a simple RAG application on the policy statement pdf document.\n",
        "\n",
        "Solution Strategy - Build a POC/MVP which should solve the following requirements:\n",
        "\n",
        "Users would get responses from the policy document.\n",
        "If they want to refer to the original page from which the bot is responding, the bot should provide a citation as well.\n",
        "\n",
        "Goal - Solving the above two requirements well in the POC/MVP would ensure that the accuracy of the overall model is good and therefore further improvisations and customizations make sense.\n",
        "\n",
        "Data Used - Principal Sample Life Insurance documents stored in a single folder\n",
        "\n",
        "Tools used - LlamaIndex (only for now) has been used due to its powerful query engine, fast data processing using data loaders and directory readers as well as easier and faster implementation using fewer lines of code."
      ],
      "metadata": {
        "id": "PDtaWXzprmJ0"
      }
    },
    {
      "cell_type": "code",
      "source": [
        "from google.colab import drive\n",
        "drive.mount('/content/drive/')"
      ],
      "metadata": {
        "colab": {
          "base_uri": "https://localhost:8080/"
        },
        "id": "B2-gWAYHkZcD",
        "outputId": "a73bf884-a23d-4c80-96da-d80112afbb71"
      },
      "execution_count": null,
      "outputs": [
        {
          "output_type": "stream",
          "name": "stdout",
          "text": [
            "Mounted at /content/drive/\n"
          ]
        }
      ]
    },
    {
      "cell_type": "code",
      "source": [
        "# Example: If the file is in a different directory, provide the full path\n",
        "with open('/content/drive/MyDrive/LLaMa_Index_Session_CollabNotebook/api_key.txt', 'r') as key_file:\n",
        "    OPENAI_API_KEY = key_file.read().strip()"
      ],
      "metadata": {
        "id": "FmKm1Zqf2Vqf"
      },
      "execution_count": null,
      "outputs": []
    },
    {
      "cell_type": "code",
      "source": [
        "#Loading docx2txt for document reading related dependencies\n",
        "!pip install docx2txt"
      ],
      "metadata": {
        "id": "nzoQZpL03Db6",
        "colab": {
          "base_uri": "https://localhost:8080/"
        },
        "outputId": "37f53efd-f734-4729-a913-83c02f0a5162"
      },
      "execution_count": null,
      "outputs": [
        {
          "output_type": "stream",
          "name": "stdout",
          "text": [
            "Collecting docx2txt\n",
            "  Downloading docx2txt-0.8.tar.gz (2.8 kB)\n",
            "  Preparing metadata (setup.py) ... \u001b[?25l\u001b[?25hdone\n",
            "Building wheels for collected packages: docx2txt\n",
            "  Building wheel for docx2txt (setup.py) ... \u001b[?25l\u001b[?25hdone\n",
            "  Created wheel for docx2txt: filename=docx2txt-0.8-py3-none-any.whl size=3960 sha256=4df6599cb7c7c23b3d3d0dbd8246431a75d114d2b07d6416627a6d1e2cec2cb8\n",
            "  Stored in directory: /root/.cache/pip/wheels/22/58/cf/093d0a6c3ecfdfc5f6ddd5524043b88e59a9a199cb02352966\n",
            "Successfully built docx2txt\n",
            "Installing collected packages: docx2txt\n",
            "Successfully installed docx2txt-0.8\n"
          ]
        }
      ]
    },
    {
      "cell_type": "code",
      "source": [
        "!pip install pypdf"
      ],
      "metadata": {
        "id": "FA5C6NFE8_oK",
        "outputId": "70092bd2-4577-4543-9d0e-57bad10d85bd",
        "colab": {
          "base_uri": "https://localhost:8080/"
        }
      },
      "execution_count": null,
      "outputs": [
        {
          "output_type": "stream",
          "name": "stdout",
          "text": [
            "Collecting pypdf\n",
            "  Downloading pypdf-4.0.1-py3-none-any.whl (283 kB)\n",
            "\u001b[?25l     \u001b[90m━━━━━━━━━━━━━━━━━━━━━━━━━━━━━━━━━━━━━━━━\u001b[0m \u001b[32m0.0/284.0 kB\u001b[0m \u001b[31m?\u001b[0m eta \u001b[36m-:--:--\u001b[0m\r\u001b[2K     \u001b[91m━━━━━━━━━━━━━━━━━━━━━━━━━━━\u001b[0m\u001b[90m╺\u001b[0m\u001b[90m━━━━━━━━━━━━\u001b[0m \u001b[32m194.6/284.0 kB\u001b[0m \u001b[31m5.7 MB/s\u001b[0m eta \u001b[36m0:00:01\u001b[0m\r\u001b[2K     \u001b[90m━━━━━━━━━━━━━━━━━━━━━━━━━━━━━━━━━━━━━━━━\u001b[0m \u001b[32m284.0/284.0 kB\u001b[0m \u001b[31m5.5 MB/s\u001b[0m eta \u001b[36m0:00:00\u001b[0m\n",
            "\u001b[?25hInstalling collected packages: pypdf\n",
            "Successfully installed pypdf-4.0.1\n"
          ]
        }
      ]
    },
    {
      "cell_type": "code",
      "source": [
        "!pip install openai"
      ],
      "metadata": {
        "colab": {
          "base_uri": "https://localhost:8080/"
        },
        "id": "8TN_2alRwH6T",
        "outputId": "2d1071d4-6491-4cd5-fb19-92ea764f61f8"
      },
      "execution_count": null,
      "outputs": [
        {
          "output_type": "stream",
          "name": "stdout",
          "text": [
            "Requirement already satisfied: openai in /usr/local/lib/python3.10/dist-packages (1.12.0)\n",
            "Requirement already satisfied: anyio<5,>=3.5.0 in /usr/local/lib/python3.10/dist-packages (from openai) (3.7.1)\n",
            "Requirement already satisfied: distro<2,>=1.7.0 in /usr/lib/python3/dist-packages (from openai) (1.7.0)\n",
            "Requirement already satisfied: httpx<1,>=0.23.0 in /usr/local/lib/python3.10/dist-packages (from openai) (0.26.0)\n",
            "Requirement already satisfied: pydantic<3,>=1.9.0 in /usr/local/lib/python3.10/dist-packages (from openai) (2.6.1)\n",
            "Requirement already satisfied: sniffio in /usr/local/lib/python3.10/dist-packages (from openai) (1.3.0)\n",
            "Requirement already satisfied: tqdm>4 in /usr/local/lib/python3.10/dist-packages (from openai) (4.66.1)\n",
            "Requirement already satisfied: typing-extensions<5,>=4.7 in /usr/local/lib/python3.10/dist-packages (from openai) (4.9.0)\n",
            "Requirement already satisfied: idna>=2.8 in /usr/local/lib/python3.10/dist-packages (from anyio<5,>=3.5.0->openai) (3.6)\n",
            "Requirement already satisfied: exceptiongroup in /usr/local/lib/python3.10/dist-packages (from anyio<5,>=3.5.0->openai) (1.2.0)\n",
            "Requirement already satisfied: certifi in /usr/local/lib/python3.10/dist-packages (from httpx<1,>=0.23.0->openai) (2024.2.2)\n",
            "Requirement already satisfied: httpcore==1.* in /usr/local/lib/python3.10/dist-packages (from httpx<1,>=0.23.0->openai) (1.0.2)\n",
            "Requirement already satisfied: h11<0.15,>=0.13 in /usr/local/lib/python3.10/dist-packages (from httpcore==1.*->httpx<1,>=0.23.0->openai) (0.14.0)\n",
            "Requirement already satisfied: annotated-types>=0.4.0 in /usr/local/lib/python3.10/dist-packages (from pydantic<3,>=1.9.0->openai) (0.6.0)\n",
            "Requirement already satisfied: pydantic-core==2.16.2 in /usr/local/lib/python3.10/dist-packages (from pydantic<3,>=1.9.0->openai) (2.16.2)\n"
          ]
        }
      ]
    },
    {
      "cell_type": "code",
      "source": [
        "pip install llama_index[langchain]"
      ],
      "metadata": {
        "colab": {
          "base_uri": "https://localhost:8080/"
        },
        "id": "9ctd3dCCwLiy",
        "outputId": "464cfcaa-3646-4f3a-8b84-39dc28c4504c"
      },
      "execution_count": null,
      "outputs": [
        {
          "output_type": "stream",
          "name": "stdout",
          "text": [
            "Requirement already satisfied: llama_index[langchain] in /usr/local/lib/python3.10/dist-packages (0.9.46)\n",
            "Requirement already satisfied: SQLAlchemy[asyncio]>=1.4.49 in /usr/local/lib/python3.10/dist-packages (from llama_index[langchain]) (2.0.25)\n",
            "Requirement already satisfied: aiohttp<4.0.0,>=3.8.6 in /usr/local/lib/python3.10/dist-packages (from llama_index[langchain]) (3.9.3)\n",
            "Requirement already satisfied: dataclasses-json in /usr/local/lib/python3.10/dist-packages (from llama_index[langchain]) (0.6.4)\n",
            "Requirement already satisfied: deprecated>=1.2.9.3 in /usr/local/lib/python3.10/dist-packages (from llama_index[langchain]) (1.2.14)\n",
            "Requirement already satisfied: dirtyjson<2.0.0,>=1.0.8 in /usr/local/lib/python3.10/dist-packages (from llama_index[langchain]) (1.0.8)\n",
            "Requirement already satisfied: fsspec>=2023.5.0 in /usr/local/lib/python3.10/dist-packages (from llama_index[langchain]) (2023.6.0)\n",
            "Requirement already satisfied: httpx in /usr/local/lib/python3.10/dist-packages (from llama_index[langchain]) (0.26.0)\n",
            "Requirement already satisfied: nest-asyncio<2.0.0,>=1.5.8 in /usr/local/lib/python3.10/dist-packages (from llama_index[langchain]) (1.6.0)\n",
            "Requirement already satisfied: networkx>=3.0 in /usr/local/lib/python3.10/dist-packages (from llama_index[langchain]) (3.2.1)\n",
            "Requirement already satisfied: nltk<4.0.0,>=3.8.1 in /usr/local/lib/python3.10/dist-packages (from llama_index[langchain]) (3.8.1)\n",
            "Requirement already satisfied: numpy in /usr/local/lib/python3.10/dist-packages (from llama_index[langchain]) (1.23.5)\n",
            "Requirement already satisfied: openai>=1.1.0 in /usr/local/lib/python3.10/dist-packages (from llama_index[langchain]) (1.12.0)\n",
            "Requirement already satisfied: pandas in /usr/local/lib/python3.10/dist-packages (from llama_index[langchain]) (1.5.3)\n",
            "Requirement already satisfied: requests>=2.31.0 in /usr/local/lib/python3.10/dist-packages (from llama_index[langchain]) (2.31.0)\n",
            "Requirement already satisfied: tenacity<9.0.0,>=8.2.0 in /usr/local/lib/python3.10/dist-packages (from llama_index[langchain]) (8.2.3)\n",
            "Requirement already satisfied: tiktoken>=0.3.3 in /usr/local/lib/python3.10/dist-packages (from llama_index[langchain]) (0.6.0)\n",
            "Requirement already satisfied: typing-extensions>=4.5.0 in /usr/local/lib/python3.10/dist-packages (from llama_index[langchain]) (4.9.0)\n",
            "Requirement already satisfied: typing-inspect>=0.8.0 in /usr/local/lib/python3.10/dist-packages (from llama_index[langchain]) (0.9.0)\n",
            "Collecting langchain>=0.0.303 (from llama_index[langchain])\n",
            "  Downloading langchain-0.1.6-py3-none-any.whl (811 kB)\n",
            "\u001b[2K     \u001b[90m━━━━━━━━━━━━━━━━━━━━━━━━━━━━━━━━━━━━━━━━\u001b[0m \u001b[32m811.8/811.8 kB\u001b[0m \u001b[31m7.7 MB/s\u001b[0m eta \u001b[36m0:00:00\u001b[0m\n",
            "\u001b[?25hRequirement already satisfied: aiosignal>=1.1.2 in /usr/local/lib/python3.10/dist-packages (from aiohttp<4.0.0,>=3.8.6->llama_index[langchain]) (1.3.1)\n",
            "Requirement already satisfied: attrs>=17.3.0 in /usr/local/lib/python3.10/dist-packages (from aiohttp<4.0.0,>=3.8.6->llama_index[langchain]) (23.2.0)\n",
            "Requirement already satisfied: frozenlist>=1.1.1 in /usr/local/lib/python3.10/dist-packages (from aiohttp<4.0.0,>=3.8.6->llama_index[langchain]) (1.4.1)\n",
            "Requirement already satisfied: multidict<7.0,>=4.5 in /usr/local/lib/python3.10/dist-packages (from aiohttp<4.0.0,>=3.8.6->llama_index[langchain]) (6.0.5)\n",
            "Requirement already satisfied: yarl<2.0,>=1.0 in /usr/local/lib/python3.10/dist-packages (from aiohttp<4.0.0,>=3.8.6->llama_index[langchain]) (1.9.4)\n",
            "Requirement already satisfied: async-timeout<5.0,>=4.0 in /usr/local/lib/python3.10/dist-packages (from aiohttp<4.0.0,>=3.8.6->llama_index[langchain]) (4.0.3)\n",
            "Requirement already satisfied: wrapt<2,>=1.10 in /usr/local/lib/python3.10/dist-packages (from deprecated>=1.2.9.3->llama_index[langchain]) (1.14.1)\n",
            "Requirement already satisfied: PyYAML>=5.3 in /usr/local/lib/python3.10/dist-packages (from langchain>=0.0.303->llama_index[langchain]) (6.0.1)\n",
            "Collecting jsonpatch<2.0,>=1.33 (from langchain>=0.0.303->llama_index[langchain])\n",
            "  Downloading jsonpatch-1.33-py2.py3-none-any.whl (12 kB)\n",
            "Collecting langchain-community<0.1,>=0.0.18 (from langchain>=0.0.303->llama_index[langchain])\n",
            "  Downloading langchain_community-0.0.19-py3-none-any.whl (1.6 MB)\n",
            "\u001b[2K     \u001b[90m━━━━━━━━━━━━━━━━━━━━━━━━━━━━━━━━━━━━━━━━\u001b[0m \u001b[32m1.6/1.6 MB\u001b[0m \u001b[31m13.0 MB/s\u001b[0m eta \u001b[36m0:00:00\u001b[0m\n",
            "\u001b[?25hCollecting langchain-core<0.2,>=0.1.22 (from langchain>=0.0.303->llama_index[langchain])\n",
            "  Downloading langchain_core-0.1.22-py3-none-any.whl (239 kB)\n",
            "\u001b[2K     \u001b[90m━━━━━━━━━━━━━━━━━━━━━━━━━━━━━━━━━━━━━━━━\u001b[0m \u001b[32m239.4/239.4 kB\u001b[0m \u001b[31m12.3 MB/s\u001b[0m eta \u001b[36m0:00:00\u001b[0m\n",
            "\u001b[?25hCollecting langsmith<0.1,>=0.0.83 (from langchain>=0.0.303->llama_index[langchain])\n",
            "  Downloading langsmith-0.0.90-py3-none-any.whl (55 kB)\n",
            "\u001b[2K     \u001b[90m━━━━━━━━━━━━━━━━━━━━━━━━━━━━━━━━━━━━━━━━\u001b[0m \u001b[32m55.7/55.7 kB\u001b[0m \u001b[31m7.7 MB/s\u001b[0m eta \u001b[36m0:00:00\u001b[0m\n",
            "\u001b[?25hRequirement already satisfied: pydantic<3,>=1 in /usr/local/lib/python3.10/dist-packages (from langchain>=0.0.303->llama_index[langchain]) (2.6.1)\n",
            "Requirement already satisfied: marshmallow<4.0.0,>=3.18.0 in /usr/local/lib/python3.10/dist-packages (from dataclasses-json->llama_index[langchain]) (3.20.2)\n",
            "Requirement already satisfied: click in /usr/local/lib/python3.10/dist-packages (from nltk<4.0.0,>=3.8.1->llama_index[langchain]) (8.1.7)\n",
            "Requirement already satisfied: joblib in /usr/local/lib/python3.10/dist-packages (from nltk<4.0.0,>=3.8.1->llama_index[langchain]) (1.3.2)\n",
            "Requirement already satisfied: regex>=2021.8.3 in /usr/local/lib/python3.10/dist-packages (from nltk<4.0.0,>=3.8.1->llama_index[langchain]) (2023.12.25)\n",
            "Requirement already satisfied: tqdm in /usr/local/lib/python3.10/dist-packages (from nltk<4.0.0,>=3.8.1->llama_index[langchain]) (4.66.1)\n",
            "Requirement already satisfied: anyio<5,>=3.5.0 in /usr/local/lib/python3.10/dist-packages (from openai>=1.1.0->llama_index[langchain]) (3.7.1)\n",
            "Requirement already satisfied: distro<2,>=1.7.0 in /usr/lib/python3/dist-packages (from openai>=1.1.0->llama_index[langchain]) (1.7.0)\n",
            "Requirement already satisfied: sniffio in /usr/local/lib/python3.10/dist-packages (from openai>=1.1.0->llama_index[langchain]) (1.3.0)\n",
            "Requirement already satisfied: certifi in /usr/local/lib/python3.10/dist-packages (from httpx->llama_index[langchain]) (2024.2.2)\n",
            "Requirement already satisfied: httpcore==1.* in /usr/local/lib/python3.10/dist-packages (from httpx->llama_index[langchain]) (1.0.2)\n",
            "Requirement already satisfied: idna in /usr/local/lib/python3.10/dist-packages (from httpx->llama_index[langchain]) (3.6)\n",
            "Requirement already satisfied: h11<0.15,>=0.13 in /usr/local/lib/python3.10/dist-packages (from httpcore==1.*->httpx->llama_index[langchain]) (0.14.0)\n",
            "Requirement already satisfied: charset-normalizer<4,>=2 in /usr/local/lib/python3.10/dist-packages (from requests>=2.31.0->llama_index[langchain]) (3.3.2)\n",
            "Requirement already satisfied: urllib3<3,>=1.21.1 in /usr/local/lib/python3.10/dist-packages (from requests>=2.31.0->llama_index[langchain]) (2.0.7)\n",
            "Requirement already satisfied: greenlet!=0.4.17 in /usr/local/lib/python3.10/dist-packages (from SQLAlchemy[asyncio]>=1.4.49->llama_index[langchain]) (3.0.3)\n",
            "Requirement already satisfied: mypy-extensions>=0.3.0 in /usr/local/lib/python3.10/dist-packages (from typing-inspect>=0.8.0->llama_index[langchain]) (1.0.0)\n",
            "Requirement already satisfied: python-dateutil>=2.8.1 in /usr/local/lib/python3.10/dist-packages (from pandas->llama_index[langchain]) (2.8.2)\n",
            "Requirement already satisfied: pytz>=2020.1 in /usr/local/lib/python3.10/dist-packages (from pandas->llama_index[langchain]) (2023.4)\n",
            "Requirement already satisfied: exceptiongroup in /usr/local/lib/python3.10/dist-packages (from anyio<5,>=3.5.0->openai>=1.1.0->llama_index[langchain]) (1.2.0)\n",
            "Collecting jsonpointer>=1.9 (from jsonpatch<2.0,>=1.33->langchain>=0.0.303->llama_index[langchain])\n",
            "  Downloading jsonpointer-2.4-py2.py3-none-any.whl (7.8 kB)\n",
            "Collecting langsmith<0.1,>=0.0.83 (from langchain>=0.0.303->llama_index[langchain])\n",
            "  Downloading langsmith-0.0.87-py3-none-any.whl (55 kB)\n",
            "\u001b[2K     \u001b[90m━━━━━━━━━━━━━━━━━━━━━━━━━━━━━━━━━━━━━━━━\u001b[0m \u001b[32m55.4/55.4 kB\u001b[0m \u001b[31m6.7 MB/s\u001b[0m eta \u001b[36m0:00:00\u001b[0m\n",
            "\u001b[?25hRequirement already satisfied: packaging<24.0,>=23.2 in /usr/local/lib/python3.10/dist-packages (from langchain-core<0.2,>=0.1.22->langchain>=0.0.303->llama_index[langchain]) (23.2)\n",
            "Requirement already satisfied: annotated-types>=0.4.0 in /usr/local/lib/python3.10/dist-packages (from pydantic<3,>=1->langchain>=0.0.303->llama_index[langchain]) (0.6.0)\n",
            "Requirement already satisfied: pydantic-core==2.16.2 in /usr/local/lib/python3.10/dist-packages (from pydantic<3,>=1->langchain>=0.0.303->llama_index[langchain]) (2.16.2)\n",
            "Requirement already satisfied: six>=1.5 in /usr/local/lib/python3.10/dist-packages (from python-dateutil>=2.8.1->pandas->llama_index[langchain]) (1.16.0)\n",
            "Installing collected packages: jsonpointer, jsonpatch, langsmith, langchain-core, langchain-community, langchain\n",
            "Successfully installed jsonpatch-1.33 jsonpointer-2.4 langchain-0.1.6 langchain-community-0.0.19 langchain-core-0.1.22 langsmith-0.0.87\n"
          ]
        }
      ]
    },
    {
      "cell_type": "code",
      "source": [
        "from llama_index.llms import ChatMessage, OpenAI\n",
        "import os\n",
        "import openai"
      ],
      "metadata": {
        "id": "_CUMfboewRFV"
      },
      "execution_count": null,
      "outputs": []
    },
    {
      "cell_type": "code",
      "source": [
        "# Mount Google Drive\n",
        "from google.colab import drive\n",
        "drive.mount('/content/drive')"
      ],
      "metadata": {
        "colab": {
          "base_uri": "https://localhost:8080/"
        },
        "id": "gObqYvClwUJY",
        "outputId": "b2fdfd40-62dc-4658-eec2-0c4f0a0607c7"
      },
      "execution_count": null,
      "outputs": [
        {
          "output_type": "stream",
          "name": "stdout",
          "text": [
            "Drive already mounted at /content/drive; to attempt to forcibly remount, call drive.mount(\"/content/drive\", force_remount=True).\n"
          ]
        }
      ]
    },
    {
      "cell_type": "code",
      "source": [
        "# Set the API key\n",
        "filepath = \"/content/drive/MyDrive/LLaMa_Index_Session_CollabNotebook/\"\n",
        "with open(filepath + \"api_key.txt\", \"r\") as f:\n",
        "  openai.api_key = ' '.join(f.readlines())"
      ],
      "metadata": {
        "id": "c3paHLXXwYaa"
      },
      "execution_count": null,
      "outputs": []
    },
    {
      "cell_type": "code",
      "source": [
        "from llama_index import SimpleDirectoryReader\n",
        "reader = SimpleDirectoryReader(input_dir=\"/content/drive/MyDrive/LLaMa_Index_Session_CollabNotebook/Semantic_spotter\")"
      ],
      "metadata": {
        "id": "lVnzaz76wpCk"
      },
      "execution_count": null,
      "outputs": []
    },
    {
      "cell_type": "code",
      "source": [
        "?SimpleDirectoryReader"
      ],
      "metadata": {
        "id": "klS4pYEpxFXw"
      },
      "execution_count": null,
      "outputs": []
    },
    {
      "cell_type": "code",
      "source": [
        "documents = reader.load_data()\n",
        "print(f\"Loaded {len(documents)} docs\")"
      ],
      "metadata": {
        "colab": {
          "base_uri": "https://localhost:8080/"
        },
        "id": "FlDtKIrzxJPQ",
        "outputId": "3cb37e9d-947b-48e7-f667-2bed240566ec"
      },
      "execution_count": null,
      "outputs": [
        {
          "output_type": "stream",
          "name": "stdout",
          "text": [
            "Loaded 64 docs\n"
          ]
        }
      ]
    },
    {
      "cell_type": "code",
      "source": [
        "from llama_index.node_parser import SimpleNodeParser\n",
        "from llama_index import VectorStoreIndex\n",
        "from IPython.display import display, HTML\n",
        "\n",
        "# create parser and parse document into nodes\n",
        "parser = SimpleNodeParser.from_defaults()\n",
        "nodes = parser.get_nodes_from_documents(documents)\n",
        "\n",
        "# # build index\n",
        "index = VectorStoreIndex(nodes)\n",
        "\n",
        "# Construct Query Engine\n",
        "query_engine = index.as_query_engine(similarity_top_k = 4)"
      ],
      "metadata": {
        "id": "_jBUCEnPyTgU"
      },
      "execution_count": null,
      "outputs": []
    },
    {
      "cell_type": "code",
      "source": [
        "response = query_engine.query(\"What is the premium for life insurance?\")"
      ],
      "metadata": {
        "id": "2sMhzEexyWZR"
      },
      "execution_count": null,
      "outputs": []
    },
    {
      "cell_type": "code",
      "source": [
        "#Checking the response\n",
        "response.response"
      ],
      "metadata": {
        "colab": {
          "base_uri": "https://localhost:8080/",
          "height": 35
        },
        "id": "iaKioiQTyr4Y",
        "outputId": "7d9cb2e3-000d-402b-9080-352c0e4eef25"
      },
      "execution_count": null,
      "outputs": [
        {
          "output_type": "execute_result",
          "data": {
            "text/plain": [
              "'The premium for life insurance is $0.210 for each $1,000 of insurance in force.'"
            ],
            "application/vnd.google.colaboratory.intrinsic+json": {
              "type": "string"
            }
          },
          "metadata": {},
          "execution_count": 24
        }
      ]
    },
    {
      "cell_type": "code",
      "source": [
        "#Check the source node\n",
        "response.source_nodes[1]"
      ],
      "metadata": {
        "colab": {
          "base_uri": "https://localhost:8080/"
        },
        "id": "Fw3QseJsy5vd",
        "outputId": "41e448c6-b30b-48b1-ebca-19a30841b677"
      },
      "execution_count": null,
      "outputs": [
        {
          "output_type": "execute_result",
          "data": {
            "text/plain": [
              "NodeWithScore(node=TextNode(id_='9b249f6c-d0ab-48b6-a321-fc774df17ab8', embedding=None, metadata={'page_label': '20', 'file_name': 'Principal-Sample-Life-Insurance-Policy.pdf', 'file_path': '/content/drive/MyDrive/LLaMa_Index_Session_CollabNotebook/Semantic_spotter/Principal-Sample-Life-Insurance-Policy.pdf', 'file_type': 'application/pdf', 'file_size': 222772, 'creation_date': '2024-02-10', 'last_modified_date': '2024-01-13', 'last_accessed_date': '2024-02-10'}, excluded_embed_metadata_keys=['file_name', 'file_type', 'file_size', 'creation_date', 'last_modified_date', 'last_accessed_date'], excluded_llm_metadata_keys=['file_name', 'file_type', 'file_size', 'creation_date', 'last_modified_date', 'last_accessed_date'], relationships={<NodeRelationship.SOURCE: '1'>: RelatedNodeInfo(node_id='2aa12083-ff9b-484a-af30-c419176d7b63', node_type=<ObjectType.DOCUMENT: '4'>, metadata={'page_label': '20', 'file_name': 'Principal-Sample-Life-Insurance-Policy.pdf', 'file_path': '/content/drive/MyDrive/LLaMa_Index_Session_CollabNotebook/Semantic_spotter/Principal-Sample-Life-Insurance-Policy.pdf', 'file_type': 'application/pdf', 'file_size': 222772, 'creation_date': '2024-02-10', 'last_modified_date': '2024-01-13', 'last_accessed_date': '2024-02-10'}, hash='85cae4ddc123af4f348db6248df2cdca4df66b2a1fe2605bfc0f56ab4e75b0b5'), <NodeRelationship.PREVIOUS: '2'>: RelatedNodeInfo(node_id='d7cc0675-6d1c-4636-952a-9a2077053a76', node_type=<ObjectType.TEXT: '1'>, metadata={'page_label': '19', 'file_name': 'Principal-Sample-Life-Insurance-Policy.pdf', 'file_path': '/content/drive/MyDrive/LLaMa_Index_Session_CollabNotebook/Semantic_spotter/Principal-Sample-Life-Insurance-Policy.pdf', 'file_type': 'application/pdf', 'file_size': 222772, 'creation_date': '2024-02-10', 'last_modified_date': '2024-01-13', 'last_accessed_date': '2024-02-10'}, hash='2ba96d1a7be4daaa6712416714a9f2a0d4fb701645a51255c0ae5caf0c58f625'), <NodeRelationship.NEXT: '3'>: RelatedNodeInfo(node_id='f1e39a6a-3694-469f-8115-d72b35f1e018', node_type=<ObjectType.TEXT: '1'>, metadata={}, hash='a66962c23c4c9c23cd1984b85026082c1722d517dd9c5c5f08500d57264ebbce')}, text='This policy has been updated effective  January 1, 2014  \\n \\n \\nPART II - POLICY ADMINISTRATION  \\nGC 6004  Section B - Premiums, Page 1  \\n Section B -  Premiums  \\n \\n Article 1 - Payment Responsibility; Due Dates; Grace Period  \\n \\nThe Policyholder is responsible for collection and payment of all premiums due while this Group \\nPolicy is in force.  Payments must be sent to the home office of The Principal in Des Moines, Iowa.  \\n The first premium is due on the Date of Issue of this Group Policy.  Each premium thereafter will be due on the first of each Insurance Month.  Except for the first premium, a Grace Period of \\n31 days will be allowed for payment of premium.  \"Grace Period\" means the first 31- day period \\nfollowing a premium due date.  The Group Policy will remain in fo rce until the end of the Grace \\nPeriod, unless the Group Policy has been terminated by notice as described in PART II, Section C.  The Policyholder will be liable for payment of the premium for the time this Group Policy remains in force during the Grace Period.  \\n \\n \\nArticle 2 - Premium Rates  \\n \\nThe premium rate(s) for each Member insured for Life Insurance will be:  \\n \\na. Member Life Insurance  \\n$0.210 for each $1,000 of insurance in force.  \\n \\nb. Member Accidental Death and Dismemberment Insurance  \\n$0.025 for each $1,000 of Member Life Insurance in force.  \\n c. Dependent Life Insurance  \\n$1.46 for each Member insured for Dependent Life Insurance.  \\n If the Policyholder has at least two other eligible group insurance policies underwritten by The Principal, as determined b y The Principal, the Policyholder may be eligible for a multiple policy \\ndiscount.   \\nArticle 3 - Premium Rate Changes  \\n \\nThe Principal may change a premium rate:  \\n \\na. on any premium due date, if the initial premium rate has then been in force 24 months or more  and if Written notice is given to the Policyholder at least 31 days before the date of \\nchange; or', start_char_idx=17, end_char_idx=1951, text_template='{metadata_str}\\n\\n{content}', metadata_template='{key}: {value}', metadata_seperator='\\n'), score=0.8401891601555638)"
            ]
          },
          "metadata": {},
          "execution_count": 25
        }
      ]
    },
    {
      "cell_type": "code",
      "source": [
        "#Extract the file name and page number\n",
        "response.source_nodes[1].node.metadata['file_name'] + \" page no \" + response.source_nodes[1].node.metadata['page_label']"
      ],
      "metadata": {
        "colab": {
          "base_uri": "https://localhost:8080/",
          "height": 35
        },
        "id": "JI7kb3_Dy7xr",
        "outputId": "d65827c2-1882-45d8-89d2-8e5cb17725c3"
      },
      "execution_count": null,
      "outputs": [
        {
          "output_type": "execute_result",
          "data": {
            "text/plain": [
              "'Principal-Sample-Life-Insurance-Policy.pdf page no 20'"
            ],
            "application/vnd.google.colaboratory.intrinsic+json": {
              "type": "string"
            }
          },
          "metadata": {},
          "execution_count": 27
        }
      ]
    },
    {
      "cell_type": "code",
      "source": [
        "#Extract the score\n",
        "response.source_nodes[1].score"
      ],
      "metadata": {
        "colab": {
          "base_uri": "https://localhost:8080/"
        },
        "id": "9lC-L_EvzJpe",
        "outputId": "d4e0c835-340c-46c5-92ce-e78559b8d43b"
      },
      "execution_count": null,
      "outputs": [
        {
          "output_type": "execute_result",
          "data": {
            "text/plain": [
              "0.8401891601555638"
            ]
          },
          "metadata": {},
          "execution_count": 28
        }
      ]
    },
    {
      "cell_type": "code",
      "source": [
        "# Response node text\n",
        "response.source_nodes[1].node.text"
      ],
      "metadata": {
        "colab": {
          "base_uri": "https://localhost:8080/",
          "height": 174
        },
        "id": "bMqSd9JDzNbe",
        "outputId": "4e5fc7df-bf2d-4763-ad32-12dfaa12eb1e"
      },
      "execution_count": null,
      "outputs": [
        {
          "output_type": "execute_result",
          "data": {
            "text/plain": [
              "'This policy has been updated effective  January 1, 2014  \\n \\n \\nPART II - POLICY ADMINISTRATION  \\nGC 6004  Section B - Premiums, Page 1  \\n Section B -  Premiums  \\n \\n Article 1 - Payment Responsibility; Due Dates; Grace Period  \\n \\nThe Policyholder is responsible for collection and payment of all premiums due while this Group \\nPolicy is in force.  Payments must be sent to the home office of The Principal in Des Moines, Iowa.  \\n The first premium is due on the Date of Issue of this Group Policy.  Each premium thereafter will be due on the first of each Insurance Month.  Except for the first premium, a Grace Period of \\n31 days will be allowed for payment of premium.  \"Grace Period\" means the first 31- day period \\nfollowing a premium due date.  The Group Policy will remain in fo rce until the end of the Grace \\nPeriod, unless the Group Policy has been terminated by notice as described in PART II, Section C.  The Policyholder will be liable for payment of the premium for the time this Group Policy remains in force during the Grace Period.  \\n \\n \\nArticle 2 - Premium Rates  \\n \\nThe premium rate(s) for each Member insured for Life Insurance will be:  \\n \\na. Member Life Insurance  \\n$0.210 for each $1,000 of insurance in force.  \\n \\nb. Member Accidental Death and Dismemberment Insurance  \\n$0.025 for each $1,000 of Member Life Insurance in force.  \\n c. Dependent Life Insurance  \\n$1.46 for each Member insured for Dependent Life Insurance.  \\n If the Policyholder has at least two other eligible group insurance policies underwritten by The Principal, as determined b y The Principal, the Policyholder may be eligible for a multiple policy \\ndiscount.   \\nArticle 3 - Premium Rate Changes  \\n \\nThe Principal may change a premium rate:  \\n \\na. on any premium due date, if the initial premium rate has then been in force 24 months or more  and if Written notice is given to the Policyholder at least 31 days before the date of \\nchange; or'"
            ],
            "application/vnd.google.colaboratory.intrinsic+json": {
              "type": "string"
            }
          },
          "metadata": {},
          "execution_count": 29
        }
      ]
    },
    {
      "cell_type": "code",
      "source": [
        "## Query response function\n",
        "def query_response(user_input):\n",
        "  response = query_engine.query(user_input)\n",
        "  file_name = response.source_nodes[0].node.metadata['file_name'] + \" page nos \" + response.source_nodes[0].node.metadata['page_label'] + \",\" + response.source_nodes[1].node.metadata['page_label']\n",
        "  final_response = response.response + '\\n Check further at ' + file_name\n",
        "  return final_response"
      ],
      "metadata": {
        "id": "t9Ds7Rr9zQ-x"
      },
      "execution_count": null,
      "outputs": []
    },
    {
      "cell_type": "code",
      "source": [
        "def initialize_conv():\n",
        "  print('Feel free to ask Questions regarding the annual budget of 2024-25 Press exit once you are done')\n",
        "  while True:\n",
        "    user_input = input()\n",
        "    if user_input.lower() == 'exit':\n",
        "      print('Exiting the program... bye')\n",
        "      break\n",
        "    else:\n",
        "      response = query_response(user_input)\n",
        "      display(HTML(f'<p style=\"font-size:20px\">{response}</p>'))"
      ],
      "metadata": {
        "id": "E_07CNmFzUsH"
      },
      "execution_count": null,
      "outputs": []
    },
    {
      "cell_type": "code",
      "source": [
        "initialize_conv()"
      ],
      "metadata": {
        "colab": {
          "base_uri": "https://localhost:8080/",
          "height": 385
        },
        "id": "8mrfpETvzXIV",
        "outputId": "ac49ed60-a6e2-49b4-ecf9-d0e88f42cb54"
      },
      "execution_count": null,
      "outputs": [
        {
          "name": "stdout",
          "output_type": "stream",
          "text": [
            "Feel free to ask Questions regarding the annual budget of 2024-25 Press exit once you are done\n",
            "What is the premium for life insurance?\n"
          ]
        },
        {
          "output_type": "display_data",
          "data": {
            "text/plain": [
              "<IPython.core.display.HTML object>"
            ],
            "text/html": [
              "<p style=\"font-size:20px\">The premium for life insurance is $0.210 for each $1,000 of insurance in force.\n",
              " Check further at Principal-Sample-Life-Insurance-Policy.pdf page nos 21,20</p>"
            ]
          },
          "metadata": {}
        },
        {
          "name": "stdout",
          "output_type": "stream",
          "text": [
            "What is the premium for accidental death to be covered?\n"
          ]
        },
        {
          "output_type": "display_data",
          "data": {
            "text/plain": [
              "<IPython.core.display.HTML object>"
            ],
            "text/html": [
              "<p style=\"font-size:20px\">The context information does not provide any information about the premium for accidental death coverage.\n",
              " Check further at Principal-Sample-Life-Insurance-Policy.pdf page nos 54,53</p>"
            ]
          },
          "metadata": {}
        },
        {
          "name": "stdout",
          "output_type": "stream",
          "text": [
            "What is the grace period for the insurance paying term allowed?\n"
          ]
        },
        {
          "output_type": "display_data",
          "data": {
            "text/plain": [
              "<IPython.core.display.HTML object>"
            ],
            "text/html": [
              "<p style=\"font-size:20px\">The grace period for the insurance paying term allowed is 31 days.\n",
              " Check further at Principal-Sample-Life-Insurance-Policy.pdf page nos 23,20</p>"
            ]
          },
          "metadata": {}
        },
        {
          "name": "stdout",
          "output_type": "stream",
          "text": [
            "What is the benefit for members with accidental death ?\n"
          ]
        },
        {
          "output_type": "display_data",
          "data": {
            "text/plain": [
              "<IPython.core.display.HTML object>"
            ],
            "text/html": [
              "<p style=\"font-size:20px\">The benefit for members with accidental death is 100% of the Scheduled Benefit (or approved amount, if applicable) in force for loss of life.\n",
              " Check further at Principal-Sample-Life-Insurance-Policy.pdf page nos 54,55</p>"
            ]
          },
          "metadata": {}
        },
        {
          "output_type": "stream",
          "name": "stdout",
          "text": [
            "exit\n",
            "Exiting the program... bye\n"
          ]
        }
      ]
    },
    {
      "cell_type": "code",
      "source": [
        "questions = [\n",
        "    'What is the premium for life insurance?',\n",
        "    'What is the premium for accidental death to be covered?',\n",
        "    'What is the grace period for the insurance paying term allowed?',\n",
        "    'What is the benefit for members with accidental death?'\n",
        "]\n"
      ],
      "metadata": {
        "id": "HxjdXFxzzxdL"
      },
      "execution_count": null,
      "outputs": []
    },
    {
      "cell_type": "code",
      "source": [
        "def testing_pipeline(questions):\n",
        "  test_feedback  = []\n",
        "  for i in questions:\n",
        "    print(i)\n",
        "    print(query_response(i))\n",
        "    print('\\n Please provide your feedback on the response provided by the bot')\n",
        "    user_input = input()\n",
        "    page = query_response(i).split()[-1]\n",
        "    test_feedback.append((i,query_response(i),page,user_input))\n",
        "\n",
        "  feedback_df = pd.DataFrame(test_feedback, columns =['Question', 'Response', 'Page','Good or Bad'])\n",
        "  return feedback_df"
      ],
      "metadata": {
        "id": "Vj4JFIw90beu"
      },
      "execution_count": null,
      "outputs": []
    },
    {
      "cell_type": "code",
      "source": [
        "import pandas as pd"
      ],
      "metadata": {
        "id": "ZRaa0CQS0fp9"
      },
      "execution_count": null,
      "outputs": []
    },
    {
      "cell_type": "code",
      "source": [
        "testing_pipeline(questions)"
      ],
      "metadata": {
        "colab": {
          "base_uri": "https://localhost:8080/",
          "height": 611
        },
        "id": "kGDj6b_Q0h_8",
        "outputId": "358f318e-6dc5-4659-9623-605dd9477891"
      },
      "execution_count": null,
      "outputs": [
        {
          "name": "stdout",
          "output_type": "stream",
          "text": [
            "What is the premium for life insurance?\n",
            "The premium for life insurance is $0.210 for each $1,000 of insurance in force.\n",
            " Check further at Principal-Sample-Life-Insurance-Policy.pdf page nos 21,20\n",
            "\n",
            " Please provide your feedback on the response provided by the bot\n",
            "Good\n",
            "What is the premium for accidental death to be covered?\n",
            "I'm sorry, but the context information provided does not mention anything about the premium for accidental death coverage.\n",
            " Check further at Principal-Sample-Life-Insurance-Policy.pdf page nos 54,53\n",
            "\n",
            " Please provide your feedback on the response provided by the bot\n",
            "Bad\n",
            "What is the grace period for the insurance paying term allowed?\n",
            "The grace period for the insurance paying term allowed is 31 days.\n",
            " Check further at Principal-Sample-Life-Insurance-Policy.pdf page nos 23,20\n",
            "\n",
            " Please provide your feedback on the response provided by the bot\n",
            "Good\n",
            "What is the benefit for members with accidental death?\n",
            "The benefit for members with accidental death is 100% of the Scheduled Benefit (or approved amount, if applicable) in force for loss of life.\n",
            " Check further at Principal-Sample-Life-Insurance-Policy.pdf page nos 54,55\n",
            "\n",
            " Please provide your feedback on the response provided by the bot\n",
            "Good\n"
          ]
        },
        {
          "output_type": "execute_result",
          "data": {
            "text/plain": [
              "                                            Question  \\\n",
              "0            What is the premium for life insurance?   \n",
              "1  What is the premium for accidental death to be...   \n",
              "2  What is the grace period for the insurance pay...   \n",
              "3  What is the benefit for members with accidenta...   \n",
              "\n",
              "                                            Response   Page Good or Bad  \n",
              "0  The premium for life insurance is $0.210 for e...  21,20        Good  \n",
              "1  The context information does not provide any i...  54,53         Bad  \n",
              "2  The grace period for the insurance paying term...  23,20        Good  \n",
              "3  The benefit for members with accidental death ...  54,55        Good  "
            ],
            "text/html": [
              "\n",
              "  <div id=\"df-cc814c21-4e1b-4e5d-92fc-87b17ff6e0e6\" class=\"colab-df-container\">\n",
              "    <div>\n",
              "<style scoped>\n",
              "    .dataframe tbody tr th:only-of-type {\n",
              "        vertical-align: middle;\n",
              "    }\n",
              "\n",
              "    .dataframe tbody tr th {\n",
              "        vertical-align: top;\n",
              "    }\n",
              "\n",
              "    .dataframe thead th {\n",
              "        text-align: right;\n",
              "    }\n",
              "</style>\n",
              "<table border=\"1\" class=\"dataframe\">\n",
              "  <thead>\n",
              "    <tr style=\"text-align: right;\">\n",
              "      <th></th>\n",
              "      <th>Question</th>\n",
              "      <th>Response</th>\n",
              "      <th>Page</th>\n",
              "      <th>Good or Bad</th>\n",
              "    </tr>\n",
              "  </thead>\n",
              "  <tbody>\n",
              "    <tr>\n",
              "      <th>0</th>\n",
              "      <td>What is the premium for life insurance?</td>\n",
              "      <td>The premium for life insurance is $0.210 for e...</td>\n",
              "      <td>21,20</td>\n",
              "      <td>Good</td>\n",
              "    </tr>\n",
              "    <tr>\n",
              "      <th>1</th>\n",
              "      <td>What is the premium for accidental death to be...</td>\n",
              "      <td>The context information does not provide any i...</td>\n",
              "      <td>54,53</td>\n",
              "      <td>Bad</td>\n",
              "    </tr>\n",
              "    <tr>\n",
              "      <th>2</th>\n",
              "      <td>What is the grace period for the insurance pay...</td>\n",
              "      <td>The grace period for the insurance paying term...</td>\n",
              "      <td>23,20</td>\n",
              "      <td>Good</td>\n",
              "    </tr>\n",
              "    <tr>\n",
              "      <th>3</th>\n",
              "      <td>What is the benefit for members with accidenta...</td>\n",
              "      <td>The benefit for members with accidental death ...</td>\n",
              "      <td>54,55</td>\n",
              "      <td>Good</td>\n",
              "    </tr>\n",
              "  </tbody>\n",
              "</table>\n",
              "</div>\n",
              "    <div class=\"colab-df-buttons\">\n",
              "\n",
              "  <div class=\"colab-df-container\">\n",
              "    <button class=\"colab-df-convert\" onclick=\"convertToInteractive('df-cc814c21-4e1b-4e5d-92fc-87b17ff6e0e6')\"\n",
              "            title=\"Convert this dataframe to an interactive table.\"\n",
              "            style=\"display:none;\">\n",
              "\n",
              "  <svg xmlns=\"http://www.w3.org/2000/svg\" height=\"24px\" viewBox=\"0 -960 960 960\">\n",
              "    <path d=\"M120-120v-720h720v720H120Zm60-500h600v-160H180v160Zm220 220h160v-160H400v160Zm0 220h160v-160H400v160ZM180-400h160v-160H180v160Zm440 0h160v-160H620v160ZM180-180h160v-160H180v160Zm440 0h160v-160H620v160Z\"/>\n",
              "  </svg>\n",
              "    </button>\n",
              "\n",
              "  <style>\n",
              "    .colab-df-container {\n",
              "      display:flex;\n",
              "      gap: 12px;\n",
              "    }\n",
              "\n",
              "    .colab-df-convert {\n",
              "      background-color: #E8F0FE;\n",
              "      border: none;\n",
              "      border-radius: 50%;\n",
              "      cursor: pointer;\n",
              "      display: none;\n",
              "      fill: #1967D2;\n",
              "      height: 32px;\n",
              "      padding: 0 0 0 0;\n",
              "      width: 32px;\n",
              "    }\n",
              "\n",
              "    .colab-df-convert:hover {\n",
              "      background-color: #E2EBFA;\n",
              "      box-shadow: 0px 1px 2px rgba(60, 64, 67, 0.3), 0px 1px 3px 1px rgba(60, 64, 67, 0.15);\n",
              "      fill: #174EA6;\n",
              "    }\n",
              "\n",
              "    .colab-df-buttons div {\n",
              "      margin-bottom: 4px;\n",
              "    }\n",
              "\n",
              "    [theme=dark] .colab-df-convert {\n",
              "      background-color: #3B4455;\n",
              "      fill: #D2E3FC;\n",
              "    }\n",
              "\n",
              "    [theme=dark] .colab-df-convert:hover {\n",
              "      background-color: #434B5C;\n",
              "      box-shadow: 0px 1px 3px 1px rgba(0, 0, 0, 0.15);\n",
              "      filter: drop-shadow(0px 1px 2px rgba(0, 0, 0, 0.3));\n",
              "      fill: #FFFFFF;\n",
              "    }\n",
              "  </style>\n",
              "\n",
              "    <script>\n",
              "      const buttonEl =\n",
              "        document.querySelector('#df-cc814c21-4e1b-4e5d-92fc-87b17ff6e0e6 button.colab-df-convert');\n",
              "      buttonEl.style.display =\n",
              "        google.colab.kernel.accessAllowed ? 'block' : 'none';\n",
              "\n",
              "      async function convertToInteractive(key) {\n",
              "        const element = document.querySelector('#df-cc814c21-4e1b-4e5d-92fc-87b17ff6e0e6');\n",
              "        const dataTable =\n",
              "          await google.colab.kernel.invokeFunction('convertToInteractive',\n",
              "                                                    [key], {});\n",
              "        if (!dataTable) return;\n",
              "\n",
              "        const docLinkHtml = 'Like what you see? Visit the ' +\n",
              "          '<a target=\"_blank\" href=https://colab.research.google.com/notebooks/data_table.ipynb>data table notebook</a>'\n",
              "          + ' to learn more about interactive tables.';\n",
              "        element.innerHTML = '';\n",
              "        dataTable['output_type'] = 'display_data';\n",
              "        await google.colab.output.renderOutput(dataTable, element);\n",
              "        const docLink = document.createElement('div');\n",
              "        docLink.innerHTML = docLinkHtml;\n",
              "        element.appendChild(docLink);\n",
              "      }\n",
              "    </script>\n",
              "  </div>\n",
              "\n",
              "\n",
              "<div id=\"df-9db935c3-ac97-4ce0-9b23-c281c99eabdb\">\n",
              "  <button class=\"colab-df-quickchart\" onclick=\"quickchart('df-9db935c3-ac97-4ce0-9b23-c281c99eabdb')\"\n",
              "            title=\"Suggest charts\"\n",
              "            style=\"display:none;\">\n",
              "\n",
              "<svg xmlns=\"http://www.w3.org/2000/svg\" height=\"24px\"viewBox=\"0 0 24 24\"\n",
              "     width=\"24px\">\n",
              "    <g>\n",
              "        <path d=\"M19 3H5c-1.1 0-2 .9-2 2v14c0 1.1.9 2 2 2h14c1.1 0 2-.9 2-2V5c0-1.1-.9-2-2-2zM9 17H7v-7h2v7zm4 0h-2V7h2v10zm4 0h-2v-4h2v4z\"/>\n",
              "    </g>\n",
              "</svg>\n",
              "  </button>\n",
              "\n",
              "<style>\n",
              "  .colab-df-quickchart {\n",
              "      --bg-color: #E8F0FE;\n",
              "      --fill-color: #1967D2;\n",
              "      --hover-bg-color: #E2EBFA;\n",
              "      --hover-fill-color: #174EA6;\n",
              "      --disabled-fill-color: #AAA;\n",
              "      --disabled-bg-color: #DDD;\n",
              "  }\n",
              "\n",
              "  [theme=dark] .colab-df-quickchart {\n",
              "      --bg-color: #3B4455;\n",
              "      --fill-color: #D2E3FC;\n",
              "      --hover-bg-color: #434B5C;\n",
              "      --hover-fill-color: #FFFFFF;\n",
              "      --disabled-bg-color: #3B4455;\n",
              "      --disabled-fill-color: #666;\n",
              "  }\n",
              "\n",
              "  .colab-df-quickchart {\n",
              "    background-color: var(--bg-color);\n",
              "    border: none;\n",
              "    border-radius: 50%;\n",
              "    cursor: pointer;\n",
              "    display: none;\n",
              "    fill: var(--fill-color);\n",
              "    height: 32px;\n",
              "    padding: 0;\n",
              "    width: 32px;\n",
              "  }\n",
              "\n",
              "  .colab-df-quickchart:hover {\n",
              "    background-color: var(--hover-bg-color);\n",
              "    box-shadow: 0 1px 2px rgba(60, 64, 67, 0.3), 0 1px 3px 1px rgba(60, 64, 67, 0.15);\n",
              "    fill: var(--button-hover-fill-color);\n",
              "  }\n",
              "\n",
              "  .colab-df-quickchart-complete:disabled,\n",
              "  .colab-df-quickchart-complete:disabled:hover {\n",
              "    background-color: var(--disabled-bg-color);\n",
              "    fill: var(--disabled-fill-color);\n",
              "    box-shadow: none;\n",
              "  }\n",
              "\n",
              "  .colab-df-spinner {\n",
              "    border: 2px solid var(--fill-color);\n",
              "    border-color: transparent;\n",
              "    border-bottom-color: var(--fill-color);\n",
              "    animation:\n",
              "      spin 1s steps(1) infinite;\n",
              "  }\n",
              "\n",
              "  @keyframes spin {\n",
              "    0% {\n",
              "      border-color: transparent;\n",
              "      border-bottom-color: var(--fill-color);\n",
              "      border-left-color: var(--fill-color);\n",
              "    }\n",
              "    20% {\n",
              "      border-color: transparent;\n",
              "      border-left-color: var(--fill-color);\n",
              "      border-top-color: var(--fill-color);\n",
              "    }\n",
              "    30% {\n",
              "      border-color: transparent;\n",
              "      border-left-color: var(--fill-color);\n",
              "      border-top-color: var(--fill-color);\n",
              "      border-right-color: var(--fill-color);\n",
              "    }\n",
              "    40% {\n",
              "      border-color: transparent;\n",
              "      border-right-color: var(--fill-color);\n",
              "      border-top-color: var(--fill-color);\n",
              "    }\n",
              "    60% {\n",
              "      border-color: transparent;\n",
              "      border-right-color: var(--fill-color);\n",
              "    }\n",
              "    80% {\n",
              "      border-color: transparent;\n",
              "      border-right-color: var(--fill-color);\n",
              "      border-bottom-color: var(--fill-color);\n",
              "    }\n",
              "    90% {\n",
              "      border-color: transparent;\n",
              "      border-bottom-color: var(--fill-color);\n",
              "    }\n",
              "  }\n",
              "</style>\n",
              "\n",
              "  <script>\n",
              "    async function quickchart(key) {\n",
              "      const quickchartButtonEl =\n",
              "        document.querySelector('#' + key + ' button');\n",
              "      quickchartButtonEl.disabled = true;  // To prevent multiple clicks.\n",
              "      quickchartButtonEl.classList.add('colab-df-spinner');\n",
              "      try {\n",
              "        const charts = await google.colab.kernel.invokeFunction(\n",
              "            'suggestCharts', [key], {});\n",
              "      } catch (error) {\n",
              "        console.error('Error during call to suggestCharts:', error);\n",
              "      }\n",
              "      quickchartButtonEl.classList.remove('colab-df-spinner');\n",
              "      quickchartButtonEl.classList.add('colab-df-quickchart-complete');\n",
              "    }\n",
              "    (() => {\n",
              "      let quickchartButtonEl =\n",
              "        document.querySelector('#df-9db935c3-ac97-4ce0-9b23-c281c99eabdb button');\n",
              "      quickchartButtonEl.style.display =\n",
              "        google.colab.kernel.accessAllowed ? 'block' : 'none';\n",
              "    })();\n",
              "  </script>\n",
              "</div>\n",
              "\n",
              "    </div>\n",
              "  </div>\n"
            ]
          },
          "metadata": {},
          "execution_count": 39
        }
      ]
    },
    {
      "cell_type": "code",
      "source": [
        "response = query_engine.query(\"What is the premium for accidental death to be covered?\")"
      ],
      "metadata": {
        "id": "AeQFXQD-0ynm"
      },
      "execution_count": null,
      "outputs": []
    },
    {
      "cell_type": "code",
      "source": [
        "response.response"
      ],
      "metadata": {
        "colab": {
          "base_uri": "https://localhost:8080/",
          "height": 35
        },
        "id": "-4zcVmoR1KT5",
        "outputId": "4c6fea33-82e9-47ac-fced-aeba4cf90345"
      },
      "execution_count": null,
      "outputs": [
        {
          "output_type": "execute_result",
          "data": {
            "text/plain": [
              "'The context information does not provide any information about the premium for accidental death coverage.'"
            ],
            "application/vnd.google.colaboratory.intrinsic+json": {
              "type": "string"
            }
          },
          "metadata": {},
          "execution_count": 41
        }
      ]
    },
    {
      "cell_type": "code",
      "source": [
        "response.source_nodes[3]"
      ],
      "metadata": {
        "colab": {
          "base_uri": "https://localhost:8080/"
        },
        "id": "ohbjdUQC1M8o",
        "outputId": "d9db4ea3-455f-42fd-b715-3eb807b73d7e"
      },
      "execution_count": null,
      "outputs": [
        {
          "output_type": "execute_result",
          "data": {
            "text/plain": [
              "NodeWithScore(node=TextNode(id_='31ba54bd-4229-47cf-8b31-6c49571fd3ce', embedding=None, metadata={'page_label': '55', 'file_name': 'Principal-Sample-Life-Insurance-Policy.pdf', 'file_path': '/content/drive/MyDrive/LLaMa_Index_Session_CollabNotebook/Semantic_spotter/Principal-Sample-Life-Insurance-Policy.pdf', 'file_type': 'application/pdf', 'file_size': 222772, 'creation_date': '2024-02-10', 'last_modified_date': '2024-01-13', 'last_accessed_date': '2024-02-10'}, excluded_embed_metadata_keys=['file_name', 'file_type', 'file_size', 'creation_date', 'last_modified_date', 'last_accessed_date'], excluded_llm_metadata_keys=['file_name', 'file_type', 'file_size', 'creation_date', 'last_modified_date', 'last_accessed_date'], relationships={<NodeRelationship.SOURCE: '1'>: RelatedNodeInfo(node_id='42acaff5-9f40-43df-9172-a7a4322a8899', node_type=<ObjectType.DOCUMENT: '4'>, metadata={'page_label': '55', 'file_name': 'Principal-Sample-Life-Insurance-Policy.pdf', 'file_path': '/content/drive/MyDrive/LLaMa_Index_Session_CollabNotebook/Semantic_spotter/Principal-Sample-Life-Insurance-Policy.pdf', 'file_type': 'application/pdf', 'file_size': 222772, 'creation_date': '2024-02-10', 'last_modified_date': '2024-01-13', 'last_accessed_date': '2024-02-10'}, hash='c8931859736c1c785b23428f06df988a74d309587827600a9845e3c19ef20e00'), <NodeRelationship.PREVIOUS: '2'>: RelatedNodeInfo(node_id='ebf22946-7c57-4dfc-9f16-5326441af406', node_type=<ObjectType.TEXT: '1'>, metadata={'page_label': '54', 'file_name': 'Principal-Sample-Life-Insurance-Policy.pdf', 'file_path': '/content/drive/MyDrive/LLaMa_Index_Session_CollabNotebook/Semantic_spotter/Principal-Sample-Life-Insurance-Policy.pdf', 'file_type': 'application/pdf', 'file_size': 222772, 'creation_date': '2024-02-10', 'last_modified_date': '2024-01-13', 'last_accessed_date': '2024-02-10'}, hash='a843884b73616309750a6e6c9e04b6edc762c1b4de12bd04eba17676be9752bf'), <NodeRelationship.NEXT: '3'>: RelatedNodeInfo(node_id='3bdb498e-d236-4c51-9a93-5d520e8e28a2', node_type=<ObjectType.TEXT: '1'>, metadata={}, hash='075483786e74a829169eb8eb2cc2cc4a07f1c8223a12c36b52120dfb0ed8ac22')}, text='This policy has been updated effective  January 1, 2014  \\n \\n      PART IV - BENEFITS  \\nGC 6015  Section B - Member Accidental Death and \\nDismemberment Insurance, Page 3  \\n  \\nExposure  \\n \\nExposure to the elements will be presumed to be an injury if:  \\n \\na. such exposure is due to an accidental bodily injury; and  \\n b. within 365 days after the injury, the Member incurs a loss that is the result of the exposure; and \\n c. this Group Policy would have covered the injury resulting from the accident. \\n  \\nArticle 4 - Seat Belt/Airbag Benefit   \\n \\nIf the Member loses his or her life as a result of an acciden tal injury sustained while driving or \\nriding in an Automobile, an additional benefit of $10,000 will be paid to the beneficiary named \\nfor Member Life Insurance, provided all Benefit Qualifications as described in Article 2 are met \\nand: \\n a. the Automobile i s equipped with factory -installed Seat Belts; and  \\n b. the Seat Belt was in actual use by the Member and properly fastened at the time of the accident; and  \\n \\nc. the position of the Seat Belt is certified in the official report of the accident or by the inves tigating officer.  \\n This additional benefit payment will also apply if the Member was driving an Automobile equipped with a properly functioning driver -side air bag or riding as a passenger in an \\nAutomobile equipped with a properly functioning passenger -side air bag, although the Member\\'s \\nSeat Belt may not have been fastened at the time of the accident.  The properly functioning and/or deployment of the air bag must be certified in the official report of the accident or by the investigating officer.  \\n For the purpose of this benefit, \"Automobile\" means a four -wheel passenger vehicle, station \\nwagon, pick- up truck, or van- type vehicle, but excludes recreational -type vehicles such as a \\n\"dune -buggy\" or an \"all -terrain\" vehicle.  \\n The term \"Seat Belt\" m eans a factory -installed device that forms an occupant restraint and injury \\navoidance system.  \\n  \\nArticle 5 - Loss of Use or Paralysis Benefit', start_char_idx=20, end_char_idx=2071, text_template='{metadata_str}\\n\\n{content}', metadata_template='{key}: {value}', metadata_seperator='\\n'), score=0.8485778185252555)"
            ]
          },
          "metadata": {},
          "execution_count": 42
        }
      ]
    },
    {
      "cell_type": "code",
      "source": [
        "response.source_nodes[1].node.text"
      ],
      "metadata": {
        "colab": {
          "base_uri": "https://localhost:8080/",
          "height": 174
        },
        "id": "FZdr1uEX1tpB",
        "outputId": "eb614ce6-8e7f-4069-a89f-1a19211f1458"
      },
      "execution_count": null,
      "outputs": [
        {
          "output_type": "execute_result",
          "data": {
            "text/plain": [
              "\"This policy has been updated effective  January 1, 2014  \\n \\n      PART IV - BENEFITS  \\nGC 6015  Section B - Member Accidental Death and \\nDismemberment Insurance, Page 1  \\n Section B -  Member Accidental Death and Dismemberment Insurance  \\n \\n Article 1 - Schedule of Insurance  \\n \\nSubject to the Effective Date provisions of PART III, Section B, and the qualifying provisions of \\nthis Section B, the Scheduled Benefit for an insured Member will be based on his or her class:  \\n \\nClass  *Scheduled Benefit  \\n  \\nALL MEMBERS  $10,000  \\n  *The Scheduled Benefit is subject to the Proof of Good Health requirements as shown in PART III, Section B, Article 1.  Because of the Proof of Good Health requirements, the amount of insurance approved by The Principal may be different than the Scheduled Benefit.  If the approved amount of insurance is different than the Scheduled Benefit, the approved amount will \\napply.  \\n \\nFor the age(s) shown below, the amount of a Member's insurance will be the percentage of the Scheduled Benefit (or approved amount, if a pplicable) as shown below.  \\n \\n \\n Age % of Scheduled Benefit (or approved  \\namount, whichever applies)  \\n Age 70 but less than age 75  65% \\n Age 75 and over  45% \\n   \\nArticle 2 - Benefit Qualification  \\n \\nTo qualify for benefit payment, all of the following must occur:  \\n \\na. the Member must be injured while insured for Member Accidental Death and Dismemberment Insurance under this Group Policy; and  \\n b. the injury must be through external, violent, and accidental means; and  \\n c. the injury must be the direct and sole cause of a loss listed in this Section B, Article 3; and  \\n d. the loss must occur within 365 days of the injury; and \\n e. the limitations listed in this Section B, Article 9, must not apply; and\""
            ],
            "application/vnd.google.colaboratory.intrinsic+json": {
              "type": "string"
            }
          },
          "metadata": {},
          "execution_count": 43
        }
      ]
    },
    {
      "cell_type": "code",
      "source": [
        "retrieved = response.source_nodes[0].node.text + response.source_nodes[1].node.text + response.source_nodes[2].node.text + response.source_nodes[3].node.text"
      ],
      "metadata": {
        "id": "vg6xmRUr1zO7"
      },
      "execution_count": null,
      "outputs": []
    },
    {
      "cell_type": "code",
      "source": [
        "messages = [\n",
        "    {\"role\":\"system\", \"content\":\"You are an AI assistant to user.\"},\n",
        "    {\"role\":\"user\", \"content\":f\"\"\"What is the premium for accidental death to be covered? Check in '{retrieved}' \"\"\"},\n",
        "          ]"
      ],
      "metadata": {
        "id": "ta9DNR3a11k2"
      },
      "execution_count": null,
      "outputs": []
    },
    {
      "cell_type": "code",
      "source": [
        "response2 = openai.chat.completions.create(\n",
        "        model=\"gpt-3.5-turbo\",\n",
        "        messages=messages)\n",
        "response2.choices[0].message.content"
      ],
      "metadata": {
        "colab": {
          "base_uri": "https://localhost:8080/",
          "height": 70
        },
        "id": "W4hPXhd019jI",
        "outputId": "680d2d47-ff69-4118-b0b7-3f37e37e6bf3"
      },
      "execution_count": null,
      "outputs": [
        {
          "output_type": "execute_result",
          "data": {
            "text/plain": [
              "'The premium for accidental death coverage is not provided in the information you provided. It only outlines the benefits that will be payable in the event of accidental death or dismemberment. To determine the premium, you would need to contact the insurance provider or refer to the insurance policy documents.'"
            ],
            "application/vnd.google.colaboratory.intrinsic+json": {
              "type": "string"
            }
          },
          "metadata": {},
          "execution_count": 46
        }
      ]
    },
    {
      "cell_type": "code",
      "source": [
        "# Import necessary libraries and modules\n",
        "from llama_index import ServiceContext, LLMPredictor, OpenAIEmbedding, PromptHelper\n",
        "from llama_index.llms import OpenAI\n",
        "from llama_index.langchain_helpers.text_splitter import TokenTextSplitter\n",
        "from llama_index.node_parser import SimpleNodeParser\n",
        "\n",
        "# Initialize an LLMPredictor object with a specific OpenAI model and settings\n",
        "llm = OpenAI(model='gpt-3.5-turbo', temperature=0, max_tokens=256)\n",
        "\n",
        "# Initialize an OpenAIEmbedding model\n",
        "embed_model = OpenAIEmbedding()\n",
        "\n",
        "# Initialize a SimpleNodeParser with custom chunking settings\n",
        "node_parser = SimpleNodeParser.from_defaults(chunk_size=2000, chunk_overlap=50)\n",
        "\n",
        "# Initialize a PromptHelper with specific context and output settings\n",
        "prompt_helper = PromptHelper(\n",
        "  context_window=4096,\n",
        "  num_output=512,\n",
        "  chunk_overlap_ratio=0.1,\n",
        ")\n",
        "\n",
        "# Create a ServiceContext by combining the above components\n",
        "service_context = ServiceContext.from_defaults(\n",
        "  llm=llm,\n",
        "  embed_model=embed_model,\n",
        "  node_parser=node_parser,\n",
        "  prompt_helper=prompt_helper\n",
        ")\n",
        "\n",
        "# Create a VectorStoreIndex from a list of documents using the service context\n",
        "index = VectorStoreIndex.from_documents(documents, service_context=service_context)\n",
        "\n",
        "# Initialize a query engine for the index with a specified similarity top-k value\n",
        "query_engine = index.as_query_engine(similarity_top_k=3)\n",
        "\n",
        "# Query the engine with a specific question\n",
        "response = query_engine.query(\"What is the premium for accidental death to be covered?\")\n",
        "\n",
        "# Display the synthesized response with HTML formatting\n",
        "display(HTML(f'<p style=\"font-size:20px\">{response.response}</p>'))"
      ],
      "metadata": {
        "colab": {
          "base_uri": "https://localhost:8080/",
          "height": 54
        },
        "id": "XYsZKNC62LON",
        "outputId": "9089907b-a377-41f2-c80f-76f1702b8a6f"
      },
      "execution_count": null,
      "outputs": [
        {
          "output_type": "display_data",
          "data": {
            "text/plain": [
              "<IPython.core.display.HTML object>"
            ],
            "text/html": [
              "<p style=\"font-size:20px\">The context information does not provide any information about the premium for accidental death coverage.</p>"
            ]
          },
          "metadata": {}
        }
      ]
    }
  ]
}